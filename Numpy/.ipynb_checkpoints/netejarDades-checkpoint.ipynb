{
 "cells": [
  {
   "cell_type": "code",
   "execution_count": 1,
   "id": "8f77f4b5",
   "metadata": {},
   "outputs": [],
   "source": [
    "import numpy as np"
   ]
  },
  {
   "cell_type": "code",
   "execution_count": 2,
   "id": "1ab039e5",
   "metadata": {},
   "outputs": [],
   "source": [
    "array = np.array([1,2,np.nan,4,5])"
   ]
  },
  {
   "cell_type": "code",
   "execution_count": 3,
   "id": "5c3c135e",
   "metadata": {},
   "outputs": [
    {
     "data": {
      "text/plain": [
       "array([ 1.,  2., nan,  4.,  5.])"
      ]
     },
     "execution_count": 3,
     "metadata": {},
     "output_type": "execute_result"
    }
   ],
   "source": [
    "array"
   ]
  },
  {
   "cell_type": "code",
   "execution_count": 8,
   "id": "4b594e45",
   "metadata": {},
   "outputs": [
    {
     "data": {
      "text/plain": [
       "array([False, False,  True, False, False])"
      ]
     },
     "execution_count": 8,
     "metadata": {},
     "output_type": "execute_result"
    }
   ],
   "source": [
    "np.isnan(array)"
   ]
  },
  {
   "cell_type": "code",
   "execution_count": 9,
   "id": "33ddac32",
   "metadata": {},
   "outputs": [
    {
     "data": {
      "text/plain": [
       "nan"
      ]
     },
     "execution_count": 9,
     "metadata": {},
     "output_type": "execute_result"
    }
   ],
   "source": [
    "np.mean(array)"
   ]
  },
  {
   "cell_type": "code",
   "execution_count": 10,
   "id": "35b68b65",
   "metadata": {},
   "outputs": [
    {
     "data": {
      "text/plain": [
       "3.0"
      ]
     },
     "execution_count": 10,
     "metadata": {},
     "output_type": "execute_result"
    }
   ],
   "source": [
    "np.nanmean(array)"
   ]
  },
  {
   "cell_type": "code",
   "execution_count": 11,
   "id": "a0428d7c",
   "metadata": {},
   "outputs": [],
   "source": [
    "array_con_cero = np.where(np.isnan(array),0,array)"
   ]
  },
  {
   "cell_type": "code",
   "execution_count": 12,
   "id": "2cd1e5a3",
   "metadata": {},
   "outputs": [
    {
     "data": {
      "text/plain": [
       "array([1., 2., 0., 4., 5.])"
      ]
     },
     "execution_count": 12,
     "metadata": {},
     "output_type": "execute_result"
    }
   ],
   "source": [
    "array_con_cero"
   ]
  },
  {
   "cell_type": "code",
   "execution_count": 13,
   "id": "38b17f50",
   "metadata": {},
   "outputs": [
    {
     "data": {
      "text/plain": [
       "array([1., 2., 3., 4., 5.])"
      ]
     },
     "execution_count": 13,
     "metadata": {},
     "output_type": "execute_result"
    }
   ],
   "source": [
    "media = np.nanmean(array)\n",
    "array_con_media = np.where(np.isnan(array),media,array)\n",
    "array_con_media"
   ]
  },
  {
   "cell_type": "code",
   "execution_count": 16,
   "id": "984a8223",
   "metadata": {},
   "outputs": [
    {
     "data": {
      "text/plain": [
       "array([nan])"
      ]
     },
     "execution_count": 16,
     "metadata": {},
     "output_type": "execute_result"
    }
   ],
   "source": [
    "# Eliminar els nan\n",
    "\n",
    "array_nan = array[np.isnan(array)]\n",
    "array_nan"
   ]
  },
  {
   "cell_type": "code",
   "execution_count": 17,
   "id": "f643c543",
   "metadata": {},
   "outputs": [
    {
     "data": {
      "text/plain": [
       "array([1., 2., 4., 5.])"
      ]
     },
     "execution_count": 17,
     "metadata": {},
     "output_type": "execute_result"
    }
   ],
   "source": [
    "array_sin_nan = array[~np.isnan(array)]\n",
    "array_sin_nan"
   ]
  },
  {
   "cell_type": "markdown",
   "id": "30918db0",
   "metadata": {},
   "source": [
    "# Tratamiento de Datos Faltantes con NumPy 1\n",
    "Dado el siguiente array de numpay\n",
    "\n",
    "array = np.array([3, np.nan, 7, np.nan, 0, 4.5, np.nan])\n",
    "\n",
    "Utiliza la función adecuada para comprobar la presencia de NaN, y almacena el resultado en una variable llamada: nan_presencia\n",
    "\n",
    "\n",
    "\n",
    "Observación:\n",
    "\n",
    "En estos ejercicios no tendrás el botón \"Ejecutar código\" por esta razón no podrás visualizar los datos generados. Si deseas visualizarlos podrás servirte de un cuaderno de Jupyter y luego probar el ejercicio con ayuda del botón: \"Ejecutar pruebas\""
   ]
  },
  {
   "cell_type": "code",
   "execution_count": 19,
   "id": "6424adf8",
   "metadata": {},
   "outputs": [
    {
     "data": {
      "text/plain": [
       "array([3. , nan, 7. , nan, 0. , 4.5, nan])"
      ]
     },
     "execution_count": 19,
     "metadata": {},
     "output_type": "execute_result"
    }
   ],
   "source": [
    "array = np.array([3, np.nan, 7, np.nan, 0, 4.5, np.nan])\n",
    "array"
   ]
  },
  {
   "cell_type": "code",
   "execution_count": 21,
   "id": "5eeec58e",
   "metadata": {},
   "outputs": [
    {
     "data": {
      "text/plain": [
       "3"
      ]
     },
     "execution_count": 21,
     "metadata": {},
     "output_type": "execute_result"
    }
   ],
   "source": [
    "nan_presencia = np.isnan(array).sum()\n",
    "nan_presencia"
   ]
  },
  {
   "cell_type": "markdown",
   "id": "dd225b9e",
   "metadata": {},
   "source": [
    "# Tratamiento de Datos Faltantes con NumPy 2\n",
    "Dado el siguiente array de numpay\n",
    "\n",
    "array = np.array([3, np.nan, 7, np.nan, 0, 4.5, np.nan])\n",
    "\n",
    "Crea una variable llamada promedio_sin_nans que almacene el promedio excluyendo cualquier valor np.nan. Debes utilizar una función de NumPy que ignore los np.nan automáticamente para este cálculo.\n",
    "\n"
   ]
  },
  {
   "cell_type": "code",
   "execution_count": 22,
   "id": "b8619c18",
   "metadata": {},
   "outputs": [
    {
     "data": {
      "text/plain": [
       "3.625"
      ]
     },
     "execution_count": 22,
     "metadata": {},
     "output_type": "execute_result"
    }
   ],
   "source": [
    "promedio_sin_nans = np.nanmean(array)\n",
    "promedio_sin_nans"
   ]
  },
  {
   "cell_type": "markdown",
   "id": "96a24bc6",
   "metadata": {},
   "source": [
    "# Dado el siguiente array de numpay\n",
    "\n",
    "array = np.array([3, np.nan, 7, np.nan, 0, 4.5, np.nan])\n",
    "\n",
    "Crea una variable nombrada sustituir_nans donde almacenes los np.nan encontrados en el array sustituidos por cero (0). Emplea la función correcta de NumPy para esta finalidad."
   ]
  },
  {
   "cell_type": "code",
   "execution_count": 23,
   "id": "af4962c9",
   "metadata": {},
   "outputs": [
    {
     "data": {
      "text/plain": [
       "array([3. , 0. , 7. , 0. , 0. , 4.5, 0. ])"
      ]
     },
     "execution_count": 23,
     "metadata": {},
     "output_type": "execute_result"
    }
   ],
   "source": [
    "sustituir_nans = np.where(np.isnan(array), 0, array)\n",
    "sustituir_nans"
   ]
  },
  {
   "cell_type": "code",
   "execution_count": null,
   "id": "f19b0432",
   "metadata": {},
   "outputs": [],
   "source": []
  },
  {
   "cell_type": "code",
   "execution_count": null,
   "id": "81ff6770",
   "metadata": {},
   "outputs": [],
   "source": []
  }
 ],
 "metadata": {
  "kernelspec": {
   "display_name": "Python 3 (ipykernel)",
   "language": "python",
   "name": "python3"
  },
  "language_info": {
   "codemirror_mode": {
    "name": "ipython",
    "version": 3
   },
   "file_extension": ".py",
   "mimetype": "text/x-python",
   "name": "python",
   "nbconvert_exporter": "python",
   "pygments_lexer": "ipython3",
   "version": "3.11.5"
  }
 },
 "nbformat": 4,
 "nbformat_minor": 5
}
