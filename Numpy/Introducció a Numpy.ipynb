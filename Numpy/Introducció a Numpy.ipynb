{
 "cells": [
  {
   "cell_type": "code",
   "execution_count": 9,
   "id": "86c8e7d4",
   "metadata": {},
   "outputs": [],
   "source": [
    "import numpy as np\n",
    "import pandas as pd"
   ]
  },
  {
   "cell_type": "code",
   "execution_count": 10,
   "id": "affde602",
   "metadata": {},
   "outputs": [
    {
     "data": {
      "text/html": [
       "<div>\n",
       "<style scoped>\n",
       "    .dataframe tbody tr th:only-of-type {\n",
       "        vertical-align: middle;\n",
       "    }\n",
       "\n",
       "    .dataframe tbody tr th {\n",
       "        vertical-align: top;\n",
       "    }\n",
       "\n",
       "    .dataframe thead th {\n",
       "        text-align: right;\n",
       "    }\n",
       "</style>\n",
       "<table border=\"1\" class=\"dataframe\">\n",
       "  <thead>\n",
       "    <tr style=\"text-align: right;\">\n",
       "      <th></th>\n",
       "      <th>Ciudad</th>\n",
       "      <th>País</th>\n",
       "      <th>Población</th>\n",
       "      <th>Visitantes</th>\n",
       "    </tr>\n",
       "  </thead>\n",
       "  <tbody>\n",
       "    <tr>\n",
       "      <th>0</th>\n",
       "      <td>Ciudad de México</td>\n",
       "      <td>México</td>\n",
       "      <td>9265833</td>\n",
       "      <td>21000000</td>\n",
       "    </tr>\n",
       "    <tr>\n",
       "      <th>1</th>\n",
       "      <td>Buenos Aires</td>\n",
       "      <td>Argentina</td>\n",
       "      <td>3059574</td>\n",
       "      <td>15000000</td>\n",
       "    </tr>\n",
       "    <tr>\n",
       "      <th>2</th>\n",
       "      <td>Río de Janeiro</td>\n",
       "      <td>Brasil</td>\n",
       "      <td>6748314</td>\n",
       "      <td>13000000</td>\n",
       "    </tr>\n",
       "    <tr>\n",
       "      <th>3</th>\n",
       "      <td>Lima</td>\n",
       "      <td>Perú</td>\n",
       "      <td>9756020</td>\n",
       "      <td>9000000</td>\n",
       "    </tr>\n",
       "    <tr>\n",
       "      <th>4</th>\n",
       "      <td>Bogotá</td>\n",
       "      <td>Colombia</td>\n",
       "      <td>7181663</td>\n",
       "      <td>8000000</td>\n",
       "    </tr>\n",
       "    <tr>\n",
       "      <th>5</th>\n",
       "      <td>Santiago de Chile</td>\n",
       "      <td>Chile</td>\n",
       "      <td>6199241</td>\n",
       "      <td>7500000</td>\n",
       "    </tr>\n",
       "    <tr>\n",
       "      <th>6</th>\n",
       "      <td>São Paulo</td>\n",
       "      <td>Brasil</td>\n",
       "      <td>12333146</td>\n",
       "      <td>20000000</td>\n",
       "    </tr>\n",
       "    <tr>\n",
       "      <th>7</th>\n",
       "      <td>La Habana</td>\n",
       "      <td>Cuba</td>\n",
       "      <td>2164182</td>\n",
       "      <td>4000000</td>\n",
       "    </tr>\n",
       "    <tr>\n",
       "      <th>8</th>\n",
       "      <td>Cancún</td>\n",
       "      <td>México</td>\n",
       "      <td>888124</td>\n",
       "      <td>5000000</td>\n",
       "    </tr>\n",
       "    <tr>\n",
       "      <th>9</th>\n",
       "      <td>Cartagena</td>\n",
       "      <td>Colombia</td>\n",
       "      <td>1036671</td>\n",
       "      <td>3000000</td>\n",
       "    </tr>\n",
       "  </tbody>\n",
       "</table>\n",
       "</div>"
      ],
      "text/plain": [
       "              Ciudad       País  Población  Visitantes\n",
       "0   Ciudad de México     México    9265833    21000000\n",
       "1       Buenos Aires  Argentina    3059574    15000000\n",
       "2     Río de Janeiro     Brasil    6748314    13000000\n",
       "3               Lima       Perú    9756020     9000000\n",
       "4             Bogotá   Colombia    7181663     8000000\n",
       "5  Santiago de Chile      Chile    6199241     7500000\n",
       "6          São Paulo     Brasil   12333146    20000000\n",
       "7          La Habana       Cuba    2164182     4000000\n",
       "8             Cancún     México     888124     5000000\n",
       "9          Cartagena   Colombia    1036671     3000000"
      ]
     },
     "execution_count": 10,
     "metadata": {},
     "output_type": "execute_result"
    }
   ],
   "source": [
    "ruta = \"Ciudades_Visitadas_Latinoamerica_2023.csv\"\n",
    "df = pd.read_csv(ruta)\n",
    "df"
   ]
  },
  {
   "cell_type": "code",
   "execution_count": 11,
   "id": "4e88105c",
   "metadata": {},
   "outputs": [
    {
     "data": {
      "text/plain": [
       "5863276.8"
      ]
     },
     "execution_count": 11,
     "metadata": {},
     "output_type": "execute_result"
    }
   ],
   "source": [
    "df[\"Población\"].mean()"
   ]
  },
  {
   "cell_type": "code",
   "execution_count": 12,
   "id": "6abec053",
   "metadata": {},
   "outputs": [
    {
     "data": {
      "text/plain": [
       "5863277.0"
      ]
     },
     "execution_count": 12,
     "metadata": {},
     "output_type": "execute_result"
    }
   ],
   "source": [
    "np.round(df[\"Población\"].mean())"
   ]
  },
  {
   "cell_type": "code",
   "execution_count": 13,
   "id": "b3bc2c5b",
   "metadata": {},
   "outputs": [
    {
     "data": {
      "text/plain": [
       "3000000"
      ]
     },
     "execution_count": 13,
     "metadata": {},
     "output_type": "execute_result"
    }
   ],
   "source": [
    "np.min(df[\"Visitantes\"])"
   ]
  },
  {
   "cell_type": "markdown",
   "id": "9149a8ad",
   "metadata": {},
   "source": [
    "# Introducción a NumPy 1\n",
    "Se te ha proporcionado un dataset que contiene información sobre varias ciudades, incluyendo su población y el número de visitantes anuales. Este dataset está representado en el siguiente DataFrame de Pandas:\n",
    "\n",
    "\n",
    "\n",
    "datos = {\n",
    "    \"Ciudad\": [\"Ciudad de México\", \"Buenos Aires\", \"Río de Janeiro\", \"Lima\", \"Bogotá\", \"Santiago de Chile\", \"São Paulo\", \"La Habana\", \"Cancún\", \"Cartagena\"],\n",
    "    \"País\": [\"México\", \"Argentina\", \"Brasil\", \"Perú\", \"Colombia\", \"Chile\", \"Brasil\", \"Cuba\", \"México\", \"Colombia\"],\n",
    "    \"Población\": [9265833, 3059574, 6748314, 9756020, 7181663, 6199241, 12333146, 2164182, 888124, 1036671],\n",
    "    \"Visitantes\": [21000000, 15000000, 13000000, 9000000, 8000000, 7500000, 20000000, 4000000, 5000000, 3000000]\n",
    "}\n",
    "\n",
    "\n",
    "Utilizando los métodos adecuados de numpy  para calcular el promedio de la población de todas estas ciudades y redondea el resultado, el cual debes almacenar en una variable llamada: promedio_poblacion"
   ]
  },
  {
   "cell_type": "code",
   "execution_count": 16,
   "id": "2a958509",
   "metadata": {},
   "outputs": [
    {
     "data": {
      "text/plain": [
       "5863276.8"
      ]
     },
     "execution_count": 16,
     "metadata": {},
     "output_type": "execute_result"
    }
   ],
   "source": [
    "\n",
    "\n",
    "datos = {\n",
    "    \"Ciudad\": [\"Ciudad de México\", \"Buenos Aires\", \"Río de Janeiro\", \"Lima\", \"Bogotá\", \"Santiago de Chile\", \"São Paulo\", \"La Habana\", \"Cancún\", \"Cartagena\"],\n",
    "    \"País\": [\"México\", \"Argentina\", \"Brasil\", \"Perú\", \"Colombia\", \"Chile\", \"Brasil\", \"Cuba\", \"México\", \"Colombia\"],\n",
    "    \"Población\": [9265833, 3059574, 6748314, 9756020, 7181663, 6199241, 12333146, 2164182, 888124, 1036671],\n",
    "    \"Visitantes\": [21000000, 15000000, 13000000, 9000000, 8000000, 7500000, 20000000, 4000000, 5000000, 3000000]\n",
    "}\n",
    "\n",
    "df = pd.DataFrame(datos)\n",
    "promedio_poblacion = np.mean(df[\"Población\"])\n",
    "promedio_poblacion"
   ]
  },
  {
   "cell_type": "code",
   "execution_count": null,
   "id": "ec07f11f",
   "metadata": {},
   "outputs": [],
   "source": []
  },
  {
   "cell_type": "code",
   "execution_count": null,
   "id": "eec33164",
   "metadata": {},
   "outputs": [],
   "source": []
  },
  {
   "cell_type": "code",
   "execution_count": null,
   "id": "d169325b",
   "metadata": {},
   "outputs": [],
   "source": []
  },
  {
   "cell_type": "code",
   "execution_count": null,
   "id": "c94e5811",
   "metadata": {},
   "outputs": [],
   "source": []
  }
 ],
 "metadata": {
  "kernelspec": {
   "display_name": "Python 3 (ipykernel)",
   "language": "python",
   "name": "python3"
  },
  "language_info": {
   "codemirror_mode": {
    "name": "ipython",
    "version": 3
   },
   "file_extension": ".py",
   "mimetype": "text/x-python",
   "name": "python",
   "nbconvert_exporter": "python",
   "pygments_lexer": "ipython3",
   "version": "3.11.5"
  }
 },
 "nbformat": 4,
 "nbformat_minor": 5
}
