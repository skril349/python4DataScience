{
 "cells": [
  {
   "cell_type": "code",
   "execution_count": 1,
   "id": "05edd1bd",
   "metadata": {},
   "outputs": [],
   "source": [
    "import pandas as pd\n",
    "import numpy as np"
   ]
  },
  {
   "cell_type": "code",
   "execution_count": 2,
   "id": "2627bf67",
   "metadata": {},
   "outputs": [],
   "source": [
    "df = pd.DataFrame({\n",
    "    \"Impares\":[1,3,5],\n",
    "    \"Pares\":[2,4,6]\n",
    "})"
   ]
  },
  {
   "cell_type": "code",
   "execution_count": 3,
   "id": "0c7bc69b",
   "metadata": {},
   "outputs": [
    {
     "data": {
      "text/html": [
       "<div>\n",
       "<style scoped>\n",
       "    .dataframe tbody tr th:only-of-type {\n",
       "        vertical-align: middle;\n",
       "    }\n",
       "\n",
       "    .dataframe tbody tr th {\n",
       "        vertical-align: top;\n",
       "    }\n",
       "\n",
       "    .dataframe thead th {\n",
       "        text-align: right;\n",
       "    }\n",
       "</style>\n",
       "<table border=\"1\" class=\"dataframe\">\n",
       "  <thead>\n",
       "    <tr style=\"text-align: right;\">\n",
       "      <th></th>\n",
       "      <th>Impares</th>\n",
       "      <th>Pares</th>\n",
       "    </tr>\n",
       "  </thead>\n",
       "  <tbody>\n",
       "    <tr>\n",
       "      <th>0</th>\n",
       "      <td>1</td>\n",
       "      <td>2</td>\n",
       "    </tr>\n",
       "    <tr>\n",
       "      <th>1</th>\n",
       "      <td>3</td>\n",
       "      <td>4</td>\n",
       "    </tr>\n",
       "    <tr>\n",
       "      <th>2</th>\n",
       "      <td>5</td>\n",
       "      <td>6</td>\n",
       "    </tr>\n",
       "  </tbody>\n",
       "</table>\n",
       "</div>"
      ],
      "text/plain": [
       "   Impares  Pares\n",
       "0        1      2\n",
       "1        3      4\n",
       "2        5      6"
      ]
     },
     "execution_count": 3,
     "metadata": {},
     "output_type": "execute_result"
    }
   ],
   "source": [
    "df"
   ]
  },
  {
   "cell_type": "code",
   "execution_count": 4,
   "id": "d4a8b84a",
   "metadata": {},
   "outputs": [
    {
     "data": {
      "text/plain": [
       "array([[1, 2],\n",
       "       [3, 4],\n",
       "       [5, 6]], dtype=int64)"
      ]
     },
     "execution_count": 4,
     "metadata": {},
     "output_type": "execute_result"
    }
   ],
   "source": [
    "array_np1 = df.values\n",
    "array_np1"
   ]
  },
  {
   "cell_type": "code",
   "execution_count": 5,
   "id": "05ea2c49",
   "metadata": {},
   "outputs": [
    {
     "data": {
      "text/plain": [
       "array([[1, 2],\n",
       "       [3, 4],\n",
       "       [5, 6]], dtype=int64)"
      ]
     },
     "execution_count": 5,
     "metadata": {},
     "output_type": "execute_result"
    }
   ],
   "source": [
    "array_np2 = df.to_numpy()\n",
    "array_np2"
   ]
  },
  {
   "cell_type": "code",
   "execution_count": 6,
   "id": "a51fcc29",
   "metadata": {},
   "outputs": [
    {
     "data": {
      "text/html": [
       "<div>\n",
       "<style scoped>\n",
       "    .dataframe tbody tr th:only-of-type {\n",
       "        vertical-align: middle;\n",
       "    }\n",
       "\n",
       "    .dataframe tbody tr th {\n",
       "        vertical-align: top;\n",
       "    }\n",
       "\n",
       "    .dataframe thead th {\n",
       "        text-align: right;\n",
       "    }\n",
       "</style>\n",
       "<table border=\"1\" class=\"dataframe\">\n",
       "  <thead>\n",
       "    <tr style=\"text-align: right;\">\n",
       "      <th></th>\n",
       "      <th>Impares</th>\n",
       "      <th>Pares</th>\n",
       "    </tr>\n",
       "  </thead>\n",
       "  <tbody>\n",
       "    <tr>\n",
       "      <th>0</th>\n",
       "      <td>1.000000</td>\n",
       "      <td>1.414214</td>\n",
       "    </tr>\n",
       "    <tr>\n",
       "      <th>1</th>\n",
       "      <td>1.732051</td>\n",
       "      <td>2.000000</td>\n",
       "    </tr>\n",
       "    <tr>\n",
       "      <th>2</th>\n",
       "      <td>2.236068</td>\n",
       "      <td>2.449490</td>\n",
       "    </tr>\n",
       "  </tbody>\n",
       "</table>\n",
       "</div>"
      ],
      "text/plain": [
       "    Impares     Pares\n",
       "0  1.000000  1.414214\n",
       "1  1.732051  2.000000\n",
       "2  2.236068  2.449490"
      ]
     },
     "execution_count": 6,
     "metadata": {},
     "output_type": "execute_result"
    }
   ],
   "source": [
    "np.sqrt(df)"
   ]
  },
  {
   "cell_type": "code",
   "execution_count": 7,
   "id": "856f2f3e",
   "metadata": {},
   "outputs": [
    {
     "data": {
      "text/plain": [
       "6"
      ]
     },
     "execution_count": 7,
     "metadata": {},
     "output_type": "execute_result"
    }
   ],
   "source": [
    "np.max(df)"
   ]
  },
  {
   "cell_type": "code",
   "execution_count": 8,
   "id": "fbd08b7c",
   "metadata": {},
   "outputs": [
    {
     "data": {
      "text/html": [
       "<div>\n",
       "<style scoped>\n",
       "    .dataframe tbody tr th:only-of-type {\n",
       "        vertical-align: middle;\n",
       "    }\n",
       "\n",
       "    .dataframe tbody tr th {\n",
       "        vertical-align: top;\n",
       "    }\n",
       "\n",
       "    .dataframe thead th {\n",
       "        text-align: right;\n",
       "    }\n",
       "</style>\n",
       "<table border=\"1\" class=\"dataframe\">\n",
       "  <thead>\n",
       "    <tr style=\"text-align: right;\">\n",
       "      <th></th>\n",
       "      <th>0</th>\n",
       "      <th>1</th>\n",
       "    </tr>\n",
       "  </thead>\n",
       "  <tbody>\n",
       "    <tr>\n",
       "      <th>0</th>\n",
       "      <td>1</td>\n",
       "      <td>2</td>\n",
       "    </tr>\n",
       "    <tr>\n",
       "      <th>1</th>\n",
       "      <td>3</td>\n",
       "      <td>4</td>\n",
       "    </tr>\n",
       "    <tr>\n",
       "      <th>2</th>\n",
       "      <td>5</td>\n",
       "      <td>6</td>\n",
       "    </tr>\n",
       "  </tbody>\n",
       "</table>\n",
       "</div>"
      ],
      "text/plain": [
       "   0  1\n",
       "0  1  2\n",
       "1  3  4\n",
       "2  5  6"
      ]
     },
     "execution_count": 8,
     "metadata": {},
     "output_type": "execute_result"
    }
   ],
   "source": [
    "df_desde_np = pd.DataFrame(array_np1)\n",
    "df_desde_np"
   ]
  },
  {
   "cell_type": "code",
   "execution_count": 9,
   "id": "1f6317a4",
   "metadata": {},
   "outputs": [
    {
     "data": {
      "text/html": [
       "<div>\n",
       "<style scoped>\n",
       "    .dataframe tbody tr th:only-of-type {\n",
       "        vertical-align: middle;\n",
       "    }\n",
       "\n",
       "    .dataframe tbody tr th {\n",
       "        vertical-align: top;\n",
       "    }\n",
       "\n",
       "    .dataframe thead th {\n",
       "        text-align: right;\n",
       "    }\n",
       "</style>\n",
       "<table border=\"1\" class=\"dataframe\">\n",
       "  <thead>\n",
       "    <tr style=\"text-align: right;\">\n",
       "      <th></th>\n",
       "      <th>Col1</th>\n",
       "      <th>Col2</th>\n",
       "    </tr>\n",
       "  </thead>\n",
       "  <tbody>\n",
       "    <tr>\n",
       "      <th>0</th>\n",
       "      <td>1</td>\n",
       "      <td>2</td>\n",
       "    </tr>\n",
       "    <tr>\n",
       "      <th>1</th>\n",
       "      <td>3</td>\n",
       "      <td>4</td>\n",
       "    </tr>\n",
       "    <tr>\n",
       "      <th>2</th>\n",
       "      <td>5</td>\n",
       "      <td>6</td>\n",
       "    </tr>\n",
       "  </tbody>\n",
       "</table>\n",
       "</div>"
      ],
      "text/plain": [
       "   Col1  Col2\n",
       "0     1     2\n",
       "1     3     4\n",
       "2     5     6"
      ]
     },
     "execution_count": 9,
     "metadata": {},
     "output_type": "execute_result"
    }
   ],
   "source": [
    "df_desde_np = pd.DataFrame(array_np1, columns = [\"Col1\", \"Col2\"])\n",
    "df_desde_np"
   ]
  },
  {
   "cell_type": "markdown",
   "id": "d0ab8f41",
   "metadata": {},
   "source": [
    "# Integración de NumPy con Pandas 1\n",
    "Crea un DataFrame de Pandas llamado mi_dataframe con dos columnas: \"Frutas\" y \"Cantidad\".\n",
    "\n",
    "La columna \"Frutas\" debe contener los valores \"Manzana\", \"Banana\" y \"Cereza\".\n",
    "\n",
    "La columna \"Cantidad\" debe contener los números 5, 8 y 3 respectivamente.\n",
    "\n",
    "Luego, convierte este DataFrame en un array de NumPy y guárdalo en una variable llamada array_frutas.\n",
    "\n",
    "Observación:\n",
    "\n",
    "En estos ejercicios no tendrás el botón \"Ejecutar código\" por esta razón no podrás visualizar los datos generados. Si deseas visualizarlos podrás servirte de un cuaderno de Jupyter y luego probar el ejercicio con ayuda del botón: \"Ejecutar pruebas\""
   ]
  },
  {
   "cell_type": "code",
   "execution_count": 10,
   "id": "00e57aa5",
   "metadata": {},
   "outputs": [
    {
     "data": {
      "text/html": [
       "<div>\n",
       "<style scoped>\n",
       "    .dataframe tbody tr th:only-of-type {\n",
       "        vertical-align: middle;\n",
       "    }\n",
       "\n",
       "    .dataframe tbody tr th {\n",
       "        vertical-align: top;\n",
       "    }\n",
       "\n",
       "    .dataframe thead th {\n",
       "        text-align: right;\n",
       "    }\n",
       "</style>\n",
       "<table border=\"1\" class=\"dataframe\">\n",
       "  <thead>\n",
       "    <tr style=\"text-align: right;\">\n",
       "      <th></th>\n",
       "      <th>Frutas</th>\n",
       "      <th>Cantidad</th>\n",
       "    </tr>\n",
       "  </thead>\n",
       "  <tbody>\n",
       "    <tr>\n",
       "      <th>0</th>\n",
       "      <td>Manzana</td>\n",
       "      <td>5</td>\n",
       "    </tr>\n",
       "    <tr>\n",
       "      <th>1</th>\n",
       "      <td>Banana</td>\n",
       "      <td>8</td>\n",
       "    </tr>\n",
       "    <tr>\n",
       "      <th>2</th>\n",
       "      <td>Cereza</td>\n",
       "      <td>3</td>\n",
       "    </tr>\n",
       "  </tbody>\n",
       "</table>\n",
       "</div>"
      ],
      "text/plain": [
       "    Frutas  Cantidad\n",
       "0  Manzana         5\n",
       "1   Banana         8\n",
       "2   Cereza         3"
      ]
     },
     "execution_count": 10,
     "metadata": {},
     "output_type": "execute_result"
    }
   ],
   "source": [
    "mi_dataframe = pd.DataFrame({\n",
    "    \"Frutas\":[\"Manzana\",\"Banana\",\"Cereza\"],\n",
    "    \"Cantidad\":[5,8,3]\n",
    "})\n",
    "mi_dataframe"
   ]
  },
  {
   "cell_type": "code",
   "execution_count": 13,
   "id": "44d3d44a",
   "metadata": {},
   "outputs": [],
   "source": [
    "array_frutas = mi_dataframe.to_numpy()"
   ]
  },
  {
   "cell_type": "code",
   "execution_count": 14,
   "id": "a7f12e43",
   "metadata": {},
   "outputs": [
    {
     "data": {
      "text/plain": [
       "array([['Manzana', 5],\n",
       "       ['Banana', 8],\n",
       "       ['Cereza', 3]], dtype=object)"
      ]
     },
     "execution_count": 14,
     "metadata": {},
     "output_type": "execute_result"
    }
   ],
   "source": [
    "array_frutas"
   ]
  },
  {
   "cell_type": "markdown",
   "id": "615d382a",
   "metadata": {},
   "source": [
    "# Integración de NumPy con Pandas 2\n",
    "Crea un DataFrame de Pandas llamado mi_dataframe con dos columnas: \"Frutas\" y \"Cantidad\". Identico al ejercicio anterior.\n",
    "\n",
    "La columna \"Frutas\" debe contener los valores \"Manzana\", \"Banana\" y \"Cereza\".\n",
    "\n",
    "La columna \"Cantidad\" debe contener los números 5, 8 y 3 respectivamente.\n",
    "\n",
    "Luego, filtra las filas donde la cantidad sea mayor a 4, almacena el resultado en una variable llamada: mi_dataframe_filtrado\n",
    "\n",
    "Convierte el resultado en un array de NumPy. Guarda el array resultante en una variable llamada array_filtrado\n",
    "\n",
    "En esta lección podrás recordar como filtrar datos en Pandas:\n",
    "\n",
    "Flitrado de series en Pandas\n",
    "\n",
    "Observación:\n",
    "\n",
    "En estos ejercicios no tendrás el botón \"Ejecutar código\" por esta razón no podrás visualizar los datos generados. Si deseas visualizarlos podrás servirte de un cuaderno de Jupyter y luego probar el ejercicio con ayuda del botón: \"Ejecutar pruebas\""
   ]
  },
  {
   "cell_type": "code",
   "execution_count": null,
   "id": "15021fc7",
   "metadata": {},
   "outputs": [],
   "source": [
    "mi_dataframe = pd.DataFrame({\n",
    "    \"Frutas\":[\"Manzana\",\"Banana\",\"Cereza\"],\n",
    "    \"Cantidad\":[5,8,3]\n",
    "})"
   ]
  },
  {
   "cell_type": "code",
   "execution_count": 16,
   "id": "ad5a20eb",
   "metadata": {},
   "outputs": [
    {
     "data": {
      "text/html": [
       "<div>\n",
       "<style scoped>\n",
       "    .dataframe tbody tr th:only-of-type {\n",
       "        vertical-align: middle;\n",
       "    }\n",
       "\n",
       "    .dataframe tbody tr th {\n",
       "        vertical-align: top;\n",
       "    }\n",
       "\n",
       "    .dataframe thead th {\n",
       "        text-align: right;\n",
       "    }\n",
       "</style>\n",
       "<table border=\"1\" class=\"dataframe\">\n",
       "  <thead>\n",
       "    <tr style=\"text-align: right;\">\n",
       "      <th></th>\n",
       "      <th>Frutas</th>\n",
       "      <th>Cantidad</th>\n",
       "    </tr>\n",
       "  </thead>\n",
       "  <tbody>\n",
       "    <tr>\n",
       "      <th>0</th>\n",
       "      <td>Manzana</td>\n",
       "      <td>5</td>\n",
       "    </tr>\n",
       "    <tr>\n",
       "      <th>1</th>\n",
       "      <td>Banana</td>\n",
       "      <td>8</td>\n",
       "    </tr>\n",
       "  </tbody>\n",
       "</table>\n",
       "</div>"
      ],
      "text/plain": [
       "    Frutas  Cantidad\n",
       "0  Manzana         5\n",
       "1   Banana         8"
      ]
     },
     "execution_count": 16,
     "metadata": {},
     "output_type": "execute_result"
    }
   ],
   "source": [
    "mi_dataframe_filtrado = mi_dataframe[mi_dataframe[\"Cantidad\"] > 4]\n",
    "mi_dataframe_filtrado"
   ]
  },
  {
   "cell_type": "code",
   "execution_count": 17,
   "id": "6c5a4635",
   "metadata": {},
   "outputs": [],
   "source": [
    "array_filtrado = np.array(mi_dataframe_filtrado)"
   ]
  },
  {
   "cell_type": "code",
   "execution_count": 18,
   "id": "988d9bfd",
   "metadata": {},
   "outputs": [
    {
     "data": {
      "text/plain": [
       "array([['Manzana', 5],\n",
       "       ['Banana', 8]], dtype=object)"
      ]
     },
     "execution_count": 18,
     "metadata": {},
     "output_type": "execute_result"
    }
   ],
   "source": [
    "array_filtrado\n"
   ]
  },
  {
   "cell_type": "markdown",
   "id": "a72c1fba",
   "metadata": {},
   "source": [
    "# Integración de NumPy con Pandas 3\n",
    "Crea un array de NumPy llamado mi_array con dos columnas y tres filas.\n",
    "\n",
    "\n",
    "\n",
    "La primera columna debe contener los números 10, 20 y 30.\n",
    "\n",
    "La segunda columna debe contener los números 40, 50 y 60.\n",
    "\n",
    "\n",
    "\n",
    "Convierte este array en un DataFrame de Pandas llamado df_numeros y asigna los nombres \"Decenas\" y \"Centenas\" a las columnas."
   ]
  },
  {
   "cell_type": "code",
   "execution_count": 25,
   "id": "cde8343f",
   "metadata": {},
   "outputs": [
    {
     "data": {
      "text/plain": [
       "array([[10, 40],\n",
       "       [20, 50],\n",
       "       [30, 60]])"
      ]
     },
     "execution_count": 25,
     "metadata": {},
     "output_type": "execute_result"
    }
   ],
   "source": [
    "mi_array = np.array([[10,40],[20,50],[30,60]])\n",
    "mi_array"
   ]
  },
  {
   "cell_type": "code",
   "execution_count": 26,
   "id": "1679e908",
   "metadata": {},
   "outputs": [
    {
     "data": {
      "text/html": [
       "<div>\n",
       "<style scoped>\n",
       "    .dataframe tbody tr th:only-of-type {\n",
       "        vertical-align: middle;\n",
       "    }\n",
       "\n",
       "    .dataframe tbody tr th {\n",
       "        vertical-align: top;\n",
       "    }\n",
       "\n",
       "    .dataframe thead th {\n",
       "        text-align: right;\n",
       "    }\n",
       "</style>\n",
       "<table border=\"1\" class=\"dataframe\">\n",
       "  <thead>\n",
       "    <tr style=\"text-align: right;\">\n",
       "      <th></th>\n",
       "      <th>Decenas</th>\n",
       "      <th>Centenas</th>\n",
       "    </tr>\n",
       "  </thead>\n",
       "  <tbody>\n",
       "    <tr>\n",
       "      <th>0</th>\n",
       "      <td>10</td>\n",
       "      <td>40</td>\n",
       "    </tr>\n",
       "    <tr>\n",
       "      <th>1</th>\n",
       "      <td>20</td>\n",
       "      <td>50</td>\n",
       "    </tr>\n",
       "    <tr>\n",
       "      <th>2</th>\n",
       "      <td>30</td>\n",
       "      <td>60</td>\n",
       "    </tr>\n",
       "  </tbody>\n",
       "</table>\n",
       "</div>"
      ],
      "text/plain": [
       "   Decenas  Centenas\n",
       "0       10        40\n",
       "1       20        50\n",
       "2       30        60"
      ]
     },
     "execution_count": 26,
     "metadata": {},
     "output_type": "execute_result"
    }
   ],
   "source": [
    "df_numeros = pd.DataFrame(mi_array,columns = [\"Decenas\",\"Centenas\"])\n",
    "df_numeros"
   ]
  },
  {
   "cell_type": "code",
   "execution_count": null,
   "id": "a040436c",
   "metadata": {},
   "outputs": [],
   "source": []
  },
  {
   "cell_type": "code",
   "execution_count": null,
   "id": "a79415e3",
   "metadata": {},
   "outputs": [],
   "source": []
  }
 ],
 "metadata": {
  "kernelspec": {
   "display_name": "Python 3 (ipykernel)",
   "language": "python",
   "name": "python3"
  },
  "language_info": {
   "codemirror_mode": {
    "name": "ipython",
    "version": 3
   },
   "file_extension": ".py",
   "mimetype": "text/x-python",
   "name": "python",
   "nbconvert_exporter": "python",
   "pygments_lexer": "ipython3",
   "version": "3.11.5"
  }
 },
 "nbformat": 4,
 "nbformat_minor": 5
}
