{
 "cells": [
  {
   "cell_type": "code",
   "execution_count": 1,
   "id": "6df68c04",
   "metadata": {},
   "outputs": [],
   "source": [
    "import numpy as np\n",
    "import random\n",
    "import matplotlib.pyplot as plt"
   ]
  },
  {
   "cell_type": "code",
   "execution_count": 3,
   "id": "84425aef",
   "metadata": {},
   "outputs": [],
   "source": [
    "dimensiones = (4,4)\n",
    "estado_inicial= (0,0)\n",
    "estado_objetivo= (3,3)\n",
    "acciones=[(0,-1),(0,1),(-1,0),(1,0)]\n",
    "acciones_simbolos = ['↑','↓','←','→']"
   ]
  },
  {
   "cell_type": "code",
   "execution_count": 4,
   "id": "050ad97e",
   "metadata": {},
   "outputs": [],
   "source": [
    "num_estados = dimensiones[0]*dimensiones[1]"
   ]
  },
  {
   "cell_type": "code",
   "execution_count": 5,
   "id": "7d3e2598",
   "metadata": {},
   "outputs": [],
   "source": [
    "num_acciones = len(acciones)"
   ]
  },
  {
   "cell_type": "code",
   "execution_count": 6,
   "id": "5f81f988",
   "metadata": {},
   "outputs": [
    {
     "data": {
      "text/plain": [
       "array([[0., 0., 0., 0.],\n",
       "       [0., 0., 0., 0.],\n",
       "       [0., 0., 0., 0.],\n",
       "       [0., 0., 0., 0.],\n",
       "       [0., 0., 0., 0.],\n",
       "       [0., 0., 0., 0.],\n",
       "       [0., 0., 0., 0.],\n",
       "       [0., 0., 0., 0.],\n",
       "       [0., 0., 0., 0.],\n",
       "       [0., 0., 0., 0.],\n",
       "       [0., 0., 0., 0.],\n",
       "       [0., 0., 0., 0.],\n",
       "       [0., 0., 0., 0.],\n",
       "       [0., 0., 0., 0.],\n",
       "       [0., 0., 0., 0.],\n",
       "       [0., 0., 0., 0.]])"
      ]
     },
     "execution_count": 6,
     "metadata": {},
     "output_type": "execute_result"
    }
   ],
   "source": [
    "Q = np.zeros((num_estados,num_acciones))\n",
    "Q"
   ]
  },
  {
   "cell_type": "code",
   "execution_count": 7,
   "id": "5f45f53a",
   "metadata": {},
   "outputs": [],
   "source": [
    "alpha = 0.1\n",
    "gamma = 0.99\n",
    "epsilon = 0.2\n",
    "episodios = 1000\n"
   ]
  },
  {
   "cell_type": "code",
   "execution_count": 8,
   "id": "cca4a251",
   "metadata": {},
   "outputs": [],
   "source": [
    "def estado_a_indice(estado):\n",
    "    return estado[0]*dimensiones[1] + estado[1]\n",
    "\n",
    "def indice_a_estado(number):\n",
    "    filas = int(number/dimensiones[0])\n",
    "    columnas = number - filas*dimensiones[1]\n",
    "    return (filas,columnas)\n",
    "    "
   ]
  },
  {
   "cell_type": "code",
   "execution_count": 9,
   "id": "9c5fac7e",
   "metadata": {},
   "outputs": [],
   "source": [
    "def elegir_accion(estado):\n",
    "    if random.uniform(0,1) < epsilon:\n",
    "        return random.randint(0,num_acciones -1)\n",
    "    else:\n",
    "        return np.argmax(Q[estado_a_indice(estado)])"
   ]
  },
  {
   "cell_type": "code",
   "execution_count": 10,
   "id": "42ffc050",
   "metadata": {},
   "outputs": [],
   "source": [
    "def aplicar_accion(estado, accion_idx):\n",
    "    accion = acciones[accion_idx]\n",
    "    nuevo_estado = tuple(np.add(estado,accion) % np.array(dimensiones))\n",
    "    \n",
    "    if nuevo_estado == estado_objetivo:\n",
    "        recompensa = 1\n",
    "    else:\n",
    "        recompensa = -1\n",
    "    return nuevo_estado, recompensa, nuevo_estado==estado_objetivo"
   ]
  },
  {
   "cell_type": "code",
   "execution_count": 12,
   "id": "ccbe5d6f",
   "metadata": {},
   "outputs": [],
   "source": [
    "for episodio in range(episodios):\n",
    "    estado = estado_inicial\n",
    "    accion_idx = elegir_accion(estado)\n",
    "    terminado = False\n",
    "    \n",
    "    while not terminado:\n",
    "        nuevo_estado, recompensa, terminado = aplicar_accion(estado,accion_idx)\n",
    "        nueva_accion_idx = elegir_accion(nuevo_estado)\n",
    "        \n",
    "        indice = estado_a_indice(estado)\n",
    "        Q[indice,accion_idx] += alpha*(recompensa + gamma*Q[estado_a_indice(nuevo_estado), nueva_accion_idx] - Q[indice,accion_idx])\n",
    "        estado, accion_idx = nuevo_estado, nueva_accion_idx\n",
    "        "
   ]
  },
  {
   "cell_type": "code",
   "execution_count": 13,
   "id": "faf01c8a",
   "metadata": {},
   "outputs": [
    {
     "data": {
      "text/plain": [
       "array([['', '', '', ''],\n",
       "       ['', '', '', ''],\n",
       "       ['', '', '', ''],\n",
       "       ['', '', '', '']], dtype='<U2')"
      ]
     },
     "execution_count": 13,
     "metadata": {},
     "output_type": "execute_result"
    }
   ],
   "source": [
    "politica_simbolos = np.empty(dimensiones, dtype='<U2')\n",
    "politica_simbolos"
   ]
  },
  {
   "cell_type": "code",
   "execution_count": 14,
   "id": "df1ecf5a",
   "metadata": {},
   "outputs": [
    {
     "data": {
      "text/plain": [
       "array([['←', '↓', '←', '←'],\n",
       "       ['←', '↓', '→', '←'],\n",
       "       ['↑', '↓', '↓', '→'],\n",
       "       ['↑', '↓', '↓', '↑']], dtype='<U2')"
      ]
     },
     "execution_count": 14,
     "metadata": {},
     "output_type": "execute_result"
    }
   ],
   "source": [
    "for i in range(dimensiones[0]):\n",
    "    for j in range(dimensiones[1]):\n",
    "        estado = (i,j)\n",
    "        mejor_accion = np.argmax(Q[estado_a_indice(estado)])\n",
    "        politica_simbolos[i,j] = acciones_simbolos[mejor_accion]\n",
    "politica_simbolos"
   ]
  },
  {
   "cell_type": "code",
   "execution_count": null,
   "id": "9227264b",
   "metadata": {},
   "outputs": [],
   "source": []
  },
  {
   "cell_type": "code",
   "execution_count": null,
   "id": "a3fd4eee",
   "metadata": {},
   "outputs": [],
   "source": []
  },
  {
   "cell_type": "code",
   "execution_count": null,
   "id": "3e1fd2aa",
   "metadata": {},
   "outputs": [],
   "source": []
  },
  {
   "cell_type": "code",
   "execution_count": null,
   "id": "b2950671",
   "metadata": {},
   "outputs": [],
   "source": []
  },
  {
   "cell_type": "code",
   "execution_count": null,
   "id": "17cf1b43",
   "metadata": {},
   "outputs": [],
   "source": []
  }
 ],
 "metadata": {
  "kernelspec": {
   "display_name": "Python 3 (ipykernel)",
   "language": "python",
   "name": "python3"
  },
  "language_info": {
   "codemirror_mode": {
    "name": "ipython",
    "version": 3
   },
   "file_extension": ".py",
   "mimetype": "text/x-python",
   "name": "python",
   "nbconvert_exporter": "python",
   "pygments_lexer": "ipython3",
   "version": "3.11.5"
  }
 },
 "nbformat": 4,
 "nbformat_minor": 5
}
