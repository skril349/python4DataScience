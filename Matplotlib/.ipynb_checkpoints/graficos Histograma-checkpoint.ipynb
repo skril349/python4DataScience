{
 "cells": [
  {
   "cell_type": "code",
   "execution_count": 1,
   "id": "7744df6d",
   "metadata": {},
   "outputs": [],
   "source": [
    "import pandas as pd\n",
    "import numpy as np\n",
    "import matplotlib.pyplot as plt\n",
    "%matplotlib inline"
   ]
  },
  {
   "cell_type": "code",
   "execution_count": 2,
   "id": "75ff9b24",
   "metadata": {},
   "outputs": [],
   "source": [
    "df = pd.read_csv(\"Ventas.csv\")"
   ]
  },
  {
   "cell_type": "code",
   "execution_count": 3,
   "id": "7a791e21",
   "metadata": {},
   "outputs": [
    {
     "data": {
      "text/html": [
       "<div>\n",
       "<style scoped>\n",
       "    .dataframe tbody tr th:only-of-type {\n",
       "        vertical-align: middle;\n",
       "    }\n",
       "\n",
       "    .dataframe tbody tr th {\n",
       "        vertical-align: top;\n",
       "    }\n",
       "\n",
       "    .dataframe thead th {\n",
       "        text-align: right;\n",
       "    }\n",
       "</style>\n",
       "<table border=\"1\" class=\"dataframe\">\n",
       "  <thead>\n",
       "    <tr style=\"text-align: right;\">\n",
       "      <th></th>\n",
       "      <th>Fecha</th>\n",
       "      <th>Producto</th>\n",
       "      <th>Cantidad</th>\n",
       "      <th>Precio Unitario</th>\n",
       "      <th>Total Venta</th>\n",
       "    </tr>\n",
       "  </thead>\n",
       "  <tbody>\n",
       "    <tr>\n",
       "      <th>0</th>\n",
       "      <td>1/17/2023</td>\n",
       "      <td>Electrónic</td>\n",
       "      <td>7</td>\n",
       "      <td>200</td>\n",
       "      <td>1400</td>\n",
       "    </tr>\n",
       "    <tr>\n",
       "      <th>1</th>\n",
       "      <td>9/1/2023</td>\n",
       "      <td>Electrónic</td>\n",
       "      <td>8</td>\n",
       "      <td>200</td>\n",
       "      <td>1600</td>\n",
       "    </tr>\n",
       "    <tr>\n",
       "      <th>2</th>\n",
       "      <td>7/29/2023</td>\n",
       "      <td>Juguetes</td>\n",
       "      <td>3</td>\n",
       "      <td>30</td>\n",
       "      <td>90</td>\n",
       "    </tr>\n",
       "    <tr>\n",
       "      <th>3</th>\n",
       "      <td>10/4/2023</td>\n",
       "      <td>Alimentos</td>\n",
       "      <td>4</td>\n",
       "      <td>10</td>\n",
       "      <td>40</td>\n",
       "    </tr>\n",
       "    <tr>\n",
       "      <th>4</th>\n",
       "      <td>2/28/2023</td>\n",
       "      <td>Electrónic</td>\n",
       "      <td>6</td>\n",
       "      <td>200</td>\n",
       "      <td>1200</td>\n",
       "    </tr>\n",
       "    <tr>\n",
       "      <th>...</th>\n",
       "      <td>...</td>\n",
       "      <td>...</td>\n",
       "      <td>...</td>\n",
       "      <td>...</td>\n",
       "      <td>...</td>\n",
       "    </tr>\n",
       "    <tr>\n",
       "      <th>995</th>\n",
       "      <td>4/27/2023</td>\n",
       "      <td>Alimentos</td>\n",
       "      <td>2</td>\n",
       "      <td>10</td>\n",
       "      <td>20</td>\n",
       "    </tr>\n",
       "    <tr>\n",
       "      <th>996</th>\n",
       "      <td>6/9/2023</td>\n",
       "      <td>Ropa</td>\n",
       "      <td>10</td>\n",
       "      <td>50</td>\n",
       "      <td>500</td>\n",
       "    </tr>\n",
       "    <tr>\n",
       "      <th>997</th>\n",
       "      <td>8/21/2023</td>\n",
       "      <td>Alimentos</td>\n",
       "      <td>8</td>\n",
       "      <td>10</td>\n",
       "      <td>80</td>\n",
       "    </tr>\n",
       "    <tr>\n",
       "      <th>998</th>\n",
       "      <td>3/28/2023</td>\n",
       "      <td>Electrónic</td>\n",
       "      <td>6</td>\n",
       "      <td>200</td>\n",
       "      <td>1200</td>\n",
       "    </tr>\n",
       "    <tr>\n",
       "      <th>999</th>\n",
       "      <td>3/7/2023</td>\n",
       "      <td>Electrónic</td>\n",
       "      <td>4</td>\n",
       "      <td>200</td>\n",
       "      <td>800</td>\n",
       "    </tr>\n",
       "  </tbody>\n",
       "</table>\n",
       "<p>1000 rows × 5 columns</p>\n",
       "</div>"
      ],
      "text/plain": [
       "         Fecha    Producto  Cantidad  Precio Unitario  Total Venta\n",
       "0    1/17/2023  Electrónic         7              200         1400\n",
       "1     9/1/2023  Electrónic         8              200         1600\n",
       "2    7/29/2023    Juguetes         3               30           90\n",
       "3    10/4/2023   Alimentos         4               10           40\n",
       "4    2/28/2023  Electrónic         6              200         1200\n",
       "..         ...         ...       ...              ...          ...\n",
       "995  4/27/2023   Alimentos         2               10           20\n",
       "996   6/9/2023        Ropa        10               50          500\n",
       "997  8/21/2023   Alimentos         8               10           80\n",
       "998  3/28/2023  Electrónic         6              200         1200\n",
       "999   3/7/2023  Electrónic         4              200          800\n",
       "\n",
       "[1000 rows x 5 columns]"
      ]
     },
     "execution_count": 3,
     "metadata": {},
     "output_type": "execute_result"
    }
   ],
   "source": [
    "df"
   ]
  },
  {
   "cell_type": "code",
   "execution_count": 5,
   "id": "3fc4cc0b",
   "metadata": {},
   "outputs": [
    {
     "data": {
      "text/plain": [
       "(array([215.,   0., 193.,   0.,   0., 216.,   0., 189.,   0., 187.]),\n",
       " array([0. , 0.4, 0.8, 1.2, 1.6, 2. , 2.4, 2.8, 3.2, 3.6, 4. ]),\n",
       " <BarContainer object of 10 artists>)"
      ]
     },
     "execution_count": 5,
     "metadata": {},
     "output_type": "execute_result"
    },
    {
     "data": {
      "image/png": "[encoded data removed]",
      "text/plain": [
       "<Figure size 640x480 with 1 Axes>"
      ]
     },
     "metadata": {},
     "output_type": "display_data"
    }
   ],
   "source": [
    "plt.hist(df[\"Producto\"])"
   ]
  },
  {
   "cell_type": "code",
   "execution_count": 6,
   "id": "7301ff6a",
   "metadata": {},
   "outputs": [
    {
     "data": {
      "text/plain": [
       "array([-1.13140184e+00, -4.28993455e-01,  9.03667272e-01,  8.53004988e-01,\n",
       "        1.84501988e+00,  3.73279596e-01, -1.13803306e-01,  1.03922093e+00,\n",
       "       -8.34099292e-01, -1.30963382e+00,  1.70690231e+00,  7.09831092e-01,\n",
       "        6.62617434e-02,  1.30445485e-02, -2.46061503e+00,  1.11585438e+00,\n",
       "       -4.19579266e-01, -8.69869220e-01, -7.68043519e-01,  5.94325023e-01,\n",
       "        6.35455549e-01, -1.78885492e+00,  1.56474065e+00,  3.49762819e-01,\n",
       "        1.22519517e-01,  2.61166886e-01, -4.94573798e-03, -1.42391031e+00,\n",
       "        1.05693818e+00, -9.92071507e-01, -3.34879870e-01,  2.91824863e-02,\n",
       "        1.97628016e+00,  5.23009344e-01, -2.51071307e-01, -7.76454355e-01,\n",
       "        9.85650539e-01, -7.66534754e-01,  5.75510751e-01,  1.26804555e-01,\n",
       "       -2.90561466e-02, -2.63708505e-01, -1.44918447e-02, -8.33694286e-01,\n",
       "        9.66916875e-01,  1.39829482e+00,  9.71008685e-01, -1.00336420e+00,\n",
       "        6.35617834e-01,  1.25935093e+00,  1.11891131e-01, -8.01659193e-01,\n",
       "       -9.11947907e-01, -7.18046480e-01,  4.70823257e-01,  2.02039459e+00,\n",
       "        2.25883284e-01,  1.20779932e+00, -1.37933796e+00, -1.92866069e+00,\n",
       "        4.68021471e-01,  2.62292992e-01, -3.74429379e-01, -1.92720642e+00,\n",
       "       -9.91762867e-01, -5.84540716e-01,  2.64161220e-01, -3.87177449e-01,\n",
       "        9.37720110e-01, -1.30838410e+00,  2.05044065e-01, -1.61175871e+00,\n",
       "       -2.15008252e+00, -5.11709618e-01,  1.03436759e+00, -5.80321071e-01,\n",
       "        3.18607873e-02, -4.84747978e-01, -8.72992725e-01, -1.12490900e+00,\n",
       "       -1.95389225e-01, -3.96475435e-01, -1.31093207e+00,  8.24268808e-01,\n",
       "       -5.16201898e-01,  1.33090178e+00,  8.31646977e-01, -1.54017289e+00,\n",
       "       -1.94430501e+00, -4.12286847e-02, -1.64501579e+00, -3.23544500e-01,\n",
       "        1.19885070e+00, -3.94686938e+00,  9.13366532e-02, -9.27815838e-01,\n",
       "       -2.43008646e-01, -8.05896221e-01, -4.73394835e-01, -1.02867451e+00,\n",
       "       -1.72377699e-01,  5.53736844e-01,  4.57950624e-01,  2.94107602e-01,\n",
       "        7.79189098e-01,  8.89619762e-01, -1.73700717e-01, -9.27266787e-01,\n",
       "        2.33650818e+00,  1.57519672e-01, -4.16705786e-01,  1.84146091e+00,\n",
       "        1.31345678e-01, -3.85196850e-01, -4.65347663e-01, -1.28377872e+00,\n",
       "       -9.18150810e-01,  1.78705923e+00,  3.01099351e-01, -1.29990650e-01,\n",
       "       -9.82101934e-01,  1.50348865e+00, -3.93881728e-01,  3.51478790e-01,\n",
       "       -1.62262857e+00,  5.03226920e-01, -1.16222274e+00,  9.41214679e-01,\n",
       "        6.54374549e-01, -9.23574447e-01,  8.55614371e-01, -8.15706426e-01,\n",
       "        2.39025789e-02,  3.15300316e+00, -2.13430573e+00,  8.84461136e-01,\n",
       "       -2.25909868e-01, -1.17668686e-01, -4.38026863e-01,  5.96612153e-01,\n",
       "        6.06603597e-01, -9.07868781e-01, -5.50943201e-01,  1.49124053e+00,\n",
       "       -9.18202535e-01,  8.07533143e-01,  1.24733438e+00,  8.66112798e-01,\n",
       "       -5.36614984e-01,  1.14535837e+00,  5.35687933e-01,  2.64775381e-01,\n",
       "        1.20300445e+00, -1.09480696e+00, -1.10111998e+00,  7.35807127e-01,\n",
       "        8.94786659e-01, -2.45744416e+00,  1.35770058e+00,  4.58072325e-01,\n",
       "       -1.07706789e+00,  1.02948570e+00,  6.09078775e-01, -1.65623023e+00,\n",
       "       -3.69304390e-01, -1.71996035e+00, -7.85052135e-01, -2.81667020e-01,\n",
       "        3.60157843e-01,  1.27221104e+00,  8.62896119e-01, -2.94428088e-01,\n",
       "        3.48061531e-01, -2.59847114e-01, -1.68735098e-01, -2.82815333e-03,\n",
       "       -1.06497922e-01,  5.84397551e-01, -1.47825555e+00,  1.27966580e+00,\n",
       "       -2.52791866e-01, -1.40457340e+00, -2.87579128e-01, -1.19327255e+00,\n",
       "       -1.91087753e+00, -7.76289316e-01,  8.71396327e-01, -9.32615602e-02,\n",
       "       -7.90079919e-01,  1.40823647e+00, -1.00375594e+00, -1.09577658e-01,\n",
       "       -5.20482908e-01, -9.01024854e-01,  1.44176706e+00, -1.71809216e+00,\n",
       "        1.60929957e-01, -4.23554610e-01, -2.03972868e+00, -4.94637776e-01,\n",
       "        6.69638485e-01, -3.60359254e-01, -8.82125262e-01, -1.97860867e+00,\n",
       "       -6.23749356e-01, -1.27602432e+00, -1.42480434e+00,  9.19505498e-01,\n",
       "       -2.51003475e-01, -3.76702371e-01,  1.10554426e+00, -1.10253100e+00,\n",
       "       -3.45209010e-01,  1.56217503e+00, -8.26649448e-03,  1.50141776e+00,\n",
       "        1.10769094e+00,  5.20224598e-01, -6.58125189e-01,  3.00990013e-02,\n",
       "        7.85195080e-01, -3.42717707e-01,  2.01879142e-01, -1.83031131e+00,\n",
       "       -1.13001858e-01,  1.41827989e-01,  5.01739506e-01,  9.06942120e-01,\n",
       "       -1.25816374e+00,  1.99748286e+00,  4.05842870e-01,  1.24400712e+00,\n",
       "       -1.62668766e+00, -1.07487779e+00,  1.41662066e+00, -6.17761540e-01,\n",
       "        9.65931722e-01,  1.55987693e+00, -5.23722720e-01,  7.04341282e-02,\n",
       "       -7.36114528e-01,  3.19220218e-01, -3.48920214e-01, -1.11442061e+00,\n",
       "        1.54152283e+00, -1.69773330e+00, -1.48067762e+00, -1.59704056e+00,\n",
       "       -3.32714293e-01, -6.90198855e-01,  5.86274997e-01,  5.34381639e-01,\n",
       "        2.06736262e-01, -9.05159629e-01,  1.30792734e+00,  1.13906861e+00,\n",
       "        2.01994884e+00,  7.30784994e-02, -6.53691215e-01, -5.98559179e-01,\n",
       "        1.08619599e+00,  1.40422738e+00, -7.61933907e-01, -7.57515406e-01,\n",
       "       -9.15744144e-01,  1.69480483e+00, -2.85488642e-01,  5.33485157e-01,\n",
       "        1.90518037e-01,  7.94309916e-01, -9.06457177e-01,  1.12306986e+00,\n",
       "        8.24547755e-01, -6.21928131e-01,  1.43242605e+00,  6.71134126e-01,\n",
       "        5.33717530e-02, -7.77861799e-02, -8.07529662e-01, -8.84702472e-01,\n",
       "        1.50471621e+00, -1.27749824e+00,  5.25937227e-02,  2.44359533e+00,\n",
       "       -2.11889782e+00, -1.42412741e-01,  7.61203085e-01, -1.56572309e+00,\n",
       "        1.65617645e+00, -7.49584764e-01,  9.09898750e-01,  7.96519426e-01,\n",
       "        1.57119998e+00, -1.08456871e+00, -1.63250390e+00, -7.16857943e-01,\n",
       "       -1.48120937e+00, -9.74368629e-01,  1.09834807e+00, -1.03478573e+00,\n",
       "        7.13189322e-01, -7.30572595e-01, -4.76764230e-01,  2.59803018e-01,\n",
       "       -2.42917817e+00, -1.02265982e+00, -1.55733193e-01,  5.16748322e-02,\n",
       "       -2.90503660e-01,  6.52136996e-02, -1.41563379e+00,  8.93078873e-01,\n",
       "       -2.46451826e-01,  9.24582326e-01,  1.51511932e+00, -1.72067379e+00,\n",
       "        5.04472510e-01,  5.04325361e-01,  7.12184195e-01, -2.41880754e-01,\n",
       "       -6.94826907e-01, -4.67462299e-02,  1.42850989e+00,  9.36829989e-01,\n",
       "       -6.08080984e-01, -7.54070793e-01,  3.30927987e-02, -1.39096874e+00,\n",
       "       -7.54494636e-01,  5.10794603e-01, -2.51638834e-01,  8.89602711e-02,\n",
       "        3.22961521e-01,  7.51813972e-01, -5.34705731e-01, -8.29269183e-01,\n",
       "       -3.80267599e-01,  5.75268940e-02,  6.84152889e-01, -2.56149750e-01,\n",
       "        1.81431618e-01,  1.28467258e+00, -6.95706798e-01, -3.86996060e-01,\n",
       "        6.26063696e-01, -4.71158384e-01,  5.92796342e-01,  3.86211421e-01,\n",
       "        3.04815349e-01,  5.20874373e-01,  7.45585762e-01, -1.92303429e+00,\n",
       "        3.85453409e-01,  1.24022141e+00,  4.64795548e-01,  1.16254317e+00,\n",
       "       -4.72149767e-01,  1.69540896e-01, -1.99410555e+00,  1.05436911e+00,\n",
       "        4.03659196e-01,  1.44569909e+00,  2.12376819e-01,  8.67647738e-02,\n",
       "       -1.48560925e-01, -1.31915813e-01, -4.01263583e-01, -1.90426466e+00,\n",
       "        9.34090950e-01, -1.04814807e+00, -8.07817337e-01,  1.04065074e+00,\n",
       "       -5.62435221e-01, -3.00218175e+00,  9.31135941e-02,  5.84111891e-01,\n",
       "        6.22535345e-01,  9.10394804e-01,  2.08097779e+00, -1.40045438e-01,\n",
       "       -4.05584795e-01,  1.58213268e+00,  9.40134375e-01, -1.08912635e+00,\n",
       "       -1.43026845e+00, -3.61897251e-01,  1.38588982e+00,  1.02804456e-01,\n",
       "       -1.91669580e+00, -1.08004986e-03,  8.55549827e-02,  1.25356991e+00,\n",
       "       -4.61461459e-01,  1.54545093e-01,  2.15155910e+00, -1.35815956e+00,\n",
       "       -1.05271627e+00, -1.94612590e+00,  1.44408123e+00,  3.30614656e-03,\n",
       "        1.02105234e+00, -3.54267503e-01,  3.94115566e-01, -4.61998050e-01,\n",
       "        2.72382815e-01, -5.75634042e-01, -3.96270479e-01, -2.12210880e+00,\n",
       "       -3.22350725e-01, -1.19887067e+00, -1.46984555e-01,  5.79694947e-01,\n",
       "       -5.73124030e-01, -2.15804987e+00,  5.44926731e-01, -1.74002418e+00,\n",
       "        1.07219405e+00,  1.55602834e-01,  6.98672625e-01, -1.44398262e+00,\n",
       "        2.69349682e+00,  6.07614838e-01, -8.99629596e-01,  2.74478386e-01,\n",
       "        5.72047966e-01, -4.30858354e-01,  1.23823016e+00,  7.42335498e-01,\n",
       "        5.59321859e-01,  1.21729761e+00, -1.05436008e-01, -9.94981139e-01,\n",
       "       -1.46653398e+00, -1.64218830e+00, -1.72602234e-01,  2.18852194e-01,\n",
       "       -9.98439699e-01,  1.23844883e-01, -7.79542019e-01, -2.00080936e+00,\n",
       "       -9.84653351e-01, -2.06112345e-01, -3.46428975e-01, -1.25093202e+00,\n",
       "        1.68719340e+00,  1.09323755e-03,  3.50182385e-01,  7.39012714e-01,\n",
       "       -1.20443798e+00,  8.54672524e-01,  1.13309843e+00,  2.53048184e+00,\n",
       "       -2.97692237e-01, -8.46175749e-02, -2.89361595e-01, -3.27423130e-01,\n",
       "        2.56627908e-01, -9.45329693e-01, -6.45894046e-01, -8.01925884e-02,\n",
       "        1.40713738e-01,  7.10554223e-01,  4.24576618e-01, -1.19716214e+00,\n",
       "        4.88660650e-01, -6.40958236e-01,  5.49959699e-01, -7.62355404e-01,\n",
       "        8.59751146e-02, -9.86045472e-01, -1.56396296e+00, -5.41059594e-02,\n",
       "       -1.33579071e+00, -1.51184943e+00, -1.07619469e+00,  1.84775115e-01,\n",
       "        2.82457465e-01,  1.15025678e+00, -2.86926108e-01,  7.55158895e-01,\n",
       "        1.48650727e-01, -1.49883555e+00, -5.00303325e-01, -1.58326383e+00,\n",
       "       -1.00948163e+00,  1.71867083e+00, -1.42782924e+00, -3.12896001e-02,\n",
       "       -4.21967698e-01,  2.03486869e+00, -9.25106595e-02, -8.33352124e-01,\n",
       "        1.07504002e+00,  1.05542133e+00,  1.44197195e+00,  1.07971892e+00,\n",
       "       -5.63922609e-01, -1.30789316e+00,  8.59944657e-01, -5.95159150e-01,\n",
       "       -1.80621999e+00,  4.35478692e-01,  1.80849178e+00,  6.39079649e-01,\n",
       "       -5.60748786e-01,  4.18005788e-01, -4.26537782e-01,  5.66445885e-01,\n",
       "        1.36138707e-01, -2.30972084e-01, -1.69344036e-02, -4.71055360e-01,\n",
       "       -2.08750187e+00, -1.69169052e+00, -6.49934524e-02, -2.47073105e-01,\n",
       "        7.51032497e-01, -1.13856425e+00,  1.40762601e+00, -4.02445719e-01,\n",
       "       -1.18144627e+00, -1.97598547e+00,  1.27932422e+00,  2.87519064e-01,\n",
       "       -1.37684927e+00,  9.93026071e-02, -1.13186835e+00,  2.10317145e+00,\n",
       "        1.85985150e-01,  6.18328895e-01,  1.13982701e+00,  1.58595402e+00,\n",
       "       -6.80267209e-02,  1.65100551e-01, -2.08799481e-01, -1.71359251e+00,\n",
       "       -3.63523548e-01,  2.15321952e-01,  4.29726126e-01,  7.83995255e-01,\n",
       "       -4.44866990e-01,  8.02642970e-01, -2.14509887e+00,  3.63454160e-01,\n",
       "       -1.83733474e+00, -1.71720839e-01, -4.03176637e-02, -3.70532578e-01,\n",
       "       -1.37021581e+00,  1.13078079e+00,  9.86352579e-01, -4.50452164e-01,\n",
       "        2.78994770e-01,  1.13791093e+00, -1.87354975e-02,  2.32753881e-01,\n",
       "       -6.26343399e-01,  1.62207104e+00,  8.50086587e-01, -7.88931544e-01,\n",
       "        3.25214600e-02, -4.93819805e-01, -1.34312397e+00,  2.67238169e-01,\n",
       "        1.01486470e+00,  3.41526857e-01,  3.37404165e-01, -5.94550121e-01,\n",
       "       -9.18496657e-01,  1.39373847e+00,  1.00875714e+00, -6.66589660e-01,\n",
       "       -1.38165023e-01, -1.14380459e+00, -1.37308662e+00, -1.87456738e-01,\n",
       "        1.05403328e+00,  1.04521566e+00, -1.73194462e-01,  1.16883934e-01,\n",
       "       -1.47483282e+00, -6.09888097e-01, -5.81581766e-02, -4.08903997e-02,\n",
       "        3.29959774e-01, -1.76384381e+00,  5.20882930e-01, -2.33479577e-01,\n",
       "        1.27762473e+00, -5.04642306e-01, -6.22712903e-01, -1.01220507e+00,\n",
       "       -3.58803812e-01,  9.32314534e-01, -7.79035929e-03,  7.54193510e-01,\n",
       "        1.18125860e+00, -5.65320519e-01, -1.55307357e+00,  2.09009024e-01,\n",
       "        4.61313827e-01, -1.70915040e-01, -1.64185172e+00,  1.69109319e+00,\n",
       "       -1.11913398e+00,  1.67314569e+00,  1.33090178e+00,  1.95863619e-01,\n",
       "       -7.04083976e-01, -1.05941433e+00,  1.41081407e+00,  7.41464787e-01,\n",
       "        1.44563728e-01,  4.13307343e-01, -2.23084352e+00,  4.14947037e-02,\n",
       "        1.89810684e-01, -1.50632336e-02, -1.00447065e+00,  1.19912068e+00,\n",
       "       -2.29513811e+00,  1.25856725e-01, -1.39565203e+00, -8.56602713e-02,\n",
       "       -2.46230138e-02, -7.89012637e-01, -9.09071085e-02, -5.83199533e-01,\n",
       "       -1.59974896e+00,  6.34020129e-01, -2.41810131e+00, -1.27832443e+00,\n",
       "        2.26662746e-01, -2.47619028e+00,  9.94320223e-01, -2.34613134e+00,\n",
       "        8.72445120e-01,  3.70855095e-01,  1.37156913e+00, -6.17795572e-02,\n",
       "        4.17157235e-01, -2.55758075e-01,  1.92806104e+00,  1.13162342e+00,\n",
       "       -7.46613254e-02, -3.29219535e-01, -1.14035326e+00,  1.55396349e+00,\n",
       "        6.85798420e-01,  8.95562437e-01,  9.95137556e-01, -1.71655976e+00,\n",
       "        9.96843467e-01, -1.18287603e+00,  4.64710564e-01,  3.15017882e-01,\n",
       "        7.15087733e-01, -4.99917655e-01, -5.68666009e-01, -1.40933152e+00,\n",
       "       -6.28155432e-01, -2.08050563e+00,  1.18680358e+00, -8.92743591e-01,\n",
       "       -1.28903237e+00, -2.29251821e-01, -1.23359777e+00, -8.97002705e-01,\n",
       "       -9.39616577e-01,  1.04215768e+00, -5.05014529e-01,  4.52567806e-01,\n",
       "       -1.13789739e+00, -1.02870055e+00, -7.14975537e-01,  1.08768975e+00,\n",
       "       -1.36720431e+00, -4.08221218e-01,  1.12512666e+00,  1.01700919e+00,\n",
       "        1.25951976e+00,  9.53021765e-01,  4.41380016e-01, -7.46428792e-01,\n",
       "       -3.42646396e-01,  1.56864127e+00,  3.78919409e-01,  2.06569956e-01,\n",
       "       -9.04855399e-01, -4.52652588e-02, -1.40177099e+00,  8.21545680e-01,\n",
       "        9.82918611e-01, -1.19036503e+00, -8.17611287e-02, -1.29885416e+00,\n",
       "       -1.19535101e+00, -1.16462925e+00, -5.48581047e-01, -4.28444334e-01,\n",
       "       -8.48169860e-03,  1.08101018e+00,  6.48974837e-01, -1.67847731e-01,\n",
       "        9.76752549e-01,  5.76522133e-01,  7.82030014e-01,  5.61750821e-01,\n",
       "       -7.18358288e-01,  1.20393547e+00,  1.17848022e+00, -7.05923397e-01,\n",
       "       -1.32776732e-01, -5.19315861e-01,  1.31228161e+00,  1.68306972e-01,\n",
       "       -1.71816421e+00,  1.32167595e+00, -9.34690034e-01,  8.14858163e-01,\n",
       "        9.56189391e-01, -1.08844786e+00,  5.45474263e-01, -1.43504620e+00,\n",
       "       -1.50166810e+00,  6.79207233e-01, -2.32505734e-01,  2.83758310e-01,\n",
       "        3.33700370e-01,  5.34263006e-01,  1.22349357e-01, -6.12005647e-01,\n",
       "       -4.92327851e-01,  4.91467267e-01, -9.61565297e-01,  1.72342802e-01,\n",
       "        1.14303019e+00, -6.74241265e-01, -4.03385742e-01,  5.73845610e-01,\n",
       "        1.01615501e+00,  7.57758140e-01, -5.07791607e-01, -1.09222218e+00,\n",
       "        4.29458248e-01, -1.81468158e-01, -2.99241006e+00, -1.03733623e+00,\n",
       "        1.20784700e+00, -1.01876290e+00, -2.74536411e-01,  5.77442704e-01,\n",
       "       -1.46846945e-01, -2.14938392e+00, -1.21073228e+00,  1.21236965e+00,\n",
       "        4.71642265e-01, -4.16665186e-01, -6.91333212e-01, -1.32079018e+00,\n",
       "       -4.93497063e-01,  1.82939853e+00, -9.73750159e-02, -5.60461879e-01,\n",
       "        2.38779245e-01, -1.53555509e-01, -7.67662241e-01,  8.38124334e-02,\n",
       "       -1.92720988e-01,  4.47803687e-01,  7.76324880e-02, -8.30156818e-01,\n",
       "        1.04948983e-01, -2.33737635e+00,  7.28138179e-01, -8.04483824e-01,\n",
       "        2.08224704e+00, -1.18660217e+00,  7.05998211e-01,  7.42856773e-01,\n",
       "       -6.90816985e-01,  9.33284043e-01, -2.95042300e-01, -1.43874858e-01,\n",
       "       -9.77534667e-01, -5.32560854e-01, -3.65769853e-01,  1.41911026e+00,\n",
       "       -1.88265250e+00,  1.94584048e-01, -1.60197763e+00, -6.51046405e-02,\n",
       "       -1.11494942e+00, -1.54267269e+00, -7.93689293e-01,  1.62432686e+00,\n",
       "       -6.09674446e-01, -6.51995509e-01,  1.86412904e-01,  9.76150818e-02,\n",
       "       -3.82279829e-01,  9.08043927e-01,  1.30622289e+00, -1.53567844e-01,\n",
       "       -8.70569629e-01, -5.38175590e-02,  1.47153835e-01, -2.27140362e+00,\n",
       "       -1.12799835e+00,  7.39058732e-01, -4.30598431e-01, -1.13622986e+00,\n",
       "       -1.43270030e+00,  7.01143963e-03,  2.76716163e-01, -5.77983462e-01,\n",
       "        1.21253144e+00, -6.67404579e-01, -2.40414767e-02, -4.08439296e-01,\n",
       "       -1.58398513e+00,  6.88825217e-01, -4.14277450e-01,  8.87112592e-01,\n",
       "        7.24500124e-01, -2.00288069e-01,  1.18767017e+00,  5.79888041e-01,\n",
       "        7.82873007e-03,  8.19370798e-01,  8.38313842e-01, -1.67333176e+00,\n",
       "        2.76900798e-01, -3.02221468e-01,  2.85269667e-01,  1.32562017e+00,\n",
       "        8.90033147e-01, -6.72909428e-01, -1.47123883e+00,  4.12740636e-01,\n",
       "        1.81404838e+00, -1.61628528e+00, -4.00454066e-01, -7.78498481e-01,\n",
       "       -1.23248186e+00,  1.41770306e-01, -2.04970811e+00,  4.62608213e-01,\n",
       "       -6.78510500e-01, -7.96821266e-01, -1.43067514e+00,  1.08006882e+00,\n",
       "       -9.25611493e-02, -1.66016123e-01, -6.21285831e-01,  3.67906827e-01,\n",
       "        5.73382261e-01, -4.01266587e-01,  1.35894672e-01,  2.14520555e+00,\n",
       "       -5.03930110e-01, -2.09535902e+00,  4.32564041e-01,  7.50527004e-01,\n",
       "        3.61687913e-01,  8.66279264e-02,  8.62838039e-01,  3.15329090e-01,\n",
       "        1.78908391e+00, -5.88325956e-01, -1.03968937e+00,  7.88137561e-01,\n",
       "        1.72976911e+00, -1.14795081e-01,  1.26811573e+00, -7.87276134e-01,\n",
       "        7.97676560e-01, -3.53791256e-01,  1.61442235e-01,  1.00553479e+00,\n",
       "        7.20980703e-01,  1.00038330e+00, -6.66915574e-01,  2.93770096e-01,\n",
       "        1.07136038e-01, -1.42860419e+00, -1.58736342e+00, -6.10630474e-01,\n",
       "       -2.38634014e-01, -8.57596792e-02,  2.43596812e+00, -3.91738749e-01,\n",
       "        6.97789866e-01, -1.00629874e+00,  1.24589888e+00, -1.44104941e+00,\n",
       "        5.33324068e-01, -1.38226103e-01,  1.71596535e-01, -1.09872045e-01,\n",
       "       -7.32561132e-01,  6.34347821e-01,  1.64336751e+00,  2.64256070e-01,\n",
       "       -3.98807555e-01, -4.40312745e-01,  1.12589001e+00,  4.16563250e-02,\n",
       "       -4.30111889e-01, -2.05600861e+00,  1.32331771e+00, -1.30708357e+00,\n",
       "        1.14053263e+00,  3.38672402e-01, -6.97337935e-01, -1.28007245e-02,\n",
       "       -1.14866006e+00, -1.46192756e+00, -4.94202926e-01,  2.26261135e+00,\n",
       "        6.25182409e-01,  1.53694759e+00, -1.15888190e+00, -6.29293761e-01,\n",
       "       -6.62625379e-01, -1.07947114e+00, -6.05957787e-01,  6.18603170e-01,\n",
       "        3.68340099e-01,  2.28635150e+00,  2.27863646e-02,  1.36640297e+00,\n",
       "       -8.24429103e-01, -8.31990309e-01, -1.20319686e-01,  1.65972877e-01,\n",
       "        7.07564537e-01, -1.06892031e+00,  6.59098508e-01, -3.98563111e+00,\n",
       "       -5.28221504e-01, -1.78239633e+00, -1.09364012e+00,  1.73768219e+00,\n",
       "       -3.77592840e-01,  1.55592032e-02, -1.16900770e-01,  1.66213500e+00,\n",
       "        1.49284565e+00,  2.61880574e-01, -1.06093306e+00, -8.65552045e-01,\n",
       "        1.12665038e+00,  1.18055412e+00,  2.99031442e-01, -8.07513298e-01,\n",
       "       -2.07444522e+00,  2.03728065e+00, -1.09012070e+00, -4.74316021e-01,\n",
       "       -1.41933636e+00,  1.64113365e+00,  2.38249451e-01, -1.72612738e+00,\n",
       "        9.59653627e-01,  7.21914069e-01,  8.37459626e-01, -2.38177646e+00,\n",
       "       -1.42707092e+00,  3.55145627e-01,  7.51717785e-01,  2.99526748e-01,\n",
       "        2.40902298e-01, -1.74300259e+00, -1.55551263e+00, -3.56479675e-01,\n",
       "        6.27557303e-01, -1.07683356e+00, -1.53003488e+00, -1.28589207e+00,\n",
       "        1.59276642e+00,  1.93492359e-01, -7.05180249e-01, -6.05969656e-01,\n",
       "       -2.82610621e-01,  1.34561007e+00,  1.12648218e+00, -4.39133012e-01,\n",
       "        8.23892716e-01, -1.21067530e+00, -1.52799489e+00, -9.97450845e-01,\n",
       "       -2.83416335e+00, -1.91299444e+00,  4.22682437e-01,  2.92855051e+00,\n",
       "       -1.66038770e+00, -2.03097279e+00,  3.68783060e-01, -1.46024398e+00])"
      ]
     },
     "execution_count": 6,
     "metadata": {},
     "output_type": "execute_result"
    }
   ],
   "source": [
    "numeros = np.random.randn(1000)\n",
    "numeros"
   ]
  },
  {
   "cell_type": "code",
   "execution_count": 7,
   "id": "e39a2930",
   "metadata": {},
   "outputs": [
    {
     "data": {
      "text/plain": [
       "(array([  2.,   3.,  40., 118., 215., 259., 208., 125.,  25.,   5.]),\n",
       " array([-3.98563111, -3.27176768, -2.55790426, -1.84404083, -1.1301774 ,\n",
       "        -0.41631398,  0.29754945,  1.01141288,  1.72527631,  2.43913973,\n",
       "         3.15300316]),\n",
       " <BarContainer object of 10 artists>)"
      ]
     },
     "execution_count": 7,
     "metadata": {},
     "output_type": "execute_result"
    },
    {
     "data": {
      "image/png": "[encoded data removed]",
      "text/plain": [
       "<Figure size 640x480 with 1 Axes>"
      ]
     },
     "metadata": {},
     "output_type": "display_data"
    }
   ],
   "source": [
    "plt.hist(numeros)"
   ]
  },
  {
   "cell_type": "code",
   "execution_count": 11,
   "id": "6e1009a2",
   "metadata": {
    "scrolled": true
   },
   "outputs": [
    {
     "data": {
      "image/png": "[encoded data removed]",
      "text/plain": [
       "<Figure size 640x480 with 1 Axes>"
      ]
     },
     "metadata": {},
     "output_type": "display_data"
    }
   ],
   "source": [
    "plt.hist(numeros,bins=40);"
   ]
  },
  {
   "cell_type": "code",
   "execution_count": 13,
   "id": "8407d169",
   "metadata": {},
   "outputs": [
    {
     "data": {
      "image/png": "[encoded data removed]",
      "text/plain": [
       "<Figure size 640x480 with 1 Axes>"
      ]
     },
     "metadata": {},
     "output_type": "display_data"
    }
   ],
   "source": [
    "plt.hist(numeros,bins=40,alpha = 0.5, color= \"red\");"
   ]
  },
  {
   "cell_type": "code",
   "execution_count": 14,
   "id": "90965ec9",
   "metadata": {},
   "outputs": [
    {
     "data": {
      "image/png": "[encoded data removed]",
      "text/plain": [
       "<Figure size 640x480 with 1 Axes>"
      ]
     },
     "metadata": {},
     "output_type": "display_data"
    }
   ],
   "source": [
    "plt.hist(numeros,bins=40,alpha = 0.5, color= \"red\",edgecolor = \"green\" );"
   ]
  },
  {
   "cell_type": "code",
   "execution_count": 16,
   "id": "219c7c5c",
   "metadata": {},
   "outputs": [
    {
     "data": {
      "image/png": "[encoded data removed]",
      "text/plain": [
       "<Figure size 640x480 with 1 Axes>"
      ]
     },
     "metadata": {},
     "output_type": "display_data"
    }
   ],
   "source": [
    "plt.hist(numeros,bins=40,alpha = 0.5, color= \"red\",edgecolor = \"green\" , histtype=\"step\");"
   ]
  },
  {
   "cell_type": "code",
   "execution_count": 19,
   "id": "3c243541",
   "metadata": {},
   "outputs": [
    {
     "data": {
      "image/png": "[encoded data removed]",
      "text/plain": [
       "<Figure size 640x480 with 1 Axes>"
      ]
     },
     "metadata": {},
     "output_type": "display_data"
    }
   ],
   "source": [
    "x1 = np.random.randn(1000)\n",
    "x2 = np.random.randn(500)\n",
    "x3 = np.random.randn(100)\n",
    "\n",
    "plt.hist(x1,histtype=\"stepfilled\",alpha=0.3,bins=40);\n",
    "plt.hist(x2,histtype=\"stepfilled\",alpha=0.3,bins=40);\n",
    "plt.hist(x3,histtype=\"stepfilled\",alpha=0.3,bins=40);"
   ]
  },
  {
   "cell_type": "code",
   "execution_count": null,
   "id": "5168910e",
   "metadata": {},
   "outputs": [],
   "source": []
  },
  {
   "cell_type": "code",
   "execution_count": null,
   "id": "47183439",
   "metadata": {},
   "outputs": [],
   "source": []
  },
  {
   "cell_type": "code",
   "execution_count": null,
   "id": "9dc9ea52",
   "metadata": {},
   "outputs": [],
   "source": []
  }
 ],
 "metadata": {
  "kernelspec": {
   "display_name": "Python 3 (ipykernel)",
   "language": "python",
   "name": "python3"
  },
  "language_info": {
   "codemirror_mode": {
    "name": "ipython",
    "version": 3
   },
   "file_extension": ".py",
   "mimetype": "text/x-python",
   "name": "python",
   "nbconvert_exporter": "python",
   "pygments_lexer": "ipython3",
   "version": "3.11.5"
  }
 },
 "nbformat": 4,
 "nbformat_minor": 5
}
