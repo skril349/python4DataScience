{
 "cells": [
  {
   "cell_type": "code",
   "execution_count": 9,
   "id": "c956a942",
   "metadata": {},
   "outputs": [],
   "source": [
    "from sklearn.datasets import load_iris\n",
    "from sklearn.model_selection import train_test_split\n",
    "from sklearn.feature_selection import SelectKBest, SelectFromModel, chi2\n",
    "from sklearn.ensemble import RandomForestClassifier\n",
    "data = load_iris()\n",
    "X = data.data\n",
    "y = data.target"
   ]
  },
  {
   "cell_type": "code",
   "execution_count": 3,
   "id": "0e577154",
   "metadata": {},
   "outputs": [],
   "source": [
    "X_train,X_test, y_train, y_test = train_test_split(X,y,test_size=0.2,random_state=42)"
   ]
  },
  {
   "cell_type": "code",
   "execution_count": 4,
   "id": "a6817718",
   "metadata": {},
   "outputs": [
    {
     "name": "stdout",
     "output_type": "stream",
     "text": [
      "Tamaño del conjunto total:  150\n",
      "Tamaño del conjunto entrenamiento:  120\n",
      "Tamaño del conjunto test:  30\n"
     ]
    }
   ],
   "source": [
    "print(\"Tamaño del conjunto total: \", len(X))\n",
    "print(\"Tamaño del conjunto entrenamiento: \", len(X_train))\n",
    "print(\"Tamaño del conjunto test: \", len(X_test))"
   ]
  },
  {
   "cell_type": "code",
   "execution_count": 6,
   "id": "0924d0d2",
   "metadata": {},
   "outputs": [],
   "source": [
    "selector = SelectKBest(score_func=chi2, k = 2)\n",
    "X_nuevo = selector.fit_transform(X_train,y_train)"
   ]
  },
  {
   "cell_type": "code",
   "execution_count": 7,
   "id": "8a90148a",
   "metadata": {},
   "outputs": [
    {
     "data": {
      "text/plain": [
       "array([[1. , 0.2],\n",
       "       [1.5, 0.4],\n",
       "       [4.4, 1.4],\n",
       "       [1.6, 0.2],\n",
       "       [1.3, 0.2],\n",
       "       [5. , 1.9],\n",
       "       [4.5, 1.5],\n",
       "       [1.5, 0.2],\n",
       "       [1.4, 0.2],\n",
       "       [1.5, 0.1],\n",
       "       [5.1, 1.9],\n",
       "       [4.5, 1.6],\n",
       "       [4.7, 1.5],\n",
       "       [1.3, 0.4],\n",
       "       [1.5, 0.2],\n",
       "       [3.7, 1. ],\n",
       "       [5.1, 1.5],\n",
       "       [5.5, 1.8],\n",
       "       [4.4, 1.4],\n",
       "       [6.1, 2.5],\n",
       "       [4.2, 1.3],\n",
       "       [6.6, 2.1],\n",
       "       [4.5, 1.5],\n",
       "       [1.4, 0.2],\n",
       "       [6.7, 2. ],\n",
       "       [4.1, 1. ],\n",
       "       [1.4, 0.2],\n",
       "       [1.3, 0.3],\n",
       "       [1.9, 0.4],\n",
       "       [3.5, 1. ],\n",
       "       [4.9, 1.8],\n",
       "       [1.9, 0.2],\n",
       "       [1.6, 0.2],\n",
       "       [1.7, 0.5],\n",
       "       [4.2, 1.3],\n",
       "       [1.5, 0.2],\n",
       "       [4.2, 1.2],\n",
       "       [6.7, 2.2],\n",
       "       [1.4, 0.2],\n",
       "       [4.3, 1.3],\n",
       "       [5. , 2. ],\n",
       "       [1.4, 0.2],\n",
       "       [4.8, 1.8],\n",
       "       [5.1, 1.9],\n",
       "       [4. , 1. ],\n",
       "       [4.5, 1.5],\n",
       "       [5.4, 2.3],\n",
       "       [4. , 1.3],\n",
       "       [1.7, 0.4],\n",
       "       [3.3, 1. ],\n",
       "       [5.3, 1.9],\n",
       "       [1.4, 0.2],\n",
       "       [1.2, 0.2],\n",
       "       [3.8, 1.1],\n",
       "       [5. , 1.7],\n",
       "       [1.5, 0.2],\n",
       "       [5.1, 2.4],\n",
       "       [1.5, 0.2],\n",
       "       [1.6, 0.6],\n",
       "       [4.8, 1.8],\n",
       "       [3. , 1.1],\n",
       "       [5.7, 2.3],\n",
       "       [5.1, 1.6],\n",
       "       [5.6, 1.4],\n",
       "       [6.1, 2.3],\n",
       "       [4. , 1.3],\n",
       "       [1.4, 0.2],\n",
       "       [1.1, 0.1],\n",
       "       [5. , 1.5],\n",
       "       [6. , 1.8],\n",
       "       [1.5, 0.2],\n",
       "       [1.4, 0.3],\n",
       "       [1.3, 0.2],\n",
       "       [4.9, 1.5],\n",
       "       [5.6, 2.4],\n",
       "       [1.4, 0.3],\n",
       "       [5.5, 2.1],\n",
       "       [6. , 2.5],\n",
       "       [1.3, 0.2],\n",
       "       [4.7, 1.4],\n",
       "       [4.6, 1.5],\n",
       "       [4.8, 1.8],\n",
       "       [4.7, 1.4],\n",
       "       [5.3, 2.3],\n",
       "       [1.6, 0.2],\n",
       "       [5.4, 2.1],\n",
       "       [4.2, 1.5],\n",
       "       [5.2, 2. ],\n",
       "       [3.5, 1. ],\n",
       "       [3.9, 1.4],\n",
       "       [4.6, 1.4],\n",
       "       [1.3, 0.3],\n",
       "       [4.6, 1.3],\n",
       "       [4.4, 1.2],\n",
       "       [1.5, 0.2],\n",
       "       [4.1, 1.3],\n",
       "       [6.3, 1.8],\n",
       "       [5.7, 2.1],\n",
       "       [1.5, 0.4],\n",
       "       [3.3, 1. ],\n",
       "       [5.7, 2.5],\n",
       "       [5.8, 1.6],\n",
       "       [1.4, 0.1],\n",
       "       [5.6, 2.4],\n",
       "       [1.4, 0.2],\n",
       "       [4.9, 1.5],\n",
       "       [6.1, 1.9],\n",
       "       [5.6, 1.8],\n",
       "       [4.1, 1.3],\n",
       "       [5.5, 1.8],\n",
       "       [4.4, 1.3],\n",
       "       [4.3, 1.3],\n",
       "       [4.9, 2. ],\n",
       "       [5.1, 1.8],\n",
       "       [1.7, 0.2],\n",
       "       [4. , 1.3],\n",
       "       [4.5, 1.7],\n",
       "       [1.2, 0.2],\n",
       "       [4. , 1.2],\n",
       "       [5.9, 2.1]])"
      ]
     },
     "execution_count": 7,
     "metadata": {},
     "output_type": "execute_result"
    }
   ],
   "source": [
    "X_nuevo"
   ]
  },
  {
   "cell_type": "code",
   "execution_count": 8,
   "id": "929ef624",
   "metadata": {},
   "outputs": [
    {
     "name": "stdout",
     "output_type": "stream",
     "text": [
      "[[4.6 3.6 1.  0.2]\n",
      " [5.7 4.4 1.5 0.4]\n",
      " [6.7 3.1 4.4 1.4]\n",
      " [4.8 3.4 1.6 0.2]\n",
      " [4.4 3.2 1.3 0.2]]\n",
      "[[1.  0.2]\n",
      " [1.5 0.4]\n",
      " [4.4 1.4]\n",
      " [1.6 0.2]\n",
      " [1.3 0.2]]\n"
     ]
    }
   ],
   "source": [
    "print(X_train[:5])\n",
    "print(X_nuevo[:5])"
   ]
  },
  {
   "cell_type": "code",
   "execution_count": 10,
   "id": "6c7c9715",
   "metadata": {},
   "outputs": [],
   "source": [
    "modelo = RandomForestClassifier(n_estimators=100, random_state=42)\n",
    "selector2 = SelectFromModel(modelo)"
   ]
  },
  {
   "cell_type": "code",
   "execution_count": 11,
   "id": "b53d301c",
   "metadata": {},
   "outputs": [],
   "source": [
    "X_importante = selector2.fit_transform(X_train, y_train)"
   ]
  },
  {
   "cell_type": "code",
   "execution_count": 12,
   "id": "f52fe428",
   "metadata": {},
   "outputs": [
    {
     "name": "stdout",
     "output_type": "stream",
     "text": [
      "[[4.6 3.6 1.  0.2]\n",
      " [5.7 4.4 1.5 0.4]\n",
      " [6.7 3.1 4.4 1.4]\n",
      " [4.8 3.4 1.6 0.2]\n",
      " [4.4 3.2 1.3 0.2]]\n",
      "[[1.  0.2]\n",
      " [1.5 0.4]\n",
      " [4.4 1.4]\n",
      " [1.6 0.2]\n",
      " [1.3 0.2]]\n"
     ]
    }
   ],
   "source": [
    "print(X_train[:5])\n",
    "print(X_importante[:5])"
   ]
  },
  {
   "cell_type": "code",
   "execution_count": null,
   "id": "05dbf177",
   "metadata": {},
   "outputs": [],
   "source": []
  },
  {
   "cell_type": "code",
   "execution_count": null,
   "id": "d62f2b3a",
   "metadata": {},
   "outputs": [],
   "source": []
  },
  {
   "cell_type": "code",
   "execution_count": null,
   "id": "e60b52c4",
   "metadata": {},
   "outputs": [],
   "source": []
  },
  {
   "cell_type": "code",
   "execution_count": null,
   "id": "a6f5c30e",
   "metadata": {},
   "outputs": [],
   "source": []
  },
  {
   "cell_type": "code",
   "execution_count": null,
   "id": "1d3c0342",
   "metadata": {},
   "outputs": [],
   "source": []
  }
 ],
 "metadata": {
  "kernelspec": {
   "display_name": "Python 3 (ipykernel)",
   "language": "python",
   "name": "python3"
  },
  "language_info": {
   "codemirror_mode": {
    "name": "ipython",
    "version": 3
   },
   "file_extension": ".py",
   "mimetype": "text/x-python",
   "name": "python",
   "nbconvert_exporter": "python",
   "pygments_lexer": "ipython3",
   "version": "3.11.5"
  }
 },
 "nbformat": 4,
 "nbformat_minor": 5
}
