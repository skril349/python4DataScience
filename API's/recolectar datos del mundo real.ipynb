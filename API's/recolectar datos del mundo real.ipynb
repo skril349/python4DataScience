{
 "cells": [
  {
   "cell_type": "code",
   "execution_count": 6,
   "id": "ca6cae26",
   "metadata": {},
   "outputs": [],
   "source": [
    "import requests\n",
    "from IPython.display import Image, display"
   ]
  },
  {
   "cell_type": "code",
   "execution_count": 2,
   "id": "6d7a3913",
   "metadata": {},
   "outputs": [],
   "source": [
    "api_key = \"QhqtHo5q9FR5SLMvoKrpVQUIc10PyNUc2d190AsL\""
   ]
  },
  {
   "cell_type": "code",
   "execution_count": 3,
   "id": "28ef94ef",
   "metadata": {},
   "outputs": [],
   "source": [
    "url = f\"https://api.nasa.gov/planetary/apod?api_key={api_key}\""
   ]
  },
  {
   "cell_type": "code",
   "execution_count": 4,
   "id": "f4481260",
   "metadata": {},
   "outputs": [
    {
     "data": {
      "text/plain": [
       "{'date': '2024-07-24',\n",
       " 'explanation': \"Our Moon doesn't really have craters this big.  Earth's Moon, Luna, also doesn't naturally show this spikey texture, and its colors are more subtle. But this digital creation is based on reality.  The featured image is a digital composite of a good Moon image and surface height data taken from NASA's Lunar Orbiter Laser Altimeter (LOLA) mission -- and then exaggerated for educational understanding.  The digital enhancements, for example, accentuate lunar highlands and show more clearly craters that illustrate the tremendous bombardment our Moon has been through during its 4.6-billion-year history.  The dark areas, called maria, have fewer craters and were once seas of molten lava. Additionally, the image colors, although based on the moon's real composition, are changed and exaggerated.  Here, a blue hue indicates a region that is iron rich, while orange indicates a slight excess of aluminum.  Although the Moon has shown the same side to the Earth for billions of years, modern technology is allowing humanity to learn much more about it -- and how it affects the Earth.\",\n",
       " 'hdurl': 'https://apod.nasa.gov/apod/image/2407/ExaggeratedMoon_Ibatulin_2610.jpg',\n",
       " 'media_type': 'image',\n",
       " 'service_version': 'v1',\n",
       " 'title': 'Exaggerated Moon',\n",
       " 'url': 'https://apod.nasa.gov/apod/image/2407/ExaggeratedMoon_Ibatulin_960.jpg'}"
      ]
     },
     "execution_count": 4,
     "metadata": {},
     "output_type": "execute_result"
    }
   ],
   "source": [
    "response = requests.get(url)\n",
    "data = response.json()\n",
    "data"
   ]
  },
  {
   "cell_type": "code",
   "execution_count": 8,
   "id": "344f9787",
   "metadata": {},
   "outputs": [
    {
     "data": {
      "text/plain": [
       "{'copyright': 'D. Malin \\n(AAO),\\nAATB, \\nUKS Telescope\\n',\n",
       " 'date': '1998-09-07',\n",
       " 'explanation': 'A variety of stars and nebulae can be found towards the constellation of Sagittarius.  Dense fields of stars laced with dark lanes of dust crowd this region only a few degrees from the center of our Galaxy.  Prominent nebulae include the red Lagoon Nebula (M8) in the lower right and the multicolored Trifid Nebula (M20) in the upper right.  Recent high-resolution images of these nebulae show unusual features such as funnel-shaped clouds and proplyds that are not well understood.',\n",
       " 'hdurl': 'https://apod.nasa.gov/apod/image/9809/sag_uks026.jpg',\n",
       " 'media_type': 'image',\n",
       " 'service_version': 'v1',\n",
       " 'title': 'The Sky Towards Sagittarius',\n",
       " 'url': 'https://apod.nasa.gov/apod/image/9809/sag_uks026_big.jpg'}"
      ]
     },
     "execution_count": 8,
     "metadata": {},
     "output_type": "execute_result"
    }
   ],
   "source": [
    "params = {\n",
    "    \"api_key\":api_key,\n",
    "    \"date\":\"1998-09-07\"\n",
    "}\n",
    "response = requests.get(url,params = params)\n",
    "data = response.json()\n",
    "data"
   ]
  },
  {
   "cell_type": "code",
   "execution_count": 9,
   "id": "e2191366",
   "metadata": {},
   "outputs": [
    {
     "data": {
      "text/html": [
       "<img src=\"https://apod.nasa.gov/apod/image/9809/sag_uks026_big.jpg\"/>"
      ],
      "text/plain": [
       "<IPython.core.display.Image object>"
      ]
     },
     "metadata": {},
     "output_type": "display_data"
    }
   ],
   "source": [
    "display(Image(url=data[\"url\"]))"
   ]
  },
  {
   "cell_type": "code",
   "execution_count": null,
   "id": "ed1a4ce9",
   "metadata": {},
   "outputs": [],
   "source": []
  },
  {
   "cell_type": "code",
   "execution_count": null,
   "id": "6a784b2a",
   "metadata": {},
   "outputs": [],
   "source": []
  }
 ],
 "metadata": {
  "kernelspec": {
   "display_name": "Python 3 (ipykernel)",
   "language": "python",
   "name": "python3"
  },
  "language_info": {
   "codemirror_mode": {
    "name": "ipython",
    "version": 3
   },
   "file_extension": ".py",
   "mimetype": "text/x-python",
   "name": "python",
   "nbconvert_exporter": "python",
   "pygments_lexer": "ipython3",
   "version": "3.11.5"
  }
 },
 "nbformat": 4,
 "nbformat_minor": 5
}
