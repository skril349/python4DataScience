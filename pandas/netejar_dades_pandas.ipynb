{
 "cells": [
  {
   "cell_type": "markdown",
   "id": "a1b6cab3-7ad3-4ff2-97be-4e68b72aa3c0",
   "metadata": {},
   "source": [
    "# Ejercicio Limpieza de Datos en Pandas 1\r\n",
    "Dada una tabla (Diccionario) de ventas que contiene información sobre productos vendidos, incluyendo ID, Producto, Cantidad y Precio,\r\n",
    "\r\n",
    "\r\n",
    "\r\n",
    "data = {\r\n",
    "    'ID': [1, 2, 3, 4, 5],\r\n",
    "    'Producto': ['Producto A', 'Producto B', None, 'Producto D', 'Producto E'],\r\n",
    "    'Cantidad': [10, 20, 30, None, 50],\r\n",
    "    'Precio': [100, 200, 300, 400, None]\r\n",
    "}\r\n",
    "\r\n",
    "\r\n",
    "Escribe un código en Python usando Pandas para contar los valores nulos por columnas."
   ]
  },
  {
   "cell_type": "code",
   "execution_count": 2,
   "id": "cc799cbe-6fa9-43ca-9b6e-5a6f4967729f",
   "metadata": {},
   "outputs": [],
   "source": [
    "import pandas as pd"
   ]
  },
  {
   "cell_type": "code",
   "execution_count": 4,
   "id": "de65bee5-b830-45cf-88d3-5ff3b258eb80",
   "metadata": {},
   "outputs": [],
   "source": [
    "data = {\n",
    "    'ID': [1, 2, 3, 4, 5],\n",
    "    'Producto': ['Producto A', 'Producto B', None, 'Producto D', 'Producto E'],\n",
    "    'Cantidad': [10, 20, 30, None, 50],\n",
    "    'Precio': [100, 200, 300, 400, None]\n",
    "}\n",
    "\n",
    "df = pd.DataFrame(data)"
   ]
  },
  {
   "cell_type": "code",
   "execution_count": 6,
   "id": "d5de9dad-76ac-457b-841e-9966a42167ca",
   "metadata": {},
   "outputs": [
    {
     "data": {
      "text/html": [
       "<div>\n",
       "<style scoped>\n",
       "    .dataframe tbody tr th:only-of-type {\n",
       "        vertical-align: middle;\n",
       "    }\n",
       "\n",
       "    .dataframe tbody tr th {\n",
       "        vertical-align: top;\n",
       "    }\n",
       "\n",
       "    .dataframe thead th {\n",
       "        text-align: right;\n",
       "    }\n",
       "</style>\n",
       "<table border=\"1\" class=\"dataframe\">\n",
       "  <thead>\n",
       "    <tr style=\"text-align: right;\">\n",
       "      <th></th>\n",
       "      <th>ID</th>\n",
       "      <th>Producto</th>\n",
       "      <th>Cantidad</th>\n",
       "      <th>Precio</th>\n",
       "    </tr>\n",
       "  </thead>\n",
       "  <tbody>\n",
       "    <tr>\n",
       "      <th>0</th>\n",
       "      <td>1</td>\n",
       "      <td>Producto A</td>\n",
       "      <td>10.0</td>\n",
       "      <td>100.0</td>\n",
       "    </tr>\n",
       "    <tr>\n",
       "      <th>1</th>\n",
       "      <td>2</td>\n",
       "      <td>Producto B</td>\n",
       "      <td>20.0</td>\n",
       "      <td>200.0</td>\n",
       "    </tr>\n",
       "    <tr>\n",
       "      <th>2</th>\n",
       "      <td>3</td>\n",
       "      <td>None</td>\n",
       "      <td>30.0</td>\n",
       "      <td>300.0</td>\n",
       "    </tr>\n",
       "    <tr>\n",
       "      <th>3</th>\n",
       "      <td>4</td>\n",
       "      <td>Producto D</td>\n",
       "      <td>NaN</td>\n",
       "      <td>400.0</td>\n",
       "    </tr>\n",
       "    <tr>\n",
       "      <th>4</th>\n",
       "      <td>5</td>\n",
       "      <td>Producto E</td>\n",
       "      <td>50.0</td>\n",
       "      <td>NaN</td>\n",
       "    </tr>\n",
       "  </tbody>\n",
       "</table>\n",
       "</div>"
      ],
      "text/plain": [
       "   ID    Producto  Cantidad  Precio\n",
       "0   1  Producto A      10.0   100.0\n",
       "1   2  Producto B      20.0   200.0\n",
       "2   3        None      30.0   300.0\n",
       "3   4  Producto D       NaN   400.0\n",
       "4   5  Producto E      50.0     NaN"
      ]
     },
     "execution_count": 6,
     "metadata": {},
     "output_type": "execute_result"
    }
   ],
   "source": [
    "df"
   ]
  },
  {
   "cell_type": "code",
   "execution_count": 8,
   "id": "7a3b4390-3630-4506-a4d3-aed8dd11c166",
   "metadata": {},
   "outputs": [
    {
     "data": {
      "text/plain": [
       "ID          0\n",
       "Producto    1\n",
       "Cantidad    1\n",
       "Precio      1\n",
       "dtype: int64"
      ]
     },
     "execution_count": 8,
     "metadata": {},
     "output_type": "execute_result"
    }
   ],
   "source": [
    "df.isnull().sum()"
   ]
  },
  {
   "cell_type": "markdown",
   "id": "fc8e6d80-6c42-459f-950e-d23390fd0942",
   "metadata": {},
   "source": [
    "# Ejercicio Limpieza de Datos en Pandas 2\r\n",
    "El conjunto de datos proporcionado tiene algunas entradas duplicadas.\r\n",
    "\r\n",
    "data = {\r\n",
    "    'ID': [1, 2, 3, 4, 1],\r\n",
    "    'Producto': ['Producto A', 'Producto B', 'Producto C', 'Producto D', 'Producto A'],\r\n",
    "    'Cantidad': [10, 20, 30, 40, 50],\r\n",
    "    'Precio': [100, 200, 300, 400, 100]\r\n",
    "}\r\n",
    "Escribe un script en Python usando Pandas para eliminar las filas duplicadas en el conjunto de datos"
   ]
  },
  {
   "cell_type": "code",
   "execution_count": 11,
   "id": "8a0cd66f-a671-4e5e-ae62-7d5d7b6a801f",
   "metadata": {},
   "outputs": [
    {
     "data": {
      "text/html": [
       "<div>\n",
       "<style scoped>\n",
       "    .dataframe tbody tr th:only-of-type {\n",
       "        vertical-align: middle;\n",
       "    }\n",
       "\n",
       "    .dataframe tbody tr th {\n",
       "        vertical-align: top;\n",
       "    }\n",
       "\n",
       "    .dataframe thead th {\n",
       "        text-align: right;\n",
       "    }\n",
       "</style>\n",
       "<table border=\"1\" class=\"dataframe\">\n",
       "  <thead>\n",
       "    <tr style=\"text-align: right;\">\n",
       "      <th></th>\n",
       "      <th>ID</th>\n",
       "      <th>Producto</th>\n",
       "      <th>Cantidad</th>\n",
       "      <th>Precio</th>\n",
       "    </tr>\n",
       "  </thead>\n",
       "  <tbody>\n",
       "    <tr>\n",
       "      <th>0</th>\n",
       "      <td>1</td>\n",
       "      <td>Producto A</td>\n",
       "      <td>10</td>\n",
       "      <td>100</td>\n",
       "    </tr>\n",
       "    <tr>\n",
       "      <th>1</th>\n",
       "      <td>2</td>\n",
       "      <td>Producto B</td>\n",
       "      <td>20</td>\n",
       "      <td>200</td>\n",
       "    </tr>\n",
       "    <tr>\n",
       "      <th>2</th>\n",
       "      <td>3</td>\n",
       "      <td>Producto C</td>\n",
       "      <td>30</td>\n",
       "      <td>300</td>\n",
       "    </tr>\n",
       "    <tr>\n",
       "      <th>3</th>\n",
       "      <td>4</td>\n",
       "      <td>Producto D</td>\n",
       "      <td>40</td>\n",
       "      <td>400</td>\n",
       "    </tr>\n",
       "    <tr>\n",
       "      <th>4</th>\n",
       "      <td>1</td>\n",
       "      <td>Producto A</td>\n",
       "      <td>50</td>\n",
       "      <td>100</td>\n",
       "    </tr>\n",
       "  </tbody>\n",
       "</table>\n",
       "</div>"
      ],
      "text/plain": [
       "   ID    Producto  Cantidad  Precio\n",
       "0   1  Producto A        10     100\n",
       "1   2  Producto B        20     200\n",
       "2   3  Producto C        30     300\n",
       "3   4  Producto D        40     400\n",
       "4   1  Producto A        50     100"
      ]
     },
     "execution_count": 11,
     "metadata": {},
     "output_type": "execute_result"
    }
   ],
   "source": [
    "data2 = {\n",
    "    'ID': [1, 2, 3, 4, 1],\n",
    "    'Producto': ['Producto A', 'Producto B', 'Producto C', 'Producto D', 'Producto A'],\n",
    "    'Cantidad': [10, 20, 30, 40, 50],\n",
    "    'Precio': [100, 200, 300, 400, 100]\n",
    "}\n",
    "\n",
    "df2 = pd.DataFrame(data2)\n",
    "df2"
   ]
  },
  {
   "cell_type": "code",
   "execution_count": 15,
   "id": "40a4ec18-3d3a-4e5a-aa90-de655af3a50d",
   "metadata": {},
   "outputs": [
    {
     "data": {
      "text/html": [
       "<div>\n",
       "<style scoped>\n",
       "    .dataframe tbody tr th:only-of-type {\n",
       "        vertical-align: middle;\n",
       "    }\n",
       "\n",
       "    .dataframe tbody tr th {\n",
       "        vertical-align: top;\n",
       "    }\n",
       "\n",
       "    .dataframe thead th {\n",
       "        text-align: right;\n",
       "    }\n",
       "</style>\n",
       "<table border=\"1\" class=\"dataframe\">\n",
       "  <thead>\n",
       "    <tr style=\"text-align: right;\">\n",
       "      <th></th>\n",
       "      <th>ID</th>\n",
       "      <th>Producto</th>\n",
       "      <th>Cantidad</th>\n",
       "      <th>Precio</th>\n",
       "    </tr>\n",
       "  </thead>\n",
       "  <tbody>\n",
       "    <tr>\n",
       "      <th>0</th>\n",
       "      <td>1</td>\n",
       "      <td>Producto A</td>\n",
       "      <td>10</td>\n",
       "      <td>100</td>\n",
       "    </tr>\n",
       "    <tr>\n",
       "      <th>1</th>\n",
       "      <td>2</td>\n",
       "      <td>Producto B</td>\n",
       "      <td>20</td>\n",
       "      <td>200</td>\n",
       "    </tr>\n",
       "    <tr>\n",
       "      <th>2</th>\n",
       "      <td>3</td>\n",
       "      <td>Producto C</td>\n",
       "      <td>30</td>\n",
       "      <td>300</td>\n",
       "    </tr>\n",
       "    <tr>\n",
       "      <th>3</th>\n",
       "      <td>4</td>\n",
       "      <td>Producto D</td>\n",
       "      <td>40</td>\n",
       "      <td>400</td>\n",
       "    </tr>\n",
       "  </tbody>\n",
       "</table>\n",
       "</div>"
      ],
      "text/plain": [
       "   ID    Producto  Cantidad  Precio\n",
       "0   1  Producto A        10     100\n",
       "1   2  Producto B        20     200\n",
       "2   3  Producto C        30     300\n",
       "3   4  Producto D        40     400"
      ]
     },
     "execution_count": 15,
     "metadata": {},
     "output_type": "execute_result"
    }
   ],
   "source": [
    "deleteDuplicates = df2.drop_duplicates(subset=\"ID\")\n",
    "deleteDuplicates"
   ]
  },
  {
   "cell_type": "markdown",
   "id": "77f62da5-5f07-4d12-9b73-665d93031845",
   "metadata": {},
   "source": [
    "# Ejercicio Limpieza de Datos en Pandas 3\r\n",
    "Tu tabla de ventas, la columna \"Precio\" tiene algunos valores nulos.\r\n",
    "\r\n",
    "data = {\r\n",
    "    'ID': [1, 2, 3, 4],\r\n",
    "    'Producto': ['Producto A', 'Producto B', 'Producto C', 'Producto D'],\r\n",
    "    'Cantidad': [10, 20, 30, 40],\r\n",
    "    'Precio': [100, None, 300, None]\r\n",
    "}\r\n",
    "Escribe un código en Python usando Pandas para reemplazar los valores nulos en la columna Precio por el promedio de los precios no nulos de esa columna."
   ]
  },
  {
   "cell_type": "code",
   "execution_count": 18,
   "id": "5d678571-9e2f-4bc6-a524-bd84f4966712",
   "metadata": {},
   "outputs": [],
   "source": [
    "data3 = {\n",
    "    'ID': [1, 2, 3, 4],\n",
    "    'Producto': ['Producto A', 'Producto B', 'Producto C', 'Producto D'],\n",
    "    'Cantidad': [10, 20, 30, 40],\n",
    "    'Precio': [100, None, 300, None]\n",
    "}\n",
    "\n",
    "df3 = pd.DataFrame(data3)"
   ]
  },
  {
   "cell_type": "code",
   "execution_count": 20,
   "id": "c9f8dc2b-1ba8-4ce0-8565-ac342b6f1cc9",
   "metadata": {},
   "outputs": [
    {
     "data": {
      "text/html": [
       "<div>\n",
       "<style scoped>\n",
       "    .dataframe tbody tr th:only-of-type {\n",
       "        vertical-align: middle;\n",
       "    }\n",
       "\n",
       "    .dataframe tbody tr th {\n",
       "        vertical-align: top;\n",
       "    }\n",
       "\n",
       "    .dataframe thead th {\n",
       "        text-align: right;\n",
       "    }\n",
       "</style>\n",
       "<table border=\"1\" class=\"dataframe\">\n",
       "  <thead>\n",
       "    <tr style=\"text-align: right;\">\n",
       "      <th></th>\n",
       "      <th>ID</th>\n",
       "      <th>Producto</th>\n",
       "      <th>Cantidad</th>\n",
       "      <th>Precio</th>\n",
       "    </tr>\n",
       "  </thead>\n",
       "  <tbody>\n",
       "    <tr>\n",
       "      <th>0</th>\n",
       "      <td>1</td>\n",
       "      <td>Producto A</td>\n",
       "      <td>10</td>\n",
       "      <td>100.0</td>\n",
       "    </tr>\n",
       "    <tr>\n",
       "      <th>1</th>\n",
       "      <td>2</td>\n",
       "      <td>Producto B</td>\n",
       "      <td>20</td>\n",
       "      <td>NaN</td>\n",
       "    </tr>\n",
       "    <tr>\n",
       "      <th>2</th>\n",
       "      <td>3</td>\n",
       "      <td>Producto C</td>\n",
       "      <td>30</td>\n",
       "      <td>300.0</td>\n",
       "    </tr>\n",
       "    <tr>\n",
       "      <th>3</th>\n",
       "      <td>4</td>\n",
       "      <td>Producto D</td>\n",
       "      <td>40</td>\n",
       "      <td>NaN</td>\n",
       "    </tr>\n",
       "  </tbody>\n",
       "</table>\n",
       "</div>"
      ],
      "text/plain": [
       "   ID    Producto  Cantidad  Precio\n",
       "0   1  Producto A        10   100.0\n",
       "1   2  Producto B        20     NaN\n",
       "2   3  Producto C        30   300.0\n",
       "3   4  Producto D        40     NaN"
      ]
     },
     "execution_count": 20,
     "metadata": {},
     "output_type": "execute_result"
    }
   ],
   "source": [
    "df3"
   ]
  },
  {
   "cell_type": "code",
   "execution_count": 22,
   "id": "1435e9ac-379f-4cd0-ae6f-d05f4fc999a1",
   "metadata": {},
   "outputs": [],
   "source": [
    "refill = {\"Precio\": df3[\"Precio\"].mean()}\n",
    "meanRefilled = df3.fillna(refill)"
   ]
  },
  {
   "cell_type": "code",
   "execution_count": 24,
   "id": "c00f92aa-0676-49c5-bc59-ea1644b06780",
   "metadata": {},
   "outputs": [
    {
     "data": {
      "text/html": [
       "<div>\n",
       "<style scoped>\n",
       "    .dataframe tbody tr th:only-of-type {\n",
       "        vertical-align: middle;\n",
       "    }\n",
       "\n",
       "    .dataframe tbody tr th {\n",
       "        vertical-align: top;\n",
       "    }\n",
       "\n",
       "    .dataframe thead th {\n",
       "        text-align: right;\n",
       "    }\n",
       "</style>\n",
       "<table border=\"1\" class=\"dataframe\">\n",
       "  <thead>\n",
       "    <tr style=\"text-align: right;\">\n",
       "      <th></th>\n",
       "      <th>ID</th>\n",
       "      <th>Producto</th>\n",
       "      <th>Cantidad</th>\n",
       "      <th>Precio</th>\n",
       "    </tr>\n",
       "  </thead>\n",
       "  <tbody>\n",
       "    <tr>\n",
       "      <th>0</th>\n",
       "      <td>1</td>\n",
       "      <td>Producto A</td>\n",
       "      <td>10</td>\n",
       "      <td>100.0</td>\n",
       "    </tr>\n",
       "    <tr>\n",
       "      <th>1</th>\n",
       "      <td>2</td>\n",
       "      <td>Producto B</td>\n",
       "      <td>20</td>\n",
       "      <td>200.0</td>\n",
       "    </tr>\n",
       "    <tr>\n",
       "      <th>2</th>\n",
       "      <td>3</td>\n",
       "      <td>Producto C</td>\n",
       "      <td>30</td>\n",
       "      <td>300.0</td>\n",
       "    </tr>\n",
       "    <tr>\n",
       "      <th>3</th>\n",
       "      <td>4</td>\n",
       "      <td>Producto D</td>\n",
       "      <td>40</td>\n",
       "      <td>200.0</td>\n",
       "    </tr>\n",
       "  </tbody>\n",
       "</table>\n",
       "</div>"
      ],
      "text/plain": [
       "   ID    Producto  Cantidad  Precio\n",
       "0   1  Producto A        10   100.0\n",
       "1   2  Producto B        20   200.0\n",
       "2   3  Producto C        30   300.0\n",
       "3   4  Producto D        40   200.0"
      ]
     },
     "execution_count": 24,
     "metadata": {},
     "output_type": "execute_result"
    }
   ],
   "source": [
    "meanRefilled"
   ]
  },
  {
   "cell_type": "code",
   "execution_count": null,
   "id": "4f40d1dc-9388-4a91-bbf7-1aaef8ee6297",
   "metadata": {},
   "outputs": [],
   "source": []
  },
  {
   "cell_type": "code",
   "execution_count": null,
   "id": "8378f7ef-7a19-4131-a80e-cadf45bc0370",
   "metadata": {},
   "outputs": [],
   "source": []
  }
 ],
 "metadata": {
  "kernelspec": {
   "display_name": "Python 3 (ipykernel)",
   "language": "python",
   "name": "python3"
  },
  "language_info": {
   "codemirror_mode": {
    "name": "ipython",
    "version": 3
   },
   "file_extension": ".py",
   "mimetype": "text/x-python",
   "name": "python",
   "nbconvert_exporter": "python",
   "pygments_lexer": "ipython3",
   "version": "3.11.7"
  }
 },
 "nbformat": 4,
 "nbformat_minor": 5
}
