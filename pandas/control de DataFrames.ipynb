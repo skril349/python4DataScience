{
 "cells": [
  {
   "cell_type": "code",
   "execution_count": 1,
   "id": "a34f7b6b",
   "metadata": {},
   "outputs": [],
   "source": [
    "import pandas as pd\n",
    "\n",
    "data = {\n",
    "    \"Nom\":[\"Ana\",\"Toni\",\"Clara\",\"Silvia\"],\n",
    "    \"Edat\":[18,25,30,26],\n",
    "    \"Barri\":[\"Born\",\"Eixample\",\"Cadiz\", \"Hospitalet\"]\n",
    "}\n",
    "\n",
    "df = pd.DataFrame(data)"
   ]
  },
  {
   "cell_type": "code",
   "execution_count": 2,
   "id": "fb08a467",
   "metadata": {},
   "outputs": [
    {
     "data": {
      "text/html": [
       "<div>\n",
       "<style scoped>\n",
       "    .dataframe tbody tr th:only-of-type {\n",
       "        vertical-align: middle;\n",
       "    }\n",
       "\n",
       "    .dataframe tbody tr th {\n",
       "        vertical-align: top;\n",
       "    }\n",
       "\n",
       "    .dataframe thead th {\n",
       "        text-align: right;\n",
       "    }\n",
       "</style>\n",
       "<table border=\"1\" class=\"dataframe\">\n",
       "  <thead>\n",
       "    <tr style=\"text-align: right;\">\n",
       "      <th></th>\n",
       "      <th>Nom</th>\n",
       "      <th>Edat</th>\n",
       "      <th>Barri</th>\n",
       "    </tr>\n",
       "  </thead>\n",
       "  <tbody>\n",
       "    <tr>\n",
       "      <th>0</th>\n",
       "      <td>Ana</td>\n",
       "      <td>18</td>\n",
       "      <td>Born</td>\n",
       "    </tr>\n",
       "    <tr>\n",
       "      <th>1</th>\n",
       "      <td>Toni</td>\n",
       "      <td>25</td>\n",
       "      <td>Eixample</td>\n",
       "    </tr>\n",
       "    <tr>\n",
       "      <th>2</th>\n",
       "      <td>Clara</td>\n",
       "      <td>30</td>\n",
       "      <td>Cadiz</td>\n",
       "    </tr>\n",
       "    <tr>\n",
       "      <th>3</th>\n",
       "      <td>Silvia</td>\n",
       "      <td>26</td>\n",
       "      <td>Hospitalet</td>\n",
       "    </tr>\n",
       "  </tbody>\n",
       "</table>\n",
       "</div>"
      ],
      "text/plain": [
       "      Nom  Edat       Barri\n",
       "0     Ana    18        Born\n",
       "1    Toni    25    Eixample\n",
       "2   Clara    30       Cadiz\n",
       "3  Silvia    26  Hospitalet"
      ]
     },
     "execution_count": 2,
     "metadata": {},
     "output_type": "execute_result"
    }
   ],
   "source": [
    "df"
   ]
  },
  {
   "cell_type": "markdown",
   "id": "6e260fc4",
   "metadata": {},
   "source": [
    "# Crear columna nova"
   ]
  },
  {
   "cell_type": "code",
   "execution_count": 3,
   "id": "b9c61eb6",
   "metadata": {},
   "outputs": [],
   "source": [
    "df[\"Salari\"] = [30000,80000,12000,24000]"
   ]
  },
  {
   "cell_type": "code",
   "execution_count": 4,
   "id": "445d44b5",
   "metadata": {},
   "outputs": [
    {
     "data": {
      "text/html": [
       "<div>\n",
       "<style scoped>\n",
       "    .dataframe tbody tr th:only-of-type {\n",
       "        vertical-align: middle;\n",
       "    }\n",
       "\n",
       "    .dataframe tbody tr th {\n",
       "        vertical-align: top;\n",
       "    }\n",
       "\n",
       "    .dataframe thead th {\n",
       "        text-align: right;\n",
       "    }\n",
       "</style>\n",
       "<table border=\"1\" class=\"dataframe\">\n",
       "  <thead>\n",
       "    <tr style=\"text-align: right;\">\n",
       "      <th></th>\n",
       "      <th>Nom</th>\n",
       "      <th>Edat</th>\n",
       "      <th>Barri</th>\n",
       "      <th>Salari</th>\n",
       "    </tr>\n",
       "  </thead>\n",
       "  <tbody>\n",
       "    <tr>\n",
       "      <th>0</th>\n",
       "      <td>Ana</td>\n",
       "      <td>18</td>\n",
       "      <td>Born</td>\n",
       "      <td>30000</td>\n",
       "    </tr>\n",
       "    <tr>\n",
       "      <th>1</th>\n",
       "      <td>Toni</td>\n",
       "      <td>25</td>\n",
       "      <td>Eixample</td>\n",
       "      <td>80000</td>\n",
       "    </tr>\n",
       "    <tr>\n",
       "      <th>2</th>\n",
       "      <td>Clara</td>\n",
       "      <td>30</td>\n",
       "      <td>Cadiz</td>\n",
       "      <td>12000</td>\n",
       "    </tr>\n",
       "    <tr>\n",
       "      <th>3</th>\n",
       "      <td>Silvia</td>\n",
       "      <td>26</td>\n",
       "      <td>Hospitalet</td>\n",
       "      <td>24000</td>\n",
       "    </tr>\n",
       "  </tbody>\n",
       "</table>\n",
       "</div>"
      ],
      "text/plain": [
       "      Nom  Edat       Barri  Salari\n",
       "0     Ana    18        Born   30000\n",
       "1    Toni    25    Eixample   80000\n",
       "2   Clara    30       Cadiz   12000\n",
       "3  Silvia    26  Hospitalet   24000"
      ]
     },
     "execution_count": 4,
     "metadata": {},
     "output_type": "execute_result"
    }
   ],
   "source": [
    "df"
   ]
  },
  {
   "cell_type": "code",
   "execution_count": 5,
   "id": "d5033c02",
   "metadata": {},
   "outputs": [],
   "source": [
    "df[\"Salari\"] = df[\"Salari\"] + 2000"
   ]
  },
  {
   "cell_type": "code",
   "execution_count": 6,
   "id": "02cb135a",
   "metadata": {},
   "outputs": [
    {
     "data": {
      "text/html": [
       "<div>\n",
       "<style scoped>\n",
       "    .dataframe tbody tr th:only-of-type {\n",
       "        vertical-align: middle;\n",
       "    }\n",
       "\n",
       "    .dataframe tbody tr th {\n",
       "        vertical-align: top;\n",
       "    }\n",
       "\n",
       "    .dataframe thead th {\n",
       "        text-align: right;\n",
       "    }\n",
       "</style>\n",
       "<table border=\"1\" class=\"dataframe\">\n",
       "  <thead>\n",
       "    <tr style=\"text-align: right;\">\n",
       "      <th></th>\n",
       "      <th>Nom</th>\n",
       "      <th>Edat</th>\n",
       "      <th>Barri</th>\n",
       "      <th>Salari</th>\n",
       "    </tr>\n",
       "  </thead>\n",
       "  <tbody>\n",
       "    <tr>\n",
       "      <th>0</th>\n",
       "      <td>Ana</td>\n",
       "      <td>18</td>\n",
       "      <td>Born</td>\n",
       "      <td>32000</td>\n",
       "    </tr>\n",
       "    <tr>\n",
       "      <th>1</th>\n",
       "      <td>Toni</td>\n",
       "      <td>25</td>\n",
       "      <td>Eixample</td>\n",
       "      <td>82000</td>\n",
       "    </tr>\n",
       "    <tr>\n",
       "      <th>2</th>\n",
       "      <td>Clara</td>\n",
       "      <td>30</td>\n",
       "      <td>Cadiz</td>\n",
       "      <td>14000</td>\n",
       "    </tr>\n",
       "    <tr>\n",
       "      <th>3</th>\n",
       "      <td>Silvia</td>\n",
       "      <td>26</td>\n",
       "      <td>Hospitalet</td>\n",
       "      <td>26000</td>\n",
       "    </tr>\n",
       "  </tbody>\n",
       "</table>\n",
       "</div>"
      ],
      "text/plain": [
       "      Nom  Edat       Barri  Salari\n",
       "0     Ana    18        Born   32000\n",
       "1    Toni    25    Eixample   82000\n",
       "2   Clara    30       Cadiz   14000\n",
       "3  Silvia    26  Hospitalet   26000"
      ]
     },
     "execution_count": 6,
     "metadata": {},
     "output_type": "execute_result"
    }
   ],
   "source": [
    "df"
   ]
  },
  {
   "cell_type": "code",
   "execution_count": 12,
   "id": "bc214f9d",
   "metadata": {},
   "outputs": [
    {
     "data": {
      "text/plain": [
       "0       Ana\n",
       "1      Toni\n",
       "2     Clara\n",
       "3    Silvia\n",
       "Name: Nom, dtype: object"
      ]
     },
     "execution_count": 12,
     "metadata": {},
     "output_type": "execute_result"
    }
   ],
   "source": [
    "noms = df[\"Nom\"]\n",
    "noms"
   ]
  },
  {
   "cell_type": "code",
   "execution_count": 13,
   "id": "4bf49a06",
   "metadata": {},
   "outputs": [
    {
     "data": {
      "text/html": [
       "<div>\n",
       "<style scoped>\n",
       "    .dataframe tbody tr th:only-of-type {\n",
       "        vertical-align: middle;\n",
       "    }\n",
       "\n",
       "    .dataframe tbody tr th {\n",
       "        vertical-align: top;\n",
       "    }\n",
       "\n",
       "    .dataframe thead th {\n",
       "        text-align: right;\n",
       "    }\n",
       "</style>\n",
       "<table border=\"1\" class=\"dataframe\">\n",
       "  <thead>\n",
       "    <tr style=\"text-align: right;\">\n",
       "      <th></th>\n",
       "      <th>Nom</th>\n",
       "      <th>Edat</th>\n",
       "      <th>Barri</th>\n",
       "      <th>Salari</th>\n",
       "    </tr>\n",
       "  </thead>\n",
       "  <tbody>\n",
       "    <tr>\n",
       "      <th>2</th>\n",
       "      <td>Clara</td>\n",
       "      <td>30</td>\n",
       "      <td>Cadiz</td>\n",
       "      <td>14000</td>\n",
       "    </tr>\n",
       "    <tr>\n",
       "      <th>3</th>\n",
       "      <td>Silvia</td>\n",
       "      <td>26</td>\n",
       "      <td>Hospitalet</td>\n",
       "      <td>26000</td>\n",
       "    </tr>\n",
       "  </tbody>\n",
       "</table>\n",
       "</div>"
      ],
      "text/plain": [
       "      Nom  Edat       Barri  Salari\n",
       "2   Clara    30       Cadiz   14000\n",
       "3  Silvia    26  Hospitalet   26000"
      ]
     },
     "execution_count": 13,
     "metadata": {},
     "output_type": "execute_result"
    }
   ],
   "source": [
    "majors_de_25 = df[df[\"Edat\"] > 25]\n",
    "majors_de_25"
   ]
  },
  {
   "cell_type": "markdown",
   "id": "6afbfb59",
   "metadata": {},
   "source": [
    "# Trabajar con DataFrames de Pandas 1\n",
    "Crea un DataFrame llamado libros_df con la siguiente información sobre libros:\n",
    "\n",
    "Los títulos son: \"El Quijote\", \"Cien años de soledad\", \"La odisea\"\n",
    "\n",
    "Los autores son \"Miguel de Cervantes\", \"Gabriel García Márquez\", \"Homero\"\n",
    "\n",
    "Los años de publicación son 1605, 1967, y -800, respectivamente.\n",
    "\n",
    "\n",
    "\n",
    "Asegúrate de utilizar las columnas Titulo, Autor y Año."
   ]
  },
  {
   "cell_type": "code",
   "execution_count": 16,
   "id": "9326004d",
   "metadata": {},
   "outputs": [],
   "source": [
    "libro_df = pd.DataFrame({\n",
    "    \"Titulo\":[\"El Quijote\", \"Cien años de soledad\", \"La odisea\"],\n",
    "    \"Autor\":[\"Miguel de Cervantes\", \"Gabriel García Márquez\", \"Homero\"],\n",
    "    \"Año\":[1605,1967,-800]\n",
    "    \n",
    "})"
   ]
  },
  {
   "cell_type": "code",
   "execution_count": 17,
   "id": "e32bae4b",
   "metadata": {},
   "outputs": [
    {
     "data": {
      "text/html": [
       "<div>\n",
       "<style scoped>\n",
       "    .dataframe tbody tr th:only-of-type {\n",
       "        vertical-align: middle;\n",
       "    }\n",
       "\n",
       "    .dataframe tbody tr th {\n",
       "        vertical-align: top;\n",
       "    }\n",
       "\n",
       "    .dataframe thead th {\n",
       "        text-align: right;\n",
       "    }\n",
       "</style>\n",
       "<table border=\"1\" class=\"dataframe\">\n",
       "  <thead>\n",
       "    <tr style=\"text-align: right;\">\n",
       "      <th></th>\n",
       "      <th>Titulo</th>\n",
       "      <th>Autor</th>\n",
       "      <th>Año</th>\n",
       "    </tr>\n",
       "  </thead>\n",
       "  <tbody>\n",
       "    <tr>\n",
       "      <th>0</th>\n",
       "      <td>El Quijote</td>\n",
       "      <td>Miguel de Cervantes</td>\n",
       "      <td>1605</td>\n",
       "    </tr>\n",
       "    <tr>\n",
       "      <th>1</th>\n",
       "      <td>Cien años de soledad</td>\n",
       "      <td>Gabriel García Márquez</td>\n",
       "      <td>1967</td>\n",
       "    </tr>\n",
       "    <tr>\n",
       "      <th>2</th>\n",
       "      <td>La odisea</td>\n",
       "      <td>Homero</td>\n",
       "      <td>-800</td>\n",
       "    </tr>\n",
       "  </tbody>\n",
       "</table>\n",
       "</div>"
      ],
      "text/plain": [
       "                 Titulo                   Autor   Año\n",
       "0            El Quijote     Miguel de Cervantes  1605\n",
       "1  Cien años de soledad  Gabriel García Márquez  1967\n",
       "2             La odisea                  Homero  -800"
      ]
     },
     "execution_count": 17,
     "metadata": {},
     "output_type": "execute_result"
    }
   ],
   "source": [
    "libro_df"
   ]
  },
  {
   "cell_type": "markdown",
   "id": "a7641b68",
   "metadata": {},
   "source": [
    "# Trabajar con DataFrames de Pandas 2\n",
    "Dado el DataFrame df con columnas Nombre, Edad y Ciudad, como se mostró en la lección, escribe un código para filtrar las filas que contienen personas de 25 años o más. Asegurate de guardar en el dataframe filtrado en una variable llamada: df_filtrado\n",
    "\n",
    "Observación:\n",
    "\n",
    "En estos ejercicios no tendrás el botón \"Ejecutar código\" por esta razón no podrás visualizar los datos generados. Si deseas visualizarlos podrás servirte de un cuaderno de Jupyter y luego probar el ejercicio con ayuda del botón: \"Ejecutar pruebas\""
   ]
  },
  {
   "cell_type": "code",
   "execution_count": 18,
   "id": "6efab59f",
   "metadata": {},
   "outputs": [],
   "source": [
    "data = {\n",
    "    'Nombre': ['Ana', 'Luis', 'Carlos', 'Sara'],\n",
    "    'Edad': [25, 30, 22, 27],\n",
    "    'Ciudad': ['Madrid', 'Barcelona', 'Valencia', 'Bilbao']\n",
    "}\n",
    "\n",
    "df = pd.DataFrame(data)"
   ]
  },
  {
   "cell_type": "code",
   "execution_count": 19,
   "id": "c83f3f92",
   "metadata": {},
   "outputs": [
    {
     "data": {
      "text/html": [
       "<div>\n",
       "<style scoped>\n",
       "    .dataframe tbody tr th:only-of-type {\n",
       "        vertical-align: middle;\n",
       "    }\n",
       "\n",
       "    .dataframe tbody tr th {\n",
       "        vertical-align: top;\n",
       "    }\n",
       "\n",
       "    .dataframe thead th {\n",
       "        text-align: right;\n",
       "    }\n",
       "</style>\n",
       "<table border=\"1\" class=\"dataframe\">\n",
       "  <thead>\n",
       "    <tr style=\"text-align: right;\">\n",
       "      <th></th>\n",
       "      <th>Nombre</th>\n",
       "      <th>Edad</th>\n",
       "      <th>Ciudad</th>\n",
       "    </tr>\n",
       "  </thead>\n",
       "  <tbody>\n",
       "    <tr>\n",
       "      <th>0</th>\n",
       "      <td>Ana</td>\n",
       "      <td>25</td>\n",
       "      <td>Madrid</td>\n",
       "    </tr>\n",
       "    <tr>\n",
       "      <th>1</th>\n",
       "      <td>Luis</td>\n",
       "      <td>30</td>\n",
       "      <td>Barcelona</td>\n",
       "    </tr>\n",
       "    <tr>\n",
       "      <th>2</th>\n",
       "      <td>Carlos</td>\n",
       "      <td>22</td>\n",
       "      <td>Valencia</td>\n",
       "    </tr>\n",
       "    <tr>\n",
       "      <th>3</th>\n",
       "      <td>Sara</td>\n",
       "      <td>27</td>\n",
       "      <td>Bilbao</td>\n",
       "    </tr>\n",
       "  </tbody>\n",
       "</table>\n",
       "</div>"
      ],
      "text/plain": [
       "   Nombre  Edad     Ciudad\n",
       "0     Ana    25     Madrid\n",
       "1    Luis    30  Barcelona\n",
       "2  Carlos    22   Valencia\n",
       "3    Sara    27     Bilbao"
      ]
     },
     "execution_count": 19,
     "metadata": {},
     "output_type": "execute_result"
    }
   ],
   "source": [
    "df"
   ]
  },
  {
   "cell_type": "code",
   "execution_count": 20,
   "id": "d14ea217",
   "metadata": {},
   "outputs": [],
   "source": [
    "df_filtrado = df[df[\"Edad\"] >= 25]"
   ]
  },
  {
   "cell_type": "code",
   "execution_count": 21,
   "id": "8850abf2",
   "metadata": {},
   "outputs": [
    {
     "data": {
      "text/html": [
       "<div>\n",
       "<style scoped>\n",
       "    .dataframe tbody tr th:only-of-type {\n",
       "        vertical-align: middle;\n",
       "    }\n",
       "\n",
       "    .dataframe tbody tr th {\n",
       "        vertical-align: top;\n",
       "    }\n",
       "\n",
       "    .dataframe thead th {\n",
       "        text-align: right;\n",
       "    }\n",
       "</style>\n",
       "<table border=\"1\" class=\"dataframe\">\n",
       "  <thead>\n",
       "    <tr style=\"text-align: right;\">\n",
       "      <th></th>\n",
       "      <th>Nombre</th>\n",
       "      <th>Edad</th>\n",
       "      <th>Ciudad</th>\n",
       "    </tr>\n",
       "  </thead>\n",
       "  <tbody>\n",
       "    <tr>\n",
       "      <th>0</th>\n",
       "      <td>Ana</td>\n",
       "      <td>25</td>\n",
       "      <td>Madrid</td>\n",
       "    </tr>\n",
       "    <tr>\n",
       "      <th>1</th>\n",
       "      <td>Luis</td>\n",
       "      <td>30</td>\n",
       "      <td>Barcelona</td>\n",
       "    </tr>\n",
       "    <tr>\n",
       "      <th>3</th>\n",
       "      <td>Sara</td>\n",
       "      <td>27</td>\n",
       "      <td>Bilbao</td>\n",
       "    </tr>\n",
       "  </tbody>\n",
       "</table>\n",
       "</div>"
      ],
      "text/plain": [
       "  Nombre  Edad     Ciudad\n",
       "0    Ana    25     Madrid\n",
       "1   Luis    30  Barcelona\n",
       "3   Sara    27     Bilbao"
      ]
     },
     "execution_count": 21,
     "metadata": {},
     "output_type": "execute_result"
    }
   ],
   "source": [
    "df_filtrado"
   ]
  },
  {
   "cell_type": "code",
   "execution_count": 22,
   "id": "a275af05",
   "metadata": {},
   "outputs": [],
   "source": [
    "df[\"Edad_en_10_años\"] = df[\"Edad\"] + 10"
   ]
  },
  {
   "cell_type": "code",
   "execution_count": 23,
   "id": "18f00940",
   "metadata": {},
   "outputs": [],
   "source": [
    "df[\"Ciudad\"] = df[\"Ciudad\"].str.upper()"
   ]
  },
  {
   "cell_type": "code",
   "execution_count": 24,
   "id": "ef531d74",
   "metadata": {
    "scrolled": true
   },
   "outputs": [
    {
     "data": {
      "text/html": [
       "<div>\n",
       "<style scoped>\n",
       "    .dataframe tbody tr th:only-of-type {\n",
       "        vertical-align: middle;\n",
       "    }\n",
       "\n",
       "    .dataframe tbody tr th {\n",
       "        vertical-align: top;\n",
       "    }\n",
       "\n",
       "    .dataframe thead th {\n",
       "        text-align: right;\n",
       "    }\n",
       "</style>\n",
       "<table border=\"1\" class=\"dataframe\">\n",
       "  <thead>\n",
       "    <tr style=\"text-align: right;\">\n",
       "      <th></th>\n",
       "      <th>Nombre</th>\n",
       "      <th>Edad</th>\n",
       "      <th>Ciudad</th>\n",
       "      <th>Edad_en_10_años</th>\n",
       "    </tr>\n",
       "  </thead>\n",
       "  <tbody>\n",
       "    <tr>\n",
       "      <th>0</th>\n",
       "      <td>Ana</td>\n",
       "      <td>25</td>\n",
       "      <td>MADRID</td>\n",
       "      <td>35</td>\n",
       "    </tr>\n",
       "    <tr>\n",
       "      <th>1</th>\n",
       "      <td>Luis</td>\n",
       "      <td>30</td>\n",
       "      <td>BARCELONA</td>\n",
       "      <td>40</td>\n",
       "    </tr>\n",
       "    <tr>\n",
       "      <th>2</th>\n",
       "      <td>Carlos</td>\n",
       "      <td>22</td>\n",
       "      <td>VALENCIA</td>\n",
       "      <td>32</td>\n",
       "    </tr>\n",
       "    <tr>\n",
       "      <th>3</th>\n",
       "      <td>Sara</td>\n",
       "      <td>27</td>\n",
       "      <td>BILBAO</td>\n",
       "      <td>37</td>\n",
       "    </tr>\n",
       "  </tbody>\n",
       "</table>\n",
       "</div>"
      ],
      "text/plain": [
       "   Nombre  Edad     Ciudad  Edad_en_10_años\n",
       "0     Ana    25     MADRID               35\n",
       "1    Luis    30  BARCELONA               40\n",
       "2  Carlos    22   VALENCIA               32\n",
       "3    Sara    27     BILBAO               37"
      ]
     },
     "execution_count": 24,
     "metadata": {},
     "output_type": "execute_result"
    }
   ],
   "source": [
    "df"
   ]
  },
  {
   "cell_type": "code",
   "execution_count": 38,
   "id": "bbadbe52",
   "metadata": {},
   "outputs": [],
   "source": [
    "\n",
    "df['Es_Mayor_de_25'] = df['Edad'] >= 25\n"
   ]
  },
  {
   "cell_type": "code",
   "execution_count": 39,
   "id": "4df9fcce",
   "metadata": {},
   "outputs": [
    {
     "data": {
      "text/html": [
       "<div>\n",
       "<style scoped>\n",
       "    .dataframe tbody tr th:only-of-type {\n",
       "        vertical-align: middle;\n",
       "    }\n",
       "\n",
       "    .dataframe tbody tr th {\n",
       "        vertical-align: top;\n",
       "    }\n",
       "\n",
       "    .dataframe thead th {\n",
       "        text-align: right;\n",
       "    }\n",
       "</style>\n",
       "<table border=\"1\" class=\"dataframe\">\n",
       "  <thead>\n",
       "    <tr style=\"text-align: right;\">\n",
       "      <th></th>\n",
       "      <th>Nombre</th>\n",
       "      <th>Edad</th>\n",
       "      <th>Ciudad</th>\n",
       "      <th>Edad_en_10_años</th>\n",
       "      <th>Es_Mayor_de_25</th>\n",
       "    </tr>\n",
       "  </thead>\n",
       "  <tbody>\n",
       "    <tr>\n",
       "      <th>0</th>\n",
       "      <td>Ana</td>\n",
       "      <td>25</td>\n",
       "      <td>MADRID</td>\n",
       "      <td>35</td>\n",
       "      <td>True</td>\n",
       "    </tr>\n",
       "    <tr>\n",
       "      <th>1</th>\n",
       "      <td>Luis</td>\n",
       "      <td>30</td>\n",
       "      <td>BARCELONA</td>\n",
       "      <td>40</td>\n",
       "      <td>True</td>\n",
       "    </tr>\n",
       "    <tr>\n",
       "      <th>2</th>\n",
       "      <td>Carlos</td>\n",
       "      <td>22</td>\n",
       "      <td>VALENCIA</td>\n",
       "      <td>32</td>\n",
       "      <td>False</td>\n",
       "    </tr>\n",
       "    <tr>\n",
       "      <th>3</th>\n",
       "      <td>Sara</td>\n",
       "      <td>27</td>\n",
       "      <td>BILBAO</td>\n",
       "      <td>37</td>\n",
       "      <td>True</td>\n",
       "    </tr>\n",
       "  </tbody>\n",
       "</table>\n",
       "</div>"
      ],
      "text/plain": [
       "   Nombre  Edad     Ciudad  Edad_en_10_años  Es_Mayor_de_25\n",
       "0     Ana    25     MADRID               35            True\n",
       "1    Luis    30  BARCELONA               40            True\n",
       "2  Carlos    22   VALENCIA               32           False\n",
       "3    Sara    27     BILBAO               37            True"
      ]
     },
     "execution_count": 39,
     "metadata": {},
     "output_type": "execute_result"
    }
   ],
   "source": [
    "df"
   ]
  },
  {
   "cell_type": "code",
   "execution_count": null,
   "id": "b203b184",
   "metadata": {},
   "outputs": [],
   "source": []
  },
  {
   "cell_type": "code",
   "execution_count": null,
   "id": "c401f734",
   "metadata": {},
   "outputs": [],
   "source": []
  }
 ],
 "metadata": {
  "kernelspec": {
   "display_name": "Python 3 (ipykernel)",
   "language": "python",
   "name": "python3"
  },
  "language_info": {
   "codemirror_mode": {
    "name": "ipython",
    "version": 3
   },
   "file_extension": ".py",
   "mimetype": "text/x-python",
   "name": "python",
   "nbconvert_exporter": "python",
   "pygments_lexer": "ipython3",
   "version": "3.11.5"
  }
 },
 "nbformat": 4,
 "nbformat_minor": 5
}
