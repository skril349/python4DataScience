{
 "cells": [
  {
   "cell_type": "code",
   "execution_count": 5,
   "id": "c0b8e021",
   "metadata": {},
   "outputs": [],
   "source": [
    "import pandas as pd"
   ]
  },
  {
   "cell_type": "code",
   "execution_count": 6,
   "id": "32657adf",
   "metadata": {},
   "outputs": [],
   "source": [
    "datos = {\"nombre\":[\"Pedro\",\"Juan\",\"Lorena\"], \"edad\":[25,49,23]}"
   ]
  },
  {
   "cell_type": "code",
   "execution_count": 7,
   "id": "56ececd1",
   "metadata": {},
   "outputs": [
    {
     "data": {
      "text/plain": [
       "{'nombre': ['Pedro', 'Juan', 'Lorena'], 'edad': [25, 49, 23]}"
      ]
     },
     "execution_count": 7,
     "metadata": {},
     "output_type": "execute_result"
    }
   ],
   "source": [
    "datos"
   ]
  },
  {
   "cell_type": "code",
   "execution_count": 8,
   "id": "6916c120",
   "metadata": {},
   "outputs": [],
   "source": [
    "df = pd.DataFrame(datos)"
   ]
  },
  {
   "cell_type": "code",
   "execution_count": 9,
   "id": "74f4b2f3",
   "metadata": {},
   "outputs": [
    {
     "data": {
      "text/html": [
       "<div>\n",
       "<style scoped>\n",
       "    .dataframe tbody tr th:only-of-type {\n",
       "        vertical-align: middle;\n",
       "    }\n",
       "\n",
       "    .dataframe tbody tr th {\n",
       "        vertical-align: top;\n",
       "    }\n",
       "\n",
       "    .dataframe thead th {\n",
       "        text-align: right;\n",
       "    }\n",
       "</style>\n",
       "<table border=\"1\" class=\"dataframe\">\n",
       "  <thead>\n",
       "    <tr style=\"text-align: right;\">\n",
       "      <th></th>\n",
       "      <th>nombre</th>\n",
       "      <th>edad</th>\n",
       "    </tr>\n",
       "  </thead>\n",
       "  <tbody>\n",
       "    <tr>\n",
       "      <th>0</th>\n",
       "      <td>Pedro</td>\n",
       "      <td>25</td>\n",
       "    </tr>\n",
       "    <tr>\n",
       "      <th>1</th>\n",
       "      <td>Juan</td>\n",
       "      <td>49</td>\n",
       "    </tr>\n",
       "    <tr>\n",
       "      <th>2</th>\n",
       "      <td>Lorena</td>\n",
       "      <td>23</td>\n",
       "    </tr>\n",
       "  </tbody>\n",
       "</table>\n",
       "</div>"
      ],
      "text/plain": [
       "   nombre  edad\n",
       "0   Pedro    25\n",
       "1    Juan    49\n",
       "2  Lorena    23"
      ]
     },
     "execution_count": 9,
     "metadata": {},
     "output_type": "execute_result"
    }
   ],
   "source": [
    "df"
   ]
  },
  {
   "cell_type": "code",
   "execution_count": 10,
   "id": "31c60929",
   "metadata": {},
   "outputs": [
    {
     "data": {
      "text/plain": [
       "pandas.core.frame.DataFrame"
      ]
     },
     "execution_count": 10,
     "metadata": {},
     "output_type": "execute_result"
    }
   ],
   "source": [
    "type(df)"
   ]
  },
  {
   "cell_type": "code",
   "execution_count": 11,
   "id": "c73656db",
   "metadata": {},
   "outputs": [
    {
     "data": {
      "text/plain": [
       "0     Pedro\n",
       "1      Juan\n",
       "2    Lorena\n",
       "Name: nombre, dtype: object"
      ]
     },
     "execution_count": 11,
     "metadata": {},
     "output_type": "execute_result"
    }
   ],
   "source": [
    "df[\"nombre\"]"
   ]
  },
  {
   "cell_type": "code",
   "execution_count": 13,
   "id": "bac940d4",
   "metadata": {},
   "outputs": [
    {
     "name": "stdout",
     "output_type": "stream",
     "text": [
      "0     Pedro\n",
      "1      Juan\n",
      "2    Lorena\n",
      "Name: nombre, dtype: object\n"
     ]
    },
    {
     "data": {
      "text/plain": [
       "pandas.core.series.Series"
      ]
     },
     "execution_count": 13,
     "metadata": {},
     "output_type": "execute_result"
    }
   ],
   "source": [
    "print(df.nombre)\n",
    "type(df.nombre)"
   ]
  },
  {
   "cell_type": "markdown",
   "id": "b5e7fd3b",
   "metadata": {},
   "source": [
    "exercici 1:\n"
   ]
  },
  {
   "cell_type": "code",
   "execution_count": 17,
   "id": "5ff37e70",
   "metadata": {},
   "outputs": [
    {
     "data": {
      "text/plain": [
       "{'nombre': ['Ana', 'Luis', 'Carlos'], 'edad': [30, 25, 40]}"
      ]
     },
     "execution_count": 17,
     "metadata": {},
     "output_type": "execute_result"
    }
   ],
   "source": [
    "data = {\"nombre\":[\"Ana\",\"Luis\",\"Carlos\"], \"edad\":[30,25,40]}\n",
    "data\n"
   ]
  },
  {
   "cell_type": "code",
   "execution_count": 18,
   "id": "485c9f10",
   "metadata": {},
   "outputs": [
    {
     "name": "stdout",
     "output_type": "stream",
     "text": [
      "   nombre  edad\n",
      "0     Ana    30\n",
      "1    Luis    25\n",
      "2  Carlos    40\n"
     ]
    }
   ],
   "source": [
    "df_empleados = pd.DataFrame(data)\n",
    "print(df_empleados)"
   ]
  },
  {
   "cell_type": "markdown",
   "id": "8ff829ac",
   "metadata": {},
   "source": [
    "Exercici 2"
   ]
  },
  {
   "cell_type": "code",
   "execution_count": 21,
   "id": "cab3e7bd",
   "metadata": {},
   "outputs": [
    {
     "name": "stdout",
     "output_type": "stream",
     "text": [
      "0    30\n",
      "1    25\n",
      "2    40\n",
      "Name: edad, dtype: int64\n"
     ]
    }
   ],
   "source": [
    "edades = df_empleados.edad\n",
    "print(edades)"
   ]
  },
  {
   "cell_type": "code",
   "execution_count": 26,
   "id": "5620557b",
   "metadata": {},
   "outputs": [
    {
     "ename": "TypeError",
     "evalue": "'Index' object is not callable",
     "output_type": "error",
     "traceback": [
      "\u001b[1;31m---------------------------------------------------------------------------\u001b[0m",
      "\u001b[1;31mTypeError\u001b[0m                                 Traceback (most recent call last)",
      "Cell \u001b[1;32mIn[26], line 1\u001b[0m\n\u001b[1;32m----> 1\u001b[0m shape_df \u001b[38;5;241m=\u001b[39m df\u001b[38;5;241m.\u001b[39mcolumns(df_empleados)\n\u001b[0;32m      2\u001b[0m shape_df\n",
      "\u001b[1;31mTypeError\u001b[0m: 'Index' object is not callable"
     ]
    }
   ],
   "source": [
    "shape_df = df.\n",
    "shape_df"
   ]
  },
  {
   "cell_type": "code",
   "execution_count": null,
   "id": "46c01869",
   "metadata": {},
   "outputs": [],
   "source": []
  },
  {
   "cell_type": "code",
   "execution_count": null,
   "id": "8d335c53",
   "metadata": {},
   "outputs": [],
   "source": []
  }
 ],
 "metadata": {
  "kernelspec": {
   "display_name": "Python 3 (ipykernel)",
   "language": "python",
   "name": "python3"
  },
  "language_info": {
   "codemirror_mode": {
    "name": "ipython",
    "version": 3
   },
   "file_extension": ".py",
   "mimetype": "text/x-python",
   "name": "python",
   "nbconvert_exporter": "python",
   "pygments_lexer": "ipython3",
   "version": "3.11.5"
  }
 },
 "nbformat": 4,
 "nbformat_minor": 5
}
