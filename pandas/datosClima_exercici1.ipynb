{
 "cells": [
  {
   "cell_type": "markdown",
   "id": "b35850bd-c0fe-42f5-afc0-4d63851c669e",
   "metadata": {},
   "source": [
    "## Ejercicio DataFrames en Pandas 1\r\n",
    "Crea un DataFrame llamado datos_clima usando Pandas para cargar un archivo CSV llamado \"clima.csv\" que supuestamente contiene datos sobre temperaturas y precipitaciones en diferentes ciudades. Asegúrate de importar Pandas antes de intentar cargar el archivo.\r\n",
    "\r\n",
    "Considera que tu archivo \"clima.csv\" se encuentra en la misma ubicación que el archivo de tu código, por lo cual puedes importarlo usando su nombre incluyendo la extensión .csv"
   ]
  },
  {
   "cell_type": "code",
   "execution_count": 2,
   "id": "f30761fa-3bbd-4e5b-9118-a54133398de7",
   "metadata": {},
   "outputs": [],
   "source": [
    "import pandas as pd"
   ]
  },
  {
   "cell_type": "code",
   "execution_count": 4,
   "id": "aba6941c-839c-440a-a93d-826aa379b342",
   "metadata": {},
   "outputs": [],
   "source": [
    "datos_clima = pd.read_csv(\"Precipitaciones.csv\")"
   ]
  },
  {
   "cell_type": "code",
   "execution_count": 6,
   "id": "125a5b54-526c-476a-b660-e72c8ab758c5",
   "metadata": {},
   "outputs": [
    {
     "data": {
      "text/html": [
       "<div>\n",
       "<style scoped>\n",
       "    .dataframe tbody tr th:only-of-type {\n",
       "        vertical-align: middle;\n",
       "    }\n",
       "\n",
       "    .dataframe tbody tr th {\n",
       "        vertical-align: top;\n",
       "    }\n",
       "\n",
       "    .dataframe thead th {\n",
       "        text-align: right;\n",
       "    }\n",
       "</style>\n",
       "<table border=\"1\" class=\"dataframe\">\n",
       "  <thead>\n",
       "    <tr style=\"text-align: right;\">\n",
       "      <th></th>\n",
       "      <th>region</th>\n",
       "      <th>enero</th>\n",
       "      <th>febrero</th>\n",
       "      <th>marzo</th>\n",
       "      <th>abril</th>\n",
       "      <th>mayo</th>\n",
       "      <th>junio</th>\n",
       "      <th>julio</th>\n",
       "      <th>agosto</th>\n",
       "      <th>septiembre</th>\n",
       "      <th>octubre</th>\n",
       "      <th>noviembre</th>\n",
       "      <th>diciembre</th>\n",
       "      <th>anual</th>\n",
       "    </tr>\n",
       "  </thead>\n",
       "  <tbody>\n",
       "    <tr>\n",
       "      <th>0</th>\n",
       "      <td>A CORUNA</td>\n",
       "      <td>240.5</td>\n",
       "      <td>293.4</td>\n",
       "      <td>31.0</td>\n",
       "      <td>80.6</td>\n",
       "      <td>149.5</td>\n",
       "      <td>108.9</td>\n",
       "      <td>44.6</td>\n",
       "      <td>21.8</td>\n",
       "      <td>96.5</td>\n",
       "      <td>154.5</td>\n",
       "      <td>100.8</td>\n",
       "      <td>214.8</td>\n",
       "      <td>1536.9</td>\n",
       "    </tr>\n",
       "    <tr>\n",
       "      <th>1</th>\n",
       "      <td>ALBACETE</td>\n",
       "      <td>68.1</td>\n",
       "      <td>28.0</td>\n",
       "      <td>26.2</td>\n",
       "      <td>65.3</td>\n",
       "      <td>25.4</td>\n",
       "      <td>50.0</td>\n",
       "      <td>2.0</td>\n",
       "      <td>34.5</td>\n",
       "      <td>48.0</td>\n",
       "      <td>44.8</td>\n",
       "      <td>33.1</td>\n",
       "      <td>14.1</td>\n",
       "      <td>439.5</td>\n",
       "    </tr>\n",
       "    <tr>\n",
       "      <th>2</th>\n",
       "      <td>ALICANTE</td>\n",
       "      <td>49.2</td>\n",
       "      <td>3.7</td>\n",
       "      <td>63.2</td>\n",
       "      <td>85.8</td>\n",
       "      <td>57.2</td>\n",
       "      <td>20.0</td>\n",
       "      <td>9.2</td>\n",
       "      <td>5.0</td>\n",
       "      <td>44.0</td>\n",
       "      <td>41.1</td>\n",
       "      <td>47.4</td>\n",
       "      <td>1.8</td>\n",
       "      <td>427.6</td>\n",
       "    </tr>\n",
       "    <tr>\n",
       "      <th>3</th>\n",
       "      <td>ALMERIA</td>\n",
       "      <td>56.3</td>\n",
       "      <td>5.2</td>\n",
       "      <td>35.8</td>\n",
       "      <td>43.1</td>\n",
       "      <td>38.8</td>\n",
       "      <td>16.9</td>\n",
       "      <td>10.2</td>\n",
       "      <td>1.9</td>\n",
       "      <td>17.4</td>\n",
       "      <td>27.3</td>\n",
       "      <td>32.6</td>\n",
       "      <td>3.2</td>\n",
       "      <td>288.7</td>\n",
       "    </tr>\n",
       "    <tr>\n",
       "      <th>4</th>\n",
       "      <td>ARABA</td>\n",
       "      <td>96.8</td>\n",
       "      <td>79.9</td>\n",
       "      <td>38.0</td>\n",
       "      <td>52.0</td>\n",
       "      <td>37.7</td>\n",
       "      <td>107.8</td>\n",
       "      <td>8.5</td>\n",
       "      <td>17.7</td>\n",
       "      <td>63.3</td>\n",
       "      <td>38.5</td>\n",
       "      <td>212.2</td>\n",
       "      <td>197.3</td>\n",
       "      <td>949.7</td>\n",
       "    </tr>\n",
       "  </tbody>\n",
       "</table>\n",
       "</div>"
      ],
      "text/plain": [
       "     region  enero  febrero  marzo  abril   mayo  junio  julio  agosto  \\\n",
       "0  A CORUNA  240.5    293.4   31.0   80.6  149.5  108.9   44.6    21.8   \n",
       "1  ALBACETE   68.1     28.0   26.2   65.3   25.4   50.0    2.0    34.5   \n",
       "2  ALICANTE   49.2      3.7   63.2   85.8   57.2   20.0    9.2     5.0   \n",
       "3   ALMERIA   56.3      5.2   35.8   43.1   38.8   16.9   10.2     1.9   \n",
       "4     ARABA   96.8     79.9   38.0   52.0   37.7  107.8    8.5    17.7   \n",
       "\n",
       "   septiembre  octubre  noviembre  diciembre   anual  \n",
       "0        96.5    154.5      100.8      214.8  1536.9  \n",
       "1        48.0     44.8       33.1       14.1   439.5  \n",
       "2        44.0     41.1       47.4        1.8   427.6  \n",
       "3        17.4     27.3       32.6        3.2   288.7  \n",
       "4        63.3     38.5      212.2      197.3   949.7  "
      ]
     },
     "execution_count": 6,
     "metadata": {},
     "output_type": "execute_result"
    }
   ],
   "source": [
    "datos_clima.head()"
   ]
  },
  {
   "cell_type": "code",
   "execution_count": 12,
   "id": "81ca005e-da70-4aac-be3e-7d6864e714b3",
   "metadata": {},
   "outputs": [
    {
     "data": {
      "text/plain": [
       "0    A CORUNA\n",
       "1    ALBACETE\n",
       "2    ALICANTE\n",
       "3     ALMERIA\n",
       "4       ARABA\n",
       "Name: region, dtype: object"
      ]
     },
     "execution_count": 12,
     "metadata": {},
     "output_type": "execute_result"
    }
   ],
   "source": [
    "serie = datos_clima[\"region\"]\n",
    "serie.head()"
   ]
  },
  {
   "cell_type": "code",
   "execution_count": 14,
   "id": "e9729fca-e031-4d61-9340-6e25fa59dbd5",
   "metadata": {},
   "outputs": [],
   "source": [
    "datos = [10,20,30,40,50]\n",
    "series = pd.Series(datos)"
   ]
  },
  {
   "cell_type": "code",
   "execution_count": 16,
   "id": "010d00ae-4aa5-4d22-b9ac-0e99f82cf303",
   "metadata": {},
   "outputs": [
    {
     "data": {
      "text/plain": [
       "0    10\n",
       "1    20\n",
       "2    30\n",
       "3    40\n",
       "4    50\n",
       "dtype: int64"
      ]
     },
     "execution_count": 16,
     "metadata": {},
     "output_type": "execute_result"
    }
   ],
   "source": [
    "series"
   ]
  },
  {
   "cell_type": "code",
   "execution_count": 18,
   "id": "bedd7501-f575-41e3-84f5-577b637e648c",
   "metadata": {},
   "outputs": [],
   "source": [
    "index = [\"a\",\"b\",\"c\",\"d\",\"e\"]\n",
    "series = pd.Series(datos, index)"
   ]
  },
  {
   "cell_type": "code",
   "execution_count": 20,
   "id": "70668015-0e0a-408f-b51d-eac2fe64aa25",
   "metadata": {},
   "outputs": [
    {
     "data": {
      "text/plain": [
       "a    10\n",
       "b    20\n",
       "c    30\n",
       "d    40\n",
       "e    50\n",
       "dtype: int64"
      ]
     },
     "execution_count": 20,
     "metadata": {},
     "output_type": "execute_result"
    }
   ],
   "source": [
    "series"
   ]
  },
  {
   "cell_type": "code",
   "execution_count": 22,
   "id": "d69ceca3-4dfc-4198-b336-5d34a605a870",
   "metadata": {},
   "outputs": [
    {
     "data": {
      "text/plain": [
       "20"
      ]
     },
     "execution_count": 22,
     "metadata": {},
     "output_type": "execute_result"
    }
   ],
   "source": [
    "series[\"b\"]"
   ]
  },
  {
   "cell_type": "code",
   "execution_count": 28,
   "id": "9c75dab9-f3ea-4ece-9a90-c0077847fe0d",
   "metadata": {},
   "outputs": [
    {
     "data": {
      "text/plain": [
       "a    20\n",
       "b    30\n",
       "c    40\n",
       "d    50\n",
       "e    60\n",
       "dtype: int64"
      ]
     },
     "execution_count": 28,
     "metadata": {},
     "output_type": "execute_result"
    }
   ],
   "source": [
    "serie_sum = series + 10\n",
    "serie_sum"
   ]
  },
  {
   "cell_type": "code",
   "execution_count": 34,
   "id": "b47587bf-c62d-4f3b-ac2f-634f1a525ccc",
   "metadata": {},
   "outputs": [
    {
     "data": {
      "text/plain": [
       "a    20\n",
       "b    35\n",
       "c    40\n",
       "d    50\n",
       "e    60\n",
       "dtype: int64"
      ]
     },
     "execution_count": 34,
     "metadata": {},
     "output_type": "execute_result"
    }
   ],
   "source": [
    "serie_sum[\"b\"] = serie_sum[\"b\"] - 5\n",
    "serie_sum"
   ]
  }
 ],
 "metadata": {
  "kernelspec": {
   "display_name": "Python 3 (ipykernel)",
   "language": "python",
   "name": "python3"
  },
  "language_info": {
   "codemirror_mode": {
    "name": "ipython",
    "version": 3
   },
   "file_extension": ".py",
   "mimetype": "text/x-python",
   "name": "python",
   "nbconvert_exporter": "python",
   "pygments_lexer": "ipython3",
   "version": "3.11.7"
  }
 },
 "nbformat": 4,
 "nbformat_minor": 5
}
