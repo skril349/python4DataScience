{
 "cells": [
  {
   "cell_type": "markdown",
   "id": "fb08f071-9210-4ebc-ae5a-6bc782edd174",
   "metadata": {},
   "source": [
    "## Ejercicio Tipos de Datos en Pandas 3\r\n",
    "Dado el DataFrame df_empleados creado en el ejercicio anterior:\r\n",
    "\r\n",
    "La columna nombre debe contener los nombres de tres empleados: 'Ana', 'Luis' y 'Carlos'\r\n",
    "\r\n",
    "La columna edad debe contener las edades correspondientes: 30, 25 y 40\r\n",
    "\r\n",
    "Para explorar sus atributos principales: shape, columns, y index.\r\n",
    "\r\n",
    "Utilizando las siguientes variables respectivamente: shape_df, columns_df, index_df \r\n",
    "\r\n",
    "Imprime los resultados de cada exploración para demostrar tu comprensión de la estructura de los DataFrames y las Series en Pandas.\r\n",
    "\r\n",
    "El resultado esperado es el siguiente:\r\n",
    "\r\n",
    "\r\n",
    "\r\n",
    "No te preocupes si en este momento no entiendes del todo estos resultados, porque en la próxima lección los veremos a detalle."
   ]
  },
  {
   "cell_type": "code",
   "execution_count": 2,
   "id": "7da90a59-124e-45c2-ba62-7690d72b4fb0",
   "metadata": {},
   "outputs": [],
   "source": [
    "import pandas as pd"
   ]
  },
  {
   "cell_type": "code",
   "execution_count": 4,
   "id": "7b6c92dd-c78e-4f2f-896e-4eaa0c109fc5",
   "metadata": {},
   "outputs": [],
   "source": [
    "datos = {\"nombres\":['Ana', 'Luis' ,'Carlos'], \"edades\":[30,25,40]}"
   ]
  },
  {
   "cell_type": "code",
   "execution_count": 6,
   "id": "8b5da606-ee95-4815-a086-490acc85590f",
   "metadata": {},
   "outputs": [],
   "source": [
    "df_empleados = pd.DataFrame(datos)"
   ]
  },
  {
   "cell_type": "code",
   "execution_count": 12,
   "id": "ebbee27c-825e-4b1a-b5ac-1dd083ed6580",
   "metadata": {},
   "outputs": [
    {
     "data": {
      "text/plain": [
       "(3, 2)"
      ]
     },
     "execution_count": 12,
     "metadata": {},
     "output_type": "execute_result"
    }
   ],
   "source": [
    "shape_df = df_empleados.shape\n",
    "shape_df"
   ]
  },
  {
   "cell_type": "code",
   "execution_count": 16,
   "id": "0d37b233-9810-4061-9210-36afcb5068f0",
   "metadata": {},
   "outputs": [
    {
     "data": {
      "text/plain": [
       "Index(['nombres', 'edades'], dtype='object')"
      ]
     },
     "execution_count": 16,
     "metadata": {},
     "output_type": "execute_result"
    }
   ],
   "source": [
    "df_columns = df_empleados.columns\n",
    "df_columns"
   ]
  },
  {
   "cell_type": "code",
   "execution_count": 18,
   "id": "72939100-40f4-4fd3-a2ae-d3088f247e82",
   "metadata": {},
   "outputs": [
    {
     "data": {
      "text/plain": [
       "RangeIndex(start=0, stop=3, step=1)"
      ]
     },
     "execution_count": 18,
     "metadata": {},
     "output_type": "execute_result"
    }
   ],
   "source": [
    "df_index = df_empleados.index\n",
    "df_index"
   ]
  }
 ],
 "metadata": {
  "kernelspec": {
   "display_name": "Python 3 (ipykernel)",
   "language": "python",
   "name": "python3"
  },
  "language_info": {
   "codemirror_mode": {
    "name": "ipython",
    "version": 3
   },
   "file_extension": ".py",
   "mimetype": "text/x-python",
   "name": "python",
   "nbconvert_exporter": "python",
   "pygments_lexer": "ipython3",
   "version": "3.11.7"
  }
 },
 "nbformat": 4,
 "nbformat_minor": 5
}
