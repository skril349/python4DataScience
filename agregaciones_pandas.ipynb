{
 "cells": [
  {
   "cell_type": "code",
   "execution_count": 1,
   "id": "ef01cc41",
   "metadata": {},
   "outputs": [],
   "source": [
    "import pandas as pd"
   ]
  },
  {
   "cell_type": "code",
   "execution_count": 2,
   "id": "0d9c382c",
   "metadata": {},
   "outputs": [
    {
     "data": {
      "text/plain": [
       "0    10\n",
       "1    20\n",
       "2    30\n",
       "3    40\n",
       "4    50\n",
       "dtype: int64"
      ]
     },
     "execution_count": 2,
     "metadata": {},
     "output_type": "execute_result"
    }
   ],
   "source": [
    "numeros = pd.Series([10,20,30,40,50])\n",
    "numeros"
   ]
  },
  {
   "cell_type": "code",
   "execution_count": 3,
   "id": "957198d4",
   "metadata": {},
   "outputs": [
    {
     "name": "stdout",
     "output_type": "stream",
     "text": [
      "El promedio es 30.0\n"
     ]
    }
   ],
   "source": [
    "promedio = numeros.mean()\n",
    "print(\"El promedio es {}\".format(promedio))"
   ]
  },
  {
   "cell_type": "code",
   "execution_count": 4,
   "id": "ddaf06b6",
   "metadata": {},
   "outputs": [
    {
     "data": {
      "text/plain": [
       "150"
      ]
     },
     "execution_count": 4,
     "metadata": {},
     "output_type": "execute_result"
    }
   ],
   "source": [
    "total = numeros.sum()\n",
    "total"
   ]
  },
  {
   "cell_type": "code",
   "execution_count": 7,
   "id": "31430aff",
   "metadata": {},
   "outputs": [
    {
     "data": {
      "text/plain": [
       "50"
      ]
     },
     "execution_count": 7,
     "metadata": {},
     "output_type": "execute_result"
    }
   ],
   "source": [
    "maximo = numeros.max()\n",
    "maximo"
   ]
  },
  {
   "cell_type": "code",
   "execution_count": 8,
   "id": "c8448a35",
   "metadata": {},
   "outputs": [
    {
     "data": {
      "text/plain": [
       "10"
      ]
     },
     "execution_count": 8,
     "metadata": {},
     "output_type": "execute_result"
    }
   ],
   "source": [
    "minimo = numeros.min()\n",
    "minimo"
   ]
  },
  {
   "cell_type": "markdown",
   "id": "36d96346",
   "metadata": {},
   "source": [
    "# Agregación de Series en Pandas 2\n",
    "Dada lista con los siguientes valores de ventas diarias de una tienda en una semana:\n",
    "\n",
    "ventas = [120, 150, 90, 200, 210, 130, 160], realiza las siguientes tareas:\n",
    "\n",
    "\n",
    "\n",
    "Crea una serie de Pandas con los días de la semana como índice  (asumiendo que el primer valor corresponde al Lunes).\n",
    "\n",
    "Calcula y muestra la suma total de las ventas de la semana. Almacena este valor en una variable llamada: suma_total_ventas\n",
    "\n",
    "Encuentra y muestra el día de mayores ventas. Almacena este valor en una variable llamada: dia_mayores_ventas\n",
    "\n",
    "Calcula y muestra el promedio de ventas de la semana. Almacena este valor en una variable llamada: promedio_ventas"
   ]
  },
  {
   "cell_type": "code",
   "execution_count": 13,
   "id": "4ff211ae",
   "metadata": {},
   "outputs": [
    {
     "name": "stdout",
     "output_type": "stream",
     "text": [
      "Lunes        120\n",
      "Martes       150\n",
      "Miercoles     90\n",
      "Jueves       200\n",
      "Viernes      210\n",
      "Sábado       130\n",
      "Domingo      160\n",
      "dtype: int64\n"
     ]
    },
    {
     "data": {
      "text/plain": [
       "1060"
      ]
     },
     "execution_count": 13,
     "metadata": {},
     "output_type": "execute_result"
    }
   ],
   "source": [
    "ventasL = [120, 150, 90, 200, 210, 130, 160]\n",
    "dias = [\"Lunes\",\"Martes\",\"Miercoles\",\"Jueves\",\"Viernes\",\"Sábado\",\"Domingo\"]\n",
    "ventas = pd.Series(ventasL, dias)\n",
    "print(ventas)\n",
    "sum_total_ventas = ventas.sum()\n",
    "sum_total_ventas"
   ]
  },
  {
   "cell_type": "code",
   "execution_count": 21,
   "id": "77a83a85",
   "metadata": {},
   "outputs": [
    {
     "data": {
      "text/plain": [
       "210"
      ]
     },
     "execution_count": 21,
     "metadata": {},
     "output_type": "execute_result"
    }
   ],
   "source": [
    "dia_mayores_ventas = ventas.max()\n",
    "dia_mayores_ventas"
   ]
  },
  {
   "cell_type": "code",
   "execution_count": 22,
   "id": "9569e52a",
   "metadata": {},
   "outputs": [
    {
     "data": {
      "text/plain": [
       "151.42857142857142"
      ]
     },
     "execution_count": 22,
     "metadata": {},
     "output_type": "execute_result"
    }
   ],
   "source": [
    "dia_mayores_ventas = ventas.mean()\n",
    "dia_mayores_ventas"
   ]
  },
  {
   "cell_type": "code",
   "execution_count": null,
   "id": "570bc750",
   "metadata": {},
   "outputs": [],
   "source": []
  },
  {
   "cell_type": "code",
   "execution_count": null,
   "id": "06b042bb",
   "metadata": {},
   "outputs": [],
   "source": []
  }
 ],
 "metadata": {
  "kernelspec": {
   "display_name": "Python 3 (ipykernel)",
   "language": "python",
   "name": "python3"
  },
  "language_info": {
   "codemirror_mode": {
    "name": "ipython",
    "version": 3
   },
   "file_extension": ".py",
   "mimetype": "text/x-python",
   "name": "python",
   "nbconvert_exporter": "python",
   "pygments_lexer": "ipython3",
   "version": "3.11.5"
  }
 },
 "nbformat": 4,
 "nbformat_minor": 5
}
