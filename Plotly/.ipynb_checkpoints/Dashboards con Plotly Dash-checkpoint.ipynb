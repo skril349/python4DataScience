{
 "cells": [
  {
   "cell_type": "markdown",
   "id": "5c34829b",
   "metadata": {},
   "source": [
    "# Dashboards con Plotly Dash\n",
    "\n",
    "Y ahora sí vamos a dar el gran salto con plotly, porque una cosa es crear gráficos, otra cosa es crear gráficos interactivos, pero esto ya se pasa de lo que te esperabas, porque ahora vamos a aprender a crear **dasboards de gráficos interactivos**.\n",
    "\n",
    "Un dashboard es una especie de **tablero** que además de mostrar uno o más gráficos interactivos, permite realizar acciones en una especie de **aplicación dedicada**, para que el usuario maneje los controles de ese tablero.\n",
    "\n",
    "Para disponer de esta gran herramienta, primero tenemos que importar a `dash`, y algunos elementos más que nos van a brindar todos los recursos necesarios."
   ]
  },
  {
   "cell_type": "code",
   "execution_count": 4,
   "id": "297b7c3e",
   "metadata": {},
   "outputs": [
    {
     "name": "stdout",
     "output_type": "stream",
     "text": [
      "Collecting dash\n",
      "  Obtaining dependency information for dash from https://files.pythonhosted.org/packages/27/ad/7047095224013ec2ae37ba8ece5956773e7953c39a3af5aa20d821ed99aa/dash-2.17.1-py3-none-any.whl.metadata\n",
      "  Downloading dash-2.17.1-py3-none-any.whl.metadata (10 kB)\n",
      "Requirement already satisfied: Flask<3.1,>=1.0.4 in c:\\users\\tvive\\anaconda3\\lib\\site-packages (from dash) (2.2.2)\n",
      "Requirement already satisfied: Werkzeug<3.1 in c:\\users\\tvive\\anaconda3\\lib\\site-packages (from dash) (2.2.3)\n",
      "Requirement already satisfied: plotly>=5.0.0 in c:\\users\\tvive\\anaconda3\\lib\\site-packages (from dash) (5.9.0)\n",
      "Collecting dash-html-components==2.0.0 (from dash)\n",
      "  Obtaining dependency information for dash-html-components==2.0.0 from https://files.pythonhosted.org/packages/75/65/1b16b853844ef59b2742a7de74a598f376ac0ab581f0dcc34db294e5c90e/dash_html_components-2.0.0-py3-none-any.whl.metadata\n",
      "  Downloading dash_html_components-2.0.0-py3-none-any.whl.metadata (3.8 kB)\n",
      "Collecting dash-core-components==2.0.0 (from dash)\n",
      "  Obtaining dependency information for dash-core-components==2.0.0 from https://files.pythonhosted.org/packages/00/9e/a29f726e84e531a36d56cff187e61d8c96d2cc253c5bcef9a7695acb7e6a/dash_core_components-2.0.0-py3-none-any.whl.metadata\n",
      "  Downloading dash_core_components-2.0.0-py3-none-any.whl.metadata (2.9 kB)\n",
      "Collecting dash-table==5.0.0 (from dash)\n",
      "  Obtaining dependency information for dash-table==5.0.0 from https://files.pythonhosted.org/packages/da/ce/43f77dc8e7bbad02a9f88d07bf794eaf68359df756a28bb9f2f78e255bb1/dash_table-5.0.0-py3-none-any.whl.metadata\n",
      "  Downloading dash_table-5.0.0-py3-none-any.whl.metadata (2.4 kB)\n",
      "Requirement already satisfied: importlib-metadata in c:\\users\\tvive\\anaconda3\\lib\\site-packages (from dash) (6.0.0)\n",
      "Requirement already satisfied: typing-extensions>=4.1.1 in c:\\users\\tvive\\anaconda3\\lib\\site-packages (from dash) (4.7.1)\n",
      "Requirement already satisfied: requests in c:\\users\\tvive\\anaconda3\\lib\\site-packages (from dash) (2.31.0)\n",
      "Collecting retrying (from dash)\n",
      "  Obtaining dependency information for retrying from https://files.pythonhosted.org/packages/8f/04/9e36f28be4c0532c0e9207ff9dc01fb13a2b0eb036476a213b0000837d0e/retrying-1.3.4-py3-none-any.whl.metadata\n",
      "  Downloading retrying-1.3.4-py3-none-any.whl.metadata (6.9 kB)\n",
      "Requirement already satisfied: nest-asyncio in c:\\users\\tvive\\anaconda3\\lib\\site-packages (from dash) (1.5.6)\n",
      "Requirement already satisfied: setuptools in c:\\users\\tvive\\anaconda3\\lib\\site-packages (from dash) (68.0.0)\n",
      "Requirement already satisfied: Jinja2>=3.0 in c:\\users\\tvive\\anaconda3\\lib\\site-packages (from Flask<3.1,>=1.0.4->dash) (3.1.2)\n",
      "Requirement already satisfied: itsdangerous>=2.0 in c:\\users\\tvive\\anaconda3\\lib\\site-packages (from Flask<3.1,>=1.0.4->dash) (2.0.1)\n",
      "Requirement already satisfied: click>=8.0 in c:\\users\\tvive\\anaconda3\\lib\\site-packages (from Flask<3.1,>=1.0.4->dash) (8.0.4)\n",
      "Requirement already satisfied: tenacity>=6.2.0 in c:\\users\\tvive\\anaconda3\\lib\\site-packages (from plotly>=5.0.0->dash) (8.2.2)\n",
      "Requirement already satisfied: MarkupSafe>=2.1.1 in c:\\users\\tvive\\anaconda3\\lib\\site-packages (from Werkzeug<3.1->dash) (2.1.1)\n",
      "Requirement already satisfied: zipp>=0.5 in c:\\users\\tvive\\anaconda3\\lib\\site-packages (from importlib-metadata->dash) (3.11.0)\n",
      "Requirement already satisfied: charset-normalizer<4,>=2 in c:\\users\\tvive\\anaconda3\\lib\\site-packages (from requests->dash) (2.0.4)\n",
      "Requirement already satisfied: idna<4,>=2.5 in c:\\users\\tvive\\anaconda3\\lib\\site-packages (from requests->dash) (3.4)\n",
      "Requirement already satisfied: urllib3<3,>=1.21.1 in c:\\users\\tvive\\anaconda3\\lib\\site-packages (from requests->dash) (1.26.16)\n",
      "Requirement already satisfied: certifi>=2017.4.17 in c:\\users\\tvive\\anaconda3\\lib\\site-packages (from requests->dash) (2023.7.22)\n",
      "Requirement already satisfied: six>=1.7.0 in c:\\users\\tvive\\anaconda3\\lib\\site-packages (from retrying->dash) (1.16.0)\n",
      "Requirement already satisfied: colorama in c:\\users\\tvive\\anaconda3\\lib\\site-packages (from click>=8.0->Flask<3.1,>=1.0.4->dash) (0.4.6)\n",
      "Downloading dash-2.17.1-py3-none-any.whl (7.5 MB)\n",
      "   ---------------------------------------- 0.0/7.5 MB ? eta -:--:--\n",
      "   - -------------------------------------- 0.3/7.5 MB 8.6 MB/s eta 0:00:01\n",
      "   ---------- ----------------------------- 1.9/7.5 MB 20.4 MB/s eta 0:00:01\n",
      "   --------------------- ------------------ 4.0/7.5 MB 28.1 MB/s eta 0:00:01\n",
      "   ----------------------------- ---------- 5.6/7.5 MB 35.8 MB/s eta 0:00:01\n",
      "   ------------------------------------ --- 6.9/7.5 MB 31.3 MB/s eta 0:00:01\n",
      "   ---------------------------------------- 7.5/7.5 MB 28.1 MB/s eta 0:00:00\n",
      "Downloading dash_core_components-2.0.0-py3-none-any.whl (3.8 kB)\n",
      "Downloading dash_html_components-2.0.0-py3-none-any.whl (4.1 kB)\n",
      "Downloading dash_table-5.0.0-py3-none-any.whl (3.9 kB)\n",
      "Downloading retrying-1.3.4-py3-none-any.whl (11 kB)\n",
      "Installing collected packages: dash-table, dash-html-components, dash-core-components, retrying, dash\n",
      "Successfully installed dash-2.17.1 dash-core-components-2.0.0 dash-html-components-2.0.0 dash-table-5.0.0 retrying-1.3.4\n"
     ]
    }
   ],
   "source": [
    "!pip install dash\n"
   ]
  },
  {
   "cell_type": "code",
   "execution_count": 3,
   "id": "8f1f1009",
   "metadata": {},
   "outputs": [
    {
     "ename": "ModuleNotFoundError",
     "evalue": "No module named 'dash'",
     "output_type": "error",
     "traceback": [
      "\u001b[1;31m---------------------------------------------------------------------------\u001b[0m",
      "\u001b[1;31mModuleNotFoundError\u001b[0m                       Traceback (most recent call last)",
      "Cell \u001b[1;32mIn[3], line 1\u001b[0m\n\u001b[1;32m----> 1\u001b[0m \u001b[38;5;28;01mimport\u001b[39;00m \u001b[38;5;21;01mdash\u001b[39;00m\n\u001b[0;32m      2\u001b[0m \u001b[38;5;28;01mfrom\u001b[39;00m \u001b[38;5;21;01mdash\u001b[39;00m \u001b[38;5;28;01mimport\u001b[39;00m dcc, html\n",
      "\u001b[1;31mModuleNotFoundError\u001b[0m: No module named 'dash'"
     ]
    }
   ],
   "source": [
    "import dash\n",
    "from dash import dcc, html"
   ]
  },
  {
   "cell_type": "markdown",
   "id": "79cefb5a",
   "metadata": {},
   "source": [
    "Para comenzar nuestro tablero, vamos a declarar una variable `app`, que es la que va a contener toda la aplicación que vamos a armar."
   ]
  },
  {
   "cell_type": "code",
   "execution_count": null,
   "id": "c82637a1",
   "metadata": {},
   "outputs": [],
   "source": [
    "app = dash.Dash(__name__)"
   ]
  },
  {
   "cell_type": "markdown",
   "id": "8ffb796f",
   "metadata": {},
   "source": [
    "`__name__` es un argumento especial que le dice a `dash` sobre qué archivo o sobre qué módulo Python está ejecutando la aplicación. Esto es algo que se explica más bién detrás de la cortina, pero básicamente poner `__name__` es una forma de establecer que este es el archivo principal del programa. Ya veremos al final de todo cómo esto cobra un poco más de sentido.\n",
    "\n",
    "Ahora que hemos definido un nombre para nuestra aplicación, y teniendo en cuenta que esta variable `app` contiene todos los recursos de `dash`, vamos a definir el primero de esos recursos que es `layout`, que sirve para definir cómo va a ser la **estructura de la app**.\n",
    "\n",
    "Te aclaro que ahora vamos a escribir algunas líneas de código que tienen el formato de otro lenguaje de programación que se llama **HTML**, y que es el lenguaje con el que se suele escribir las estructura de los sitios web. Esto no sería HTML propiamente dicho, sino una forma de implementar HTML desde python. Lo importante es que te ayudaría mucho entender HTML para aprovechar al máximo esta herramienta, pero mientras tanto vamos a ir con cosas muy básicas como para que le agarres el gusto."
   ]
  },
  {
   "cell_type": "code",
   "execution_count": null,
   "id": "b0480c42",
   "metadata": {},
   "outputs": [],
   "source": [
    "app.layout = html.Div(children=[\n",
    "    html.H1(children='Hola Dash'),\n",
    "    html.Div(children='Este es un subtítulo'),\n",
    "    dcc.Graph(id='grafico-ejemplo',\n",
    "             figure={\n",
    "                 'data': [\n",
    "                     {'x':[1, 2, 3], 'y':[4, 1, 2], 'type': 'bar', 'name': 'Bogotá'},\n",
    "                     {'x':[1, 2, 3], 'y':[2, 4, 5], 'type': 'bar', 'name': 'Buenos aires'}\n",
    "                 ],\n",
    "                 'layout': {'title': 'Visualización con Dash'}\n",
    "             })\n",
    "])"
   ]
  },
  {
   "cell_type": "markdown",
   "id": "405bb2fa",
   "metadata": {},
   "source": [
    "Por ahora no vemos nada, porque esto es apenas la definición de la `app`, pero aún no hemos ejecutado la `app`. Para hacerlo, ahora va a cobrar sentido el nombre `__name__` que usamos antes. Recuerda que ese nombre establece a la `app` como el archivo principal, es decir el archivo `__main__`."
   ]
  },
  {
   "cell_type": "code",
   "execution_count": null,
   "id": "33c3d723",
   "metadata": {},
   "outputs": [],
   "source": [
    "if __name__ == '__main__':\n",
    "    app.run_server(debug=True)"
   ]
  },
  {
   "cell_type": "markdown",
   "id": "6ae0bc99",
   "metadata": {},
   "source": [
    "Y ahora tenemos una aplicación incrustada dentro de nuestro cuaderno jupyter, que muestra los elementos HTML que hemos diseñado en el `layout`, entre los que se encuentra un gráfico de plotly con sus típicas interacciones.\n",
    "\n",
    "Con `dash` puedes crear muchos elementos interactivos para tus aplicaciones, como **desplegables**, **botones**, **segmentadores**, **filtros** y muchas cosas más. Como te puedes imaginar no vamos a ver todo en detalle, pero te quiero mostrar algunos ejemplos útiles para que entiendas la lógica, y que luego puedas investigar por tu cuenta.\n",
    "\n",
    "Vamos a diseñar una caja de texto, que pida información del usuario y que devuelva algo.\n",
    "\n",
    "**Nota**: *para evitar conflictos en el motor que ejecuta la app, sería recomendabler que ahora que vamos a escribir una nueva app dentro del mismo cuaderno, primero reinicies el kernel limpiando todas las salidas de celda previas. Esto puedes hacerlo desde la barra de herramientas del cuaderno en **Kernel**/**Restart & Clear Output**. Luego de ejecutar esta acción, saltea las celdas ateriores a esta, y solo ejecuta las que siguen.*"
   ]
  },
  {
   "cell_type": "code",
   "execution_count": null,
   "id": "602a5fa3",
   "metadata": {},
   "outputs": [],
   "source": [
    "import dash\n",
    "from dash import dcc, html"
   ]
  },
  {
   "cell_type": "code",
   "execution_count": null,
   "id": "99d9156c",
   "metadata": {},
   "outputs": [],
   "source": [
    "app = dash.Dash(__name__)"
   ]
  },
  {
   "cell_type": "code",
   "execution_count": null,
   "id": "30fd78ec",
   "metadata": {},
   "outputs": [],
   "source": [
    "app.layout = html.Div(children=[\n",
    "    dcc.Input(id='caja-texto', type='text', value=''),\n",
    "    html.Button('Enviar', id='boton'),\n",
    "    html.Div(id='salida-boton', children='')\n",
    "])"
   ]
  },
  {
   "cell_type": "code",
   "execution_count": null,
   "id": "793d0697",
   "metadata": {},
   "outputs": [],
   "source": [
    "if __name__ == '__main__':\n",
    "    app.run_server(debug=True)"
   ]
  },
  {
   "cell_type": "markdown",
   "id": "668994d5",
   "metadata": {},
   "source": [
    "Entonces aquí hemos escrito una aplicación que despliega en la pantalla los elementos que le hemos pedido, pero que por ahora esos elementos no hacen nada.\n",
    "\n",
    "Para poder establecer cómo deben interactuar esos elementos, ahora vamos a definir un elemento nuevo, que se llama `callback`. Un `callback` es una función que automáticamente actualiza parte de la interfaz de usuario cuando ocurre un cambio en los componentes interactivos. Esta función `callback` no va a ser llamada desde el código, sino que se va a ejecutar automáticamente cuando suceda algo en la aplicación, como por ejemplo, cuando el usuario haga clic en el botón **enviar**."
   ]
  },
  {
   "cell_type": "code",
   "execution_count": null,
   "id": "1c68c0fe",
   "metadata": {},
   "outputs": [],
   "source": [
    "@app.callback(\n",
    "dash.Output('salida-boton', 'children'),\n",
    "[dash.Input('boton', 'n_clicks')],\n",
    "[dash.State('caja-texto', 'value')])\n",
    "def actualizar_salida(n_clicks, valor):\n",
    "    if n_clicks == None:\n",
    "        return 'Introduzca un valor y presione el boton'\n",
    "    else:\n",
    "        return f'El valor ingresado es {valor}, y el botón fue presionado {n_clicks} veces'"
   ]
  },
  {
   "cell_type": "markdown",
   "id": "805aa742",
   "metadata": {},
   "source": [
    "Para ejecutar la aplicación con la incorporación del `callback` deberemos correr la función `run_server()` otra vez. Si ocurre algún conflicto, vuelve a reiniciar el Kernel y ejecuta solamente las celdas que correspondan a la secuencia siguiente:\n",
    "+ importar librerías\n",
    "+ declarar la app\n",
    "+ definir el layout\n",
    "+ definir la función callback\n",
    "+ ejecutar la aplicación"
   ]
  },
  {
   "cell_type": "code",
   "execution_count": null,
   "id": "bcff047c",
   "metadata": {},
   "outputs": [],
   "source": [
    "if __name__ == '__main__':\n",
    "    app.run_server(debug=True)"
   ]
  },
  {
   "cell_type": "markdown",
   "id": "6ad84dbf",
   "metadata": {},
   "source": [
    "Ahora que hemos entendido en general la **estructura de un dashboard**, y cómo crear elementos interactivos, pongamos todo es en un mismo plato, y armemos un dashboard más interesante, y que incluya un nuevo elemento: el **desplegable**.\n",
    "\n",
    "*Puedes reiniciar el Kernel y ejecutar solamente esta celda, en caso de haber conflicto*."
   ]
  },
  {
   "cell_type": "code",
   "execution_count": null,
   "id": "889a91b5",
   "metadata": {},
   "outputs": [],
   "source": [
    "import dash\n",
    "from dash import dcc, html\n",
    "import pandas as pd\n",
    "import plotly.express as px\n",
    "\n",
    "# Crear un DataFrame de ejemplo\n",
    "df = pd.DataFrame({\n",
    "    \"Fruta\": [\"Manzanas\", \"Naranjas\", \"Bananas\", \"Manzanas\", \"Naranjas\", \"Bananas\"],\n",
    "    \"Cantidad\": [4, 1, 2, 2, 4, 5],\n",
    "    \"Ciudad\": [\"BG\", \"BG\", \"BG\", \"BCN\", \"BCN\", \"BCN\"]})\n",
    "\n",
    "# Crear la aplicación Dash\n",
    "app = dash.Dash(__name__)\n",
    "\n",
    "# Definir el layout de la aplicación\n",
    "app.layout = html.Div(children=[\n",
    "    html.H1(children='Dashboard Interactivo Avanzado'),\n",
    "    dcc.Dropdown(\n",
    "        id='desplegable',\n",
    "        options=[{'label': 'Bogotá', 'value': 'BG'},\n",
    "                 {'label': 'Barcelona', 'value': 'BCN'}],\n",
    "        value='BG'),\n",
    "    dcc.Graph(id='grafico'),\n",
    "])\n",
    "\n",
    "# Callback para actualizar el gráfico basado en la selección del dropdown\n",
    "@app.callback(\n",
    "    dash.Output('grafico', 'figure'),\n",
    "    [dash.Input('desplegable', 'value')]\n",
    ")\n",
    "def actualizar_grafico(ciudad_seleccionada):\n",
    "    df_filtrado = df[df['Ciudad'] == ciudad_seleccionada]\n",
    "    fig = px.bar(df_filtrado, x='Fruta', y='Cantidad', color='Fruta')\n",
    "    return fig\n",
    "\n",
    "# Ejecutar la aplicación\n",
    "if __name__ == '__main__':\n",
    "    app.run_server(debug=True)\n"
   ]
  },
  {
   "cell_type": "markdown",
   "id": "41367d8b",
   "metadata": {},
   "source": [
    "Con esto ya estoy seguro de que tu interés por profundizar en plotly está garantizado, así que me voy yendo a la siguiente lección, donde seguro nos veremos pronto."
   ]
  },
  {
   "cell_type": "code",
   "execution_count": null,
   "id": "268b8bcc",
   "metadata": {},
   "outputs": [],
   "source": []
  }
 ],
 "metadata": {
  "kernelspec": {
   "display_name": "Python 3 (ipykernel)",
   "language": "python",
   "name": "python3"
  },
  "language_info": {
   "codemirror_mode": {
    "name": "ipython",
    "version": 3
   },
   "file_extension": ".py",
   "mimetype": "text/x-python",
   "name": "python",
   "nbconvert_exporter": "python",
   "pygments_lexer": "ipython3",
   "version": "3.11.5"
  }
 },
 "nbformat": 4,
 "nbformat_minor": 5
}
