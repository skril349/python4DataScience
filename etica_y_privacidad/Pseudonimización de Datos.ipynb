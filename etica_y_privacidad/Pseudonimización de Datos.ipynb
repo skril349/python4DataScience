{
 "cells": [
  {
   "cell_type": "code",
   "execution_count": 8,
   "id": "6674ae07",
   "metadata": {},
   "outputs": [],
   "source": [
    "import pandas as pd\n",
    "import uuid\n",
    "import hashlib"
   ]
  },
  {
   "cell_type": "code",
   "execution_count": 2,
   "id": "aef9f5e9",
   "metadata": {},
   "outputs": [],
   "source": [
    "data = pd.DataFrame({\n",
    "    \"nombre\":[\"Ana\",\"Juan\",\"Luis\",\"Pedro\",\"Silvina\"],\n",
    "    \"email\":[\"Ana@ejemplo.com\",\"Juan@ejemplo.com\",\"Luis@ejemplo.com\",\"Pedro@ejemplo.com\",\"Silvina@ejemplo.com\"],\n",
    "    \"ubicacion\":[\"A\",\"B\", \"C\", \"D\", \"E\"]\n",
    "})"
   ]
  },
  {
   "cell_type": "code",
   "execution_count": 3,
   "id": "0a433318",
   "metadata": {},
   "outputs": [
    {
     "data": {
      "text/html": [
       "<div>\n",
       "<style scoped>\n",
       "    .dataframe tbody tr th:only-of-type {\n",
       "        vertical-align: middle;\n",
       "    }\n",
       "\n",
       "    .dataframe tbody tr th {\n",
       "        vertical-align: top;\n",
       "    }\n",
       "\n",
       "    .dataframe thead th {\n",
       "        text-align: right;\n",
       "    }\n",
       "</style>\n",
       "<table border=\"1\" class=\"dataframe\">\n",
       "  <thead>\n",
       "    <tr style=\"text-align: right;\">\n",
       "      <th></th>\n",
       "      <th>nombre</th>\n",
       "      <th>email</th>\n",
       "      <th>ubicacion</th>\n",
       "    </tr>\n",
       "  </thead>\n",
       "  <tbody>\n",
       "    <tr>\n",
       "      <th>0</th>\n",
       "      <td>Ana</td>\n",
       "      <td>Ana@ejemplo.com</td>\n",
       "      <td>A</td>\n",
       "    </tr>\n",
       "    <tr>\n",
       "      <th>1</th>\n",
       "      <td>Juan</td>\n",
       "      <td>Juan@ejemplo.com</td>\n",
       "      <td>B</td>\n",
       "    </tr>\n",
       "    <tr>\n",
       "      <th>2</th>\n",
       "      <td>Luis</td>\n",
       "      <td>Luis@ejemplo.com</td>\n",
       "      <td>C</td>\n",
       "    </tr>\n",
       "    <tr>\n",
       "      <th>3</th>\n",
       "      <td>Pedro</td>\n",
       "      <td>Pedro@ejemplo.com</td>\n",
       "      <td>D</td>\n",
       "    </tr>\n",
       "    <tr>\n",
       "      <th>4</th>\n",
       "      <td>Silvina</td>\n",
       "      <td>Silvina@ejemplo.com</td>\n",
       "      <td>E</td>\n",
       "    </tr>\n",
       "  </tbody>\n",
       "</table>\n",
       "</div>"
      ],
      "text/plain": [
       "    nombre                email ubicacion\n",
       "0      Ana      Ana@ejemplo.com         A\n",
       "1     Juan     Juan@ejemplo.com         B\n",
       "2     Luis     Luis@ejemplo.com         C\n",
       "3    Pedro    Pedro@ejemplo.com         D\n",
       "4  Silvina  Silvina@ejemplo.com         E"
      ]
     },
     "execution_count": 3,
     "metadata": {},
     "output_type": "execute_result"
    }
   ],
   "source": [
    "data"
   ]
  },
  {
   "cell_type": "code",
   "execution_count": 4,
   "id": "91d764d7",
   "metadata": {},
   "outputs": [],
   "source": [
    "id_pseudo = []"
   ]
  },
  {
   "cell_type": "code",
   "execution_count": 5,
   "id": "0962b72c",
   "metadata": {},
   "outputs": [],
   "source": [
    "for i in range(len(data)):\n",
    "    id_pseudo.append(str(uuid.uuid4()))"
   ]
  },
  {
   "cell_type": "code",
   "execution_count": 6,
   "id": "6bd6cc62",
   "metadata": {},
   "outputs": [
    {
     "data": {
      "text/plain": [
       "['0797cb8a-b7b6-44fc-9206-049b105f922e',\n",
       " '5df1ff87-84e0-4f02-9507-04247f25f249',\n",
       " '39172faa-9eb8-4b0f-a07a-8c6542a68e05',\n",
       " '0c0b2cc1-5fbc-4722-bd51-5a438ffb2621',\n",
       " 'fc730419-3059-40d4-aff8-ca612ff67f56']"
      ]
     },
     "execution_count": 6,
     "metadata": {},
     "output_type": "execute_result"
    }
   ],
   "source": [
    "id_pseudo"
   ]
  },
  {
   "cell_type": "code",
   "execution_count": 7,
   "id": "2ef3dac1",
   "metadata": {},
   "outputs": [
    {
     "data": {
      "text/html": [
       "<div>\n",
       "<style scoped>\n",
       "    .dataframe tbody tr th:only-of-type {\n",
       "        vertical-align: middle;\n",
       "    }\n",
       "\n",
       "    .dataframe tbody tr th {\n",
       "        vertical-align: top;\n",
       "    }\n",
       "\n",
       "    .dataframe thead th {\n",
       "        text-align: right;\n",
       "    }\n",
       "</style>\n",
       "<table border=\"1\" class=\"dataframe\">\n",
       "  <thead>\n",
       "    <tr style=\"text-align: right;\">\n",
       "      <th></th>\n",
       "      <th>email</th>\n",
       "      <th>ubicacion</th>\n",
       "      <th>id_pseudo</th>\n",
       "    </tr>\n",
       "  </thead>\n",
       "  <tbody>\n",
       "    <tr>\n",
       "      <th>0</th>\n",
       "      <td>Ana@ejemplo.com</td>\n",
       "      <td>A</td>\n",
       "      <td>0797cb8a-b7b6-44fc-9206-049b105f922e</td>\n",
       "    </tr>\n",
       "    <tr>\n",
       "      <th>1</th>\n",
       "      <td>Juan@ejemplo.com</td>\n",
       "      <td>B</td>\n",
       "      <td>5df1ff87-84e0-4f02-9507-04247f25f249</td>\n",
       "    </tr>\n",
       "    <tr>\n",
       "      <th>2</th>\n",
       "      <td>Luis@ejemplo.com</td>\n",
       "      <td>C</td>\n",
       "      <td>39172faa-9eb8-4b0f-a07a-8c6542a68e05</td>\n",
       "    </tr>\n",
       "    <tr>\n",
       "      <th>3</th>\n",
       "      <td>Pedro@ejemplo.com</td>\n",
       "      <td>D</td>\n",
       "      <td>0c0b2cc1-5fbc-4722-bd51-5a438ffb2621</td>\n",
       "    </tr>\n",
       "    <tr>\n",
       "      <th>4</th>\n",
       "      <td>Silvina@ejemplo.com</td>\n",
       "      <td>E</td>\n",
       "      <td>fc730419-3059-40d4-aff8-ca612ff67f56</td>\n",
       "    </tr>\n",
       "  </tbody>\n",
       "</table>\n",
       "</div>"
      ],
      "text/plain": [
       "                 email ubicacion                             id_pseudo\n",
       "0      Ana@ejemplo.com         A  0797cb8a-b7b6-44fc-9206-049b105f922e\n",
       "1     Juan@ejemplo.com         B  5df1ff87-84e0-4f02-9507-04247f25f249\n",
       "2     Luis@ejemplo.com         C  39172faa-9eb8-4b0f-a07a-8c6542a68e05\n",
       "3    Pedro@ejemplo.com         D  0c0b2cc1-5fbc-4722-bd51-5a438ffb2621\n",
       "4  Silvina@ejemplo.com         E  fc730419-3059-40d4-aff8-ca612ff67f56"
      ]
     },
     "execution_count": 7,
     "metadata": {},
     "output_type": "execute_result"
    }
   ],
   "source": [
    "data[\"id_pseudo\"] = id_pseudo\n",
    "data.drop([\"nombre\"], axis=1, inplace=True)\n",
    "data"
   ]
  },
  {
   "cell_type": "code",
   "execution_count": 12,
   "id": "7c313de4",
   "metadata": {},
   "outputs": [],
   "source": [
    "# Hashing\n",
    "def hash_data(data):\n",
    "    return hashlib.sha256(data.encode()).hexdigest()"
   ]
  },
  {
   "cell_type": "code",
   "execution_count": 10,
   "id": "f8b5ee29",
   "metadata": {},
   "outputs": [],
   "source": [
    "hash_emails = []"
   ]
  },
  {
   "cell_type": "code",
   "execution_count": 13,
   "id": "bd2ff64f",
   "metadata": {},
   "outputs": [
    {
     "data": {
      "text/html": [
       "<div>\n",
       "<style scoped>\n",
       "    .dataframe tbody tr th:only-of-type {\n",
       "        vertical-align: middle;\n",
       "    }\n",
       "\n",
       "    .dataframe tbody tr th {\n",
       "        vertical-align: top;\n",
       "    }\n",
       "\n",
       "    .dataframe thead th {\n",
       "        text-align: right;\n",
       "    }\n",
       "</style>\n",
       "<table border=\"1\" class=\"dataframe\">\n",
       "  <thead>\n",
       "    <tr style=\"text-align: right;\">\n",
       "      <th></th>\n",
       "      <th>email</th>\n",
       "      <th>ubicacion</th>\n",
       "      <th>id_pseudo</th>\n",
       "    </tr>\n",
       "  </thead>\n",
       "  <tbody>\n",
       "    <tr>\n",
       "      <th>0</th>\n",
       "      <td>f2afd7121dd8d0345afccd3e7601c7864172a0f04122c0...</td>\n",
       "      <td>A</td>\n",
       "      <td>0797cb8a-b7b6-44fc-9206-049b105f922e</td>\n",
       "    </tr>\n",
       "    <tr>\n",
       "      <th>1</th>\n",
       "      <td>ec003b385ff8150a7b02f0acc0dc892fcbf9ee32c05bdb...</td>\n",
       "      <td>B</td>\n",
       "      <td>5df1ff87-84e0-4f02-9507-04247f25f249</td>\n",
       "    </tr>\n",
       "    <tr>\n",
       "      <th>2</th>\n",
       "      <td>d0489c9e1f942e1282a0c2c7fe74242c56a7e647e4f3e8...</td>\n",
       "      <td>C</td>\n",
       "      <td>39172faa-9eb8-4b0f-a07a-8c6542a68e05</td>\n",
       "    </tr>\n",
       "    <tr>\n",
       "      <th>3</th>\n",
       "      <td>859bd1bb1aedc842e0a3cb6d13bab39e7be8d36e381cea...</td>\n",
       "      <td>D</td>\n",
       "      <td>0c0b2cc1-5fbc-4722-bd51-5a438ffb2621</td>\n",
       "    </tr>\n",
       "    <tr>\n",
       "      <th>4</th>\n",
       "      <td>9ccae6067180e04e263205978bac4b0285a0413dbbbef9...</td>\n",
       "      <td>E</td>\n",
       "      <td>fc730419-3059-40d4-aff8-ca612ff67f56</td>\n",
       "    </tr>\n",
       "  </tbody>\n",
       "</table>\n",
       "</div>"
      ],
      "text/plain": [
       "                                               email ubicacion  \\\n",
       "0  f2afd7121dd8d0345afccd3e7601c7864172a0f04122c0...         A   \n",
       "1  ec003b385ff8150a7b02f0acc0dc892fcbf9ee32c05bdb...         B   \n",
       "2  d0489c9e1f942e1282a0c2c7fe74242c56a7e647e4f3e8...         C   \n",
       "3  859bd1bb1aedc842e0a3cb6d13bab39e7be8d36e381cea...         D   \n",
       "4  9ccae6067180e04e263205978bac4b0285a0413dbbbef9...         E   \n",
       "\n",
       "                              id_pseudo  \n",
       "0  0797cb8a-b7b6-44fc-9206-049b105f922e  \n",
       "1  5df1ff87-84e0-4f02-9507-04247f25f249  \n",
       "2  39172faa-9eb8-4b0f-a07a-8c6542a68e05  \n",
       "3  0c0b2cc1-5fbc-4722-bd51-5a438ffb2621  \n",
       "4  fc730419-3059-40d4-aff8-ca612ff67f56  "
      ]
     },
     "execution_count": 13,
     "metadata": {},
     "output_type": "execute_result"
    }
   ],
   "source": [
    "for email in data[\"email\"]:\n",
    "    h_email = hash_data(email)\n",
    "    hash_emails.append(h_email)\n",
    "data[\"email\"] = hash_emails\n",
    "data"
   ]
  },
  {
   "cell_type": "code",
   "execution_count": 14,
   "id": "c287a7c6",
   "metadata": {},
   "outputs": [],
   "source": [
    "mis_tokens = {}"
   ]
  },
  {
   "cell_type": "code",
   "execution_count": 15,
   "id": "c7dadf98",
   "metadata": {},
   "outputs": [],
   "source": [
    "def tokenizar(dato):\n",
    "    token = str(uuid.uuid4())\n",
    "    mis_tokens[token] = dato\n",
    "    return token"
   ]
  },
  {
   "cell_type": "code",
   "execution_count": 16,
   "id": "8ab0abe0",
   "metadata": {},
   "outputs": [],
   "source": [
    "def recuperar_dato(token):\n",
    "    return mis_tokens.get(token,\"Token no valido\")"
   ]
  },
  {
   "cell_type": "code",
   "execution_count": 17,
   "id": "374a6046",
   "metadata": {},
   "outputs": [],
   "source": [
    "dato_original = \"123-456-789\"\n",
    "token = tokenizar(dato_original)\n"
   ]
  },
  {
   "cell_type": "code",
   "execution_count": 19,
   "id": "f79d866a",
   "metadata": {},
   "outputs": [
    {
     "name": "stdout",
     "output_type": "stream",
     "text": [
      "token generado = 5eb26fe5-0543-45c2-baa7-5d284b51a768\n",
      "dato recuperado = 123-456-789\n"
     ]
    },
    {
     "data": {
      "text/plain": [
       "{'5eb26fe5-0543-45c2-baa7-5d284b51a768': '123-456-789'}"
      ]
     },
     "execution_count": 19,
     "metadata": {},
     "output_type": "execute_result"
    }
   ],
   "source": [
    "print(f'token generado = {token}')\n",
    "print(f'dato recuperado = {recuperar_dato(token)}')\n",
    "mis_tokens"
   ]
  },
  {
   "cell_type": "code",
   "execution_count": null,
   "id": "91a0393d",
   "metadata": {},
   "outputs": [],
   "source": []
  },
  {
   "cell_type": "code",
   "execution_count": null,
   "id": "57e6b02b",
   "metadata": {},
   "outputs": [],
   "source": []
  },
  {
   "cell_type": "code",
   "execution_count": null,
   "id": "9415eeb3",
   "metadata": {},
   "outputs": [],
   "source": []
  },
  {
   "cell_type": "code",
   "execution_count": null,
   "id": "badc26e2",
   "metadata": {},
   "outputs": [],
   "source": []
  },
  {
   "cell_type": "code",
   "execution_count": null,
   "id": "9788916e",
   "metadata": {},
   "outputs": [],
   "source": []
  },
  {
   "cell_type": "code",
   "execution_count": null,
   "id": "e0a51475",
   "metadata": {},
   "outputs": [],
   "source": []
  }
 ],
 "metadata": {
  "kernelspec": {
   "display_name": "Python 3 (ipykernel)",
   "language": "python",
   "name": "python3"
  },
  "language_info": {
   "codemirror_mode": {
    "name": "ipython",
    "version": 3
   },
   "file_extension": ".py",
   "mimetype": "text/x-python",
   "name": "python",
   "nbconvert_exporter": "python",
   "pygments_lexer": "ipython3",
   "version": "3.11.5"
  }
 },
 "nbformat": 4,
 "nbformat_minor": 5
}
